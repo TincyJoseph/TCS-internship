{
 "cells": [
  {
   "cell_type": "code",
   "execution_count": 1,
   "metadata": {},
   "outputs": [],
   "source": [
    "import numpy as np\n",
    "import pandas as pd\n",
    "import matplotlib.pyplot as plt\n",
    "import seaborn as sns"
   ]
  },
  {
   "cell_type": "code",
   "execution_count": 2,
   "metadata": {},
   "outputs": [],
   "source": [
    "data=pd.read_csv(r\"D:\\Tincy\\datascience\\tcs_ion\\webmd.csv\\webmd.csv\")"
   ]
  },
  {
   "cell_type": "code",
   "execution_count": 3,
   "metadata": {},
   "outputs": [
    {
     "data": {
      "text/html": [
       "<div>\n",
       "<style scoped>\n",
       "    .dataframe tbody tr th:only-of-type {\n",
       "        vertical-align: middle;\n",
       "    }\n",
       "\n",
       "    .dataframe tbody tr th {\n",
       "        vertical-align: top;\n",
       "    }\n",
       "\n",
       "    .dataframe thead th {\n",
       "        text-align: right;\n",
       "    }\n",
       "</style>\n",
       "<table border=\"1\" class=\"dataframe\">\n",
       "  <thead>\n",
       "    <tr style=\"text-align: right;\">\n",
       "      <th></th>\n",
       "      <th>Age</th>\n",
       "      <th>Condition</th>\n",
       "      <th>Date</th>\n",
       "      <th>Drug</th>\n",
       "      <th>DrugId</th>\n",
       "      <th>EaseofUse</th>\n",
       "      <th>Effectiveness</th>\n",
       "      <th>Reviews</th>\n",
       "      <th>Satisfaction</th>\n",
       "      <th>Sex</th>\n",
       "      <th>Sides</th>\n",
       "      <th>UsefulCount</th>\n",
       "    </tr>\n",
       "  </thead>\n",
       "  <tbody>\n",
       "    <tr>\n",
       "      <th>0</th>\n",
       "      <td>75 or over</td>\n",
       "      <td>Stuffy Nose</td>\n",
       "      <td>9/21/2014</td>\n",
       "      <td>25dph-7.5peh</td>\n",
       "      <td>146724</td>\n",
       "      <td>5</td>\n",
       "      <td>5</td>\n",
       "      <td>I'm a retired physician and of all the meds I ...</td>\n",
       "      <td>5</td>\n",
       "      <td>Male</td>\n",
       "      <td>Drowsiness,  dizziness ,  dry mouth /nose/thro...</td>\n",
       "      <td>0</td>\n",
       "    </tr>\n",
       "    <tr>\n",
       "      <th>1</th>\n",
       "      <td>25-34</td>\n",
       "      <td>Cold Symptoms</td>\n",
       "      <td>1/13/2011</td>\n",
       "      <td>25dph-7.5peh</td>\n",
       "      <td>146724</td>\n",
       "      <td>5</td>\n",
       "      <td>5</td>\n",
       "      <td>cleared me right up even with my throat hurtin...</td>\n",
       "      <td>5</td>\n",
       "      <td>Female</td>\n",
       "      <td>Drowsiness,  dizziness ,  dry mouth /nose/thro...</td>\n",
       "      <td>1</td>\n",
       "    </tr>\n",
       "    <tr>\n",
       "      <th>2</th>\n",
       "      <td>65-74</td>\n",
       "      <td>Other</td>\n",
       "      <td>7/16/2012</td>\n",
       "      <td>warfarin (bulk) 100 % powder</td>\n",
       "      <td>144731</td>\n",
       "      <td>2</td>\n",
       "      <td>3</td>\n",
       "      <td>why did my PTINR go from a normal of 2.5 to ov...</td>\n",
       "      <td>3</td>\n",
       "      <td>Female</td>\n",
       "      <td></td>\n",
       "      <td>0</td>\n",
       "    </tr>\n",
       "    <tr>\n",
       "      <th>3</th>\n",
       "      <td>75 or over</td>\n",
       "      <td>Other</td>\n",
       "      <td>9/23/2010</td>\n",
       "      <td>warfarin (bulk) 100 % powder</td>\n",
       "      <td>144731</td>\n",
       "      <td>2</td>\n",
       "      <td>2</td>\n",
       "      <td>FALLING AND DON'T REALISE IT</td>\n",
       "      <td>1</td>\n",
       "      <td>Female</td>\n",
       "      <td></td>\n",
       "      <td>0</td>\n",
       "    </tr>\n",
       "    <tr>\n",
       "      <th>4</th>\n",
       "      <td>35-44</td>\n",
       "      <td>Other</td>\n",
       "      <td>1/6/2009</td>\n",
       "      <td>warfarin (bulk) 100 % powder</td>\n",
       "      <td>144731</td>\n",
       "      <td>1</td>\n",
       "      <td>1</td>\n",
       "      <td>My grandfather was prescribed this medication ...</td>\n",
       "      <td>1</td>\n",
       "      <td>Male</td>\n",
       "      <td></td>\n",
       "      <td>1</td>\n",
       "    </tr>\n",
       "  </tbody>\n",
       "</table>\n",
       "</div>"
      ],
      "text/plain": [
       "          Age      Condition       Date                          Drug  DrugId  \\\n",
       "0  75 or over    Stuffy Nose  9/21/2014                  25dph-7.5peh  146724   \n",
       "1       25-34  Cold Symptoms  1/13/2011                  25dph-7.5peh  146724   \n",
       "2       65-74          Other  7/16/2012  warfarin (bulk) 100 % powder  144731   \n",
       "3  75 or over          Other  9/23/2010  warfarin (bulk) 100 % powder  144731   \n",
       "4       35-44          Other   1/6/2009  warfarin (bulk) 100 % powder  144731   \n",
       "\n",
       "   EaseofUse  Effectiveness  \\\n",
       "0          5              5   \n",
       "1          5              5   \n",
       "2          2              3   \n",
       "3          2              2   \n",
       "4          1              1   \n",
       "\n",
       "                                             Reviews  Satisfaction     Sex  \\\n",
       "0  I'm a retired physician and of all the meds I ...             5    Male   \n",
       "1  cleared me right up even with my throat hurtin...             5  Female   \n",
       "2  why did my PTINR go from a normal of 2.5 to ov...             3  Female   \n",
       "3                       FALLING AND DON'T REALISE IT             1  Female   \n",
       "4  My grandfather was prescribed this medication ...             1    Male   \n",
       "\n",
       "                                               Sides  UsefulCount  \n",
       "0  Drowsiness,  dizziness ,  dry mouth /nose/thro...            0  \n",
       "1  Drowsiness,  dizziness ,  dry mouth /nose/thro...            1  \n",
       "2                                                               0  \n",
       "3                                                               0  \n",
       "4                                                               1  "
      ]
     },
     "execution_count": 3,
     "metadata": {},
     "output_type": "execute_result"
    }
   ],
   "source": [
    "data.head()"
   ]
  },
  {
   "cell_type": "code",
   "execution_count": 4,
   "metadata": {},
   "outputs": [
    {
     "data": {
      "text/plain": [
       "(362806, 12)"
      ]
     },
     "execution_count": 4,
     "metadata": {},
     "output_type": "execute_result"
    }
   ],
   "source": [
    "data.shape"
   ]
  },
  {
   "cell_type": "code",
   "execution_count": 5,
   "metadata": {},
   "outputs": [
    {
     "name": "stdout",
     "output_type": "stream",
     "text": [
      "<class 'pandas.core.frame.DataFrame'>\n",
      "RangeIndex: 362806 entries, 0 to 362805\n",
      "Data columns (total 12 columns):\n",
      "Age              362806 non-null object\n",
      "Condition        362806 non-null object\n",
      "Date             362806 non-null object\n",
      "Drug             362806 non-null object\n",
      "DrugId           362806 non-null int64\n",
      "EaseofUse        362806 non-null int64\n",
      "Effectiveness    362806 non-null int64\n",
      "Reviews          362769 non-null object\n",
      "Satisfaction     362806 non-null int64\n",
      "Sex              362806 non-null object\n",
      "Sides            362806 non-null object\n",
      "UsefulCount      362806 non-null int64\n",
      "dtypes: int64(5), object(7)\n",
      "memory usage: 33.2+ MB\n"
     ]
    }
   ],
   "source": [
    "data.info()"
   ]
  },
  {
   "cell_type": "code",
   "execution_count": 6,
   "metadata": {},
   "outputs": [
    {
     "data": {
      "text/html": [
       "<div>\n",
       "<style scoped>\n",
       "    .dataframe tbody tr th:only-of-type {\n",
       "        vertical-align: middle;\n",
       "    }\n",
       "\n",
       "    .dataframe tbody tr th {\n",
       "        vertical-align: top;\n",
       "    }\n",
       "\n",
       "    .dataframe thead th {\n",
       "        text-align: right;\n",
       "    }\n",
       "</style>\n",
       "<table border=\"1\" class=\"dataframe\">\n",
       "  <thead>\n",
       "    <tr style=\"text-align: right;\">\n",
       "      <th></th>\n",
       "      <th>DrugId</th>\n",
       "      <th>EaseofUse</th>\n",
       "      <th>Effectiveness</th>\n",
       "      <th>Satisfaction</th>\n",
       "      <th>UsefulCount</th>\n",
       "    </tr>\n",
       "  </thead>\n",
       "  <tbody>\n",
       "    <tr>\n",
       "      <th>count</th>\n",
       "      <td>362806.000000</td>\n",
       "      <td>362806.000000</td>\n",
       "      <td>362806.000000</td>\n",
       "      <td>362806.000000</td>\n",
       "      <td>362806.000000</td>\n",
       "    </tr>\n",
       "    <tr>\n",
       "      <th>mean</th>\n",
       "      <td>36879.370774</td>\n",
       "      <td>4.019829</td>\n",
       "      <td>3.532061</td>\n",
       "      <td>3.135408</td>\n",
       "      <td>6.744916</td>\n",
       "    </tr>\n",
       "    <tr>\n",
       "      <th>std</th>\n",
       "      <td>52624.412971</td>\n",
       "      <td>1.317711</td>\n",
       "      <td>1.455961</td>\n",
       "      <td>1.611106</td>\n",
       "      <td>9.324240</td>\n",
       "    </tr>\n",
       "    <tr>\n",
       "      <th>min</th>\n",
       "      <td>1.000000</td>\n",
       "      <td>1.000000</td>\n",
       "      <td>1.000000</td>\n",
       "      <td>1.000000</td>\n",
       "      <td>0.000000</td>\n",
       "    </tr>\n",
       "    <tr>\n",
       "      <th>25%</th>\n",
       "      <td>4896.000000</td>\n",
       "      <td>3.000000</td>\n",
       "      <td>3.000000</td>\n",
       "      <td>1.000000</td>\n",
       "      <td>1.000000</td>\n",
       "    </tr>\n",
       "    <tr>\n",
       "      <th>50%</th>\n",
       "      <td>9548.000000</td>\n",
       "      <td>5.000000</td>\n",
       "      <td>4.000000</td>\n",
       "      <td>3.000000</td>\n",
       "      <td>4.000000</td>\n",
       "    </tr>\n",
       "    <tr>\n",
       "      <th>75%</th>\n",
       "      <td>63522.000000</td>\n",
       "      <td>5.000000</td>\n",
       "      <td>5.000000</td>\n",
       "      <td>5.000000</td>\n",
       "      <td>9.000000</td>\n",
       "    </tr>\n",
       "    <tr>\n",
       "      <th>max</th>\n",
       "      <td>178546.000000</td>\n",
       "      <td>10.000000</td>\n",
       "      <td>10.000000</td>\n",
       "      <td>10.000000</td>\n",
       "      <td>255.000000</td>\n",
       "    </tr>\n",
       "  </tbody>\n",
       "</table>\n",
       "</div>"
      ],
      "text/plain": [
       "              DrugId      EaseofUse  Effectiveness   Satisfaction  \\\n",
       "count  362806.000000  362806.000000  362806.000000  362806.000000   \n",
       "mean    36879.370774       4.019829       3.532061       3.135408   \n",
       "std     52624.412971       1.317711       1.455961       1.611106   \n",
       "min         1.000000       1.000000       1.000000       1.000000   \n",
       "25%      4896.000000       3.000000       3.000000       1.000000   \n",
       "50%      9548.000000       5.000000       4.000000       3.000000   \n",
       "75%     63522.000000       5.000000       5.000000       5.000000   \n",
       "max    178546.000000      10.000000      10.000000      10.000000   \n",
       "\n",
       "         UsefulCount  \n",
       "count  362806.000000  \n",
       "mean        6.744916  \n",
       "std         9.324240  \n",
       "min         0.000000  \n",
       "25%         1.000000  \n",
       "50%         4.000000  \n",
       "75%         9.000000  \n",
       "max       255.000000  "
      ]
     },
     "execution_count": 6,
     "metadata": {},
     "output_type": "execute_result"
    }
   ],
   "source": [
    "data.describe()"
   ]
  },
  {
   "cell_type": "code",
   "execution_count": 7,
   "metadata": {},
   "outputs": [
    {
     "data": {
      "text/plain": [
       "Index(['Age', 'Condition', 'Date', 'Drug', 'DrugId', 'EaseofUse',\n",
       "       'Effectiveness', 'Reviews', 'Satisfaction', 'Sex', 'Sides',\n",
       "       'UsefulCount'],\n",
       "      dtype='object')"
      ]
     },
     "execution_count": 7,
     "metadata": {},
     "output_type": "execute_result"
    }
   ],
   "source": [
    "data.columns"
   ]
  },
  {
   "cell_type": "code",
   "execution_count": 8,
   "metadata": {},
   "outputs": [
    {
     "data": {
      "text/plain": [
       "6572"
      ]
     },
     "execution_count": 8,
     "metadata": {},
     "output_type": "execute_result"
    }
   ],
   "source": [
    "data.DrugId.nunique()"
   ]
  },
  {
   "cell_type": "code",
   "execution_count": 9,
   "metadata": {},
   "outputs": [
    {
     "data": {
      "text/plain": [
       "1651"
      ]
     },
     "execution_count": 9,
     "metadata": {},
     "output_type": "execute_result"
    }
   ],
   "source": [
    "data.Sides.nunique()"
   ]
  },
  {
   "cell_type": "code",
   "execution_count": 10,
   "metadata": {},
   "outputs": [
    {
     "data": {
      "text/plain": [
       "6873      8538\n",
       "1025      7868\n",
       "6007      7728\n",
       "4398      5864\n",
       "14208     5451\n",
       "11285     5097\n",
       "91491     4648\n",
       "14494     4296\n",
       "9845      4156\n",
       "63990     4134\n",
       "251       3944\n",
       "4896      3486\n",
       "2671      3411\n",
       "93965     3069\n",
       "8171      2860\n",
       "35        2662\n",
       "8486      2548\n",
       "327       2535\n",
       "4718      2446\n",
       "4151      2367\n",
       "1527      2340\n",
       "5173      2226\n",
       "8603      2224\n",
       "14403     2212\n",
       "1433      2172\n",
       "11188     2099\n",
       "20420     1762\n",
       "6997      1717\n",
       "63163     1704\n",
       "76851     1676\n",
       "          ... \n",
       "4009         1\n",
       "425          1\n",
       "154372       1\n",
       "14391        1\n",
       "170364       1\n",
       "11115        1\n",
       "16935        1\n",
       "8779         1\n",
       "58550        1\n",
       "64304        1\n",
       "88705        1\n",
       "63669        1\n",
       "151264       1\n",
       "5803         1\n",
       "91714        1\n",
       "13609        1\n",
       "155429       1\n",
       "151589       1\n",
       "158692       1\n",
       "167550       1\n",
       "64438        1\n",
       "8877         1\n",
       "2728         1\n",
       "5933         1\n",
       "157539       1\n",
       "78479        1\n",
       "14766        1\n",
       "165950       1\n",
       "8244         1\n",
       "18441        1\n",
       "Name: DrugId, Length: 6572, dtype: int64"
      ]
     },
     "execution_count": 10,
     "metadata": {},
     "output_type": "execute_result"
    }
   ],
   "source": [
    "data['DrugId'].value_counts()"
   ]
  },
  {
   "cell_type": "markdown",
   "metadata": {},
   "source": [
    "# Creating a dataset from the original dataset with the DrugId=6873,which occurs most number of times in the dataset"
   ]
  },
  {
   "cell_type": "code",
   "execution_count": 11,
   "metadata": {},
   "outputs": [],
   "source": [
    "data=data.drop(data.loc[(data['DrugId']!=6873)].index)"
   ]
  },
  {
   "cell_type": "code",
   "execution_count": 12,
   "metadata": {},
   "outputs": [
    {
     "data": {
      "text/plain": [
       "(8538, 12)"
      ]
     },
     "execution_count": 12,
     "metadata": {},
     "output_type": "execute_result"
    }
   ],
   "source": [
    "data.shape"
   ]
  },
  {
   "cell_type": "code",
   "execution_count": 13,
   "metadata": {},
   "outputs": [
    {
     "data": {
      "text/html": [
       "<div>\n",
       "<style scoped>\n",
       "    .dataframe tbody tr th:only-of-type {\n",
       "        vertical-align: middle;\n",
       "    }\n",
       "\n",
       "    .dataframe tbody tr th {\n",
       "        vertical-align: top;\n",
       "    }\n",
       "\n",
       "    .dataframe thead th {\n",
       "        text-align: right;\n",
       "    }\n",
       "</style>\n",
       "<table border=\"1\" class=\"dataframe\">\n",
       "  <thead>\n",
       "    <tr style=\"text-align: right;\">\n",
       "      <th></th>\n",
       "      <th>Age</th>\n",
       "      <th>Condition</th>\n",
       "      <th>Date</th>\n",
       "      <th>Drug</th>\n",
       "      <th>DrugId</th>\n",
       "      <th>EaseofUse</th>\n",
       "      <th>Effectiveness</th>\n",
       "      <th>Reviews</th>\n",
       "      <th>Satisfaction</th>\n",
       "      <th>Sex</th>\n",
       "      <th>Sides</th>\n",
       "      <th>UsefulCount</th>\n",
       "    </tr>\n",
       "  </thead>\n",
       "  <tbody>\n",
       "    <tr>\n",
       "      <th>9197</th>\n",
       "      <td></td>\n",
       "      <td>High Blood Pressure</td>\n",
       "      <td>2/29/2020</td>\n",
       "      <td>lisinopril solution</td>\n",
       "      <td>6873</td>\n",
       "      <td>5</td>\n",
       "      <td>5</td>\n",
       "      <td>No Script or health Insurance needed to place ...</td>\n",
       "      <td>5</td>\n",
       "      <td></td>\n",
       "      <td>Dizziness ,  lightheadedness , tiredness, or  ...</td>\n",
       "      <td>14</td>\n",
       "    </tr>\n",
       "    <tr>\n",
       "      <th>9203</th>\n",
       "      <td>75 or over</td>\n",
       "      <td>High Blood Pressure</td>\n",
       "      <td>2/8/2020</td>\n",
       "      <td>lisinopril solution</td>\n",
       "      <td>6873</td>\n",
       "      <td>5</td>\n",
       "      <td>4</td>\n",
       "      <td>I have developed a very itch rash on my body f...</td>\n",
       "      <td>4</td>\n",
       "      <td>Female</td>\n",
       "      <td>Dizziness ,  lightheadedness , tiredness, or  ...</td>\n",
       "      <td>3</td>\n",
       "    </tr>\n",
       "    <tr>\n",
       "      <th>9209</th>\n",
       "      <td>55-64</td>\n",
       "      <td>High Blood Pressure</td>\n",
       "      <td>1/14/2020</td>\n",
       "      <td>lisinopril solution</td>\n",
       "      <td>6873</td>\n",
       "      <td>4</td>\n",
       "      <td>5</td>\n",
       "      <td>tried alternative medicine Beet root, hibiscus...</td>\n",
       "      <td>4</td>\n",
       "      <td>Male</td>\n",
       "      <td>Dizziness ,  lightheadedness , tiredness, or  ...</td>\n",
       "      <td>3</td>\n",
       "    </tr>\n",
       "    <tr>\n",
       "      <th>9215</th>\n",
       "      <td>65-74</td>\n",
       "      <td>High Blood Pressure</td>\n",
       "      <td>10/17/2019</td>\n",
       "      <td>lisinopril solution</td>\n",
       "      <td>6873</td>\n",
       "      <td>5</td>\n",
       "      <td>5</td>\n",
       "      <td>Have been taking 10 mg doses per day for over ...</td>\n",
       "      <td>5</td>\n",
       "      <td>Male</td>\n",
       "      <td>Dizziness ,  lightheadedness , tiredness, or  ...</td>\n",
       "      <td>6</td>\n",
       "    </tr>\n",
       "    <tr>\n",
       "      <th>9221</th>\n",
       "      <td>55-64</td>\n",
       "      <td>High Blood Pressure</td>\n",
       "      <td>10/13/2019</td>\n",
       "      <td>lisinopril solution</td>\n",
       "      <td>6873</td>\n",
       "      <td>2</td>\n",
       "      <td>4</td>\n",
       "      <td>I don't like that I'm taking this and not know...</td>\n",
       "      <td>2</td>\n",
       "      <td>Male</td>\n",
       "      <td>Dizziness ,  lightheadedness , tiredness, or  ...</td>\n",
       "      <td>12</td>\n",
       "    </tr>\n",
       "  </tbody>\n",
       "</table>\n",
       "</div>"
      ],
      "text/plain": [
       "             Age            Condition        Date                 Drug  \\\n",
       "9197              High Blood Pressure   2/29/2020  lisinopril solution   \n",
       "9203  75 or over  High Blood Pressure    2/8/2020  lisinopril solution   \n",
       "9209       55-64  High Blood Pressure   1/14/2020  lisinopril solution   \n",
       "9215       65-74  High Blood Pressure  10/17/2019  lisinopril solution   \n",
       "9221       55-64  High Blood Pressure  10/13/2019  lisinopril solution   \n",
       "\n",
       "      DrugId  EaseofUse  Effectiveness  \\\n",
       "9197    6873          5              5   \n",
       "9203    6873          5              4   \n",
       "9209    6873          4              5   \n",
       "9215    6873          5              5   \n",
       "9221    6873          2              4   \n",
       "\n",
       "                                                Reviews  Satisfaction     Sex  \\\n",
       "9197  No Script or health Insurance needed to place ...             5           \n",
       "9203  I have developed a very itch rash on my body f...             4  Female   \n",
       "9209  tried alternative medicine Beet root, hibiscus...             4    Male   \n",
       "9215  Have been taking 10 mg doses per day for over ...             5    Male   \n",
       "9221  I don't like that I'm taking this and not know...             2    Male   \n",
       "\n",
       "                                                  Sides  UsefulCount  \n",
       "9197  Dizziness ,  lightheadedness , tiredness, or  ...           14  \n",
       "9203  Dizziness ,  lightheadedness , tiredness, or  ...            3  \n",
       "9209  Dizziness ,  lightheadedness , tiredness, or  ...            3  \n",
       "9215  Dizziness ,  lightheadedness , tiredness, or  ...            6  \n",
       "9221  Dizziness ,  lightheadedness , tiredness, or  ...           12  "
      ]
     },
     "execution_count": 13,
     "metadata": {},
     "output_type": "execute_result"
    }
   ],
   "source": [
    "data.head()"
   ]
  },
  {
   "cell_type": "markdown",
   "metadata": {},
   "source": [
    "# Now we have the dataset with details only about a particular drug.ie drug with id=6873.ie.Lisinopril solution"
   ]
  },
  {
   "cell_type": "code",
   "execution_count": 14,
   "metadata": {},
   "outputs": [
    {
     "data": {
      "text/plain": [
       "1"
      ]
     },
     "execution_count": 14,
     "metadata": {},
     "output_type": "execute_result"
    }
   ],
   "source": [
    "data.Sides.nunique()"
   ]
  },
  {
   "cell_type": "code",
   "execution_count": 15,
   "metadata": {},
   "outputs": [
    {
     "data": {
      "text/plain": [
       "Dizziness ,  lightheadedness , tiredness, or  headache  may occur as your body adjusts to the  medication . Dry  cough  may also occur.    8538\n",
       "Name: Sides, dtype: int64"
      ]
     },
     "execution_count": 15,
     "metadata": {},
     "output_type": "execute_result"
    }
   ],
   "source": [
    "data['Sides'].value_counts()"
   ]
  },
  {
   "cell_type": "code",
   "execution_count": 16,
   "metadata": {},
   "outputs": [
    {
     "data": {
      "text/plain": [
       "1    3036\n",
       "5    1740\n",
       "3    1442\n",
       "4    1296\n",
       "2    1024\n",
       "Name: Satisfaction, dtype: int64"
      ]
     },
     "execution_count": 16,
     "metadata": {},
     "output_type": "execute_result"
    }
   ],
   "source": [
    "data['Satisfaction'].value_counts()"
   ]
  },
  {
   "cell_type": "code",
   "execution_count": 17,
   "metadata": {},
   "outputs": [
    {
     "data": {
      "text/plain": [
       "                                                                                                                                                                                                                                                                                                                                                                                                                                                                                                                                                                                                                                                                                                                  1562\n",
       "ok                                                                                                                                                                                                                                                                                                                                                                                                                                                                                                                                                                                                                                                                                                                  10\n",
       "dizziness                                                                                                                                                                                                                                                                                                                                                                                                                                                                                                                                                                                                                                                                                                            8\n",
       "cough                                                                                                                                                                                                                                                                                                                                                                                                                                                                                                                                                                                                                                                                                                                6\n",
       "I have been using this drug for over 10 years and my blood pressure usually runs 120/80 all of the time. It works great for me.                                                                                                                                                                                                                                                                                                                                                                                                                                                                                                                                                                                      6\n",
       "No problems                                                                                                                                                                                                                                                                                                                                                                                                                                                                                                                                                                                                                                                                                                          4\n",
       "After about 6 mo. of taking lisinopryl I had terrifying spinning, could hardly get out of bed, dizziness,heaviness. Then dr. increased dose and still had problems.Also had anxiety, slight daily cough, difficulty in swallowing food. Went off it and within a week, after all med left body, I felt and still do feel much better. No other bp med and I'm in normal range. ALSO, flatulence gone by at least 50%. Was very disturbing and couldn't figure out what was causing that, but it appears that lisinopril was the culprit. I'll never take that med again!                                                                                                                                             4\n",
       "high blood pressure                                                                                                                                                                                                                                                                                                                                                                                                                                                                                                                                                                                                                                                                                                  4\n",
       "my sympton started 2 yrs, ago with sore throat and tip of tongue feeling sore. two months ago it caused sinue pressure dry mucus membrane in nares.chest pressure,b/p 180/90.unable to bring b/p done. dr. added on chonidine for b/p >160/105.taking this drug all the time.then all my life medical problems kicked in gallbladder uti x3,intestial soreness with eating. cold from waist down.48 hrs. of whole body cold.was on cipro x2 but for 7 days only each.did help but came back.had my gallbladder removed for chronic cholestist. finally changed drs. i was having a allergic reaction from the me.meds. hctz,multivit.K+.cold sweats at night.placed on a different b/p medication                    4\n",
       "hair loss                                                                                                                                                                                                                                                                                                                                                                                                                                                                                                                                                                                                                                                                                                            4\n",
       "This medication lowered my blood pressure within the normal range. Around 122/67. I'm very satisfied with this medication.                                                                                                                                                                                                                                                                                                                                                                                                                                                                                                                                                                                           4\n",
       "chronic cough                                                                                                                                                                                                                                                                                                                                                                                                                                                                                                                                                                                                                                                                                                        4\n",
       "I switched to lisinopril from hydrochlorothiazide a month ago because of the severe side effects from hydrochlorothiazide. I took 5 mg daily in the evening. It took about a week to take effect, but it worked very well on my BP (110-120/70-80). However I have developed a bad cough. My doctor is switching me to losartan.                                                                                                                                                                                                                                                                                                                                                                                     2\n",
       "The abdominal pain and diarrhea started after a few days and my blood pressure went up, not down. I tried taking it twice and it had the same effect each time. I took it at bed time and ended up in the restroom more than in bed.                                                                                                                                                                                                                                                                                                                                                                                                                                                                                 2\n",
       "lowered my BP to the normal range                                                                                                                                                                                                                                                                                                                                                                                                                                                                                                                                                                                                                                                                                    2\n",
       "This drug worked great for my High Blood pressure but the side effects almost did me in!  The body pain was acute!  I did not see this side effect until 30 days into taking.                                                                                                                                                                                                                                                                                                                                                                                                                                                                                                                                        2\n",
       "Dry cough causing difficulty sleeping and having long conversations. Feeling light headed, spinning, slightly off balance.                                                                                                                                                                                                                                                                                                                                                                                                                                                                                                                                                                                           2\n",
       "DOES NOT WORK FOR ME- 40 MG. PREASURE IS 167/98 - HOWEVER, RIGHT AFTER DINNER DROPS TO 92/62 OR LESS.  WHY?                                                                                                                                                                                                                                                                                                                                                                                                                                                                                                                                                                                                          2\n",
       "I have taken this med for about 3 months and it has done wonders for my BP.  My BP was 235/115 and it is now 135/85.  At first I was on 20 mg and am now on 40 mg.  At first I had dizzyness, diarrhea and lightheadedness, but those have gone away.  I still have the cough which makes me gag sometimes, but that is the only side effect I have left.  I asked the dr if there was anything I could do about that and he said no.  I thought the longer I took the med, that the cough would go away as well.  I would recommend this med to anyone with high BP.  It has brought down my BP 100 points on top and 30 points on the bottom.  No other BP med has ever done what this drug has done for me.       2\n",
       "it makes me cough                                                                                                                                                                                                                                                                                                                                                                                                                                                                                                                                                                                                                                                                                                    2\n",
       "Blood Pressure went to low.                                                                                                                                                                                                                                                                                                                                                                                                                                                                                                                                                                                                                                                                                          2\n",
       "I have been taking this medication from the age of seventeen now i am 48 yrs.old it works great for my blood pressure.                                                                                                                                                                                                                                                                                                                                                                                                                                                                                                                                                                                               2\n",
       "WELL IT DID LOWER MY B/P ALONG WITH ATENOLOL BUT SINCE I HAVE BEEN ON LISINOPRIL I HAVE NOTICED, MUSCLE ACHENSS, MUSCLE CRAMPS, RASH AND HEAD ACHES. SO I GUESS I WILL TALK TO THE DOCTOR TOMORROW AND SEE IF THERE IS SOMETHING ELSE HE CAN PUT ME ON AS THE SIDE EFFECTS ARE REALLY GETTING TO  ME... I WAS ON 2 ATENOLOL 200MG BUT IT DIDN'T DO THE JOB SO NOW I AM ON 100  AND 20 LISINOPRIL. SO WE WILL SE WHAT  HE HAS TO OFFER.  AND WHO SAID GETTING OLD WAS FUN..                                                                                                                                                                                                                                           2\n",
       "hair loss, do not take this drug, per side affects.                                                                                                                                                                                                                                                                                                                                                                                                                                                                                                                                                                                                                                                                  2\n",
       "First 2 months were fine.  After that I developed a constant cough and a tickle in my throat which was unbearable.  Also at times my heart would race just a few seconds after taking pill. Other side effects included nervousness and mood swings.                                                                                                                                                                                                                                                                                                                                                                                                                                                                 2\n",
       "Have been on this med for over 2 years and it has been great for my blood pressure. It is not pricey and does a wonderful job. I only need the low dose.                                                                                                                                                                                                                                                                                                                                                                                                                                                                                                                                                             2\n",
       "I developed a debilitating cough after a few months of use that took a while to figure out the cause.  I stopped it immediately when I realize the med. was the cause.                                                                                                                                                                                                                                                                                                                                                                                                                                                                                                                                               2\n",
       "ED. Lack of desire,fatigue, Muscles Ache.                                                                                                                                                                                                                                                                                                                                                                                                                                                                                                                                                                                                                                                                            2\n",
       "Very effective in bringing down moderately high BP                                                                                                                                                                                                                                                                                                                                                                                                                                                                                                                                                                                                                                                                   2\n",
       "I took 20 mg of Lisinopril each day for less than a month along with my usual Lopressor. It helped to lower my BP somewhat, but at what a cost!  I had a chronic \"hair ball\" in my throat that no amount of coughing, drinking, cough meds or cough drops could help.  It would interfere with my sleep and with my speech while awake.  Nasty stuff!  I quit taking it, and the hair ball disappeared.                                                                                                                                                                                                                                                                                                              2\n",
       "                                                                                                                                                                                                                                                                                                                                                                                                                                                                                                                                                                                                                                                                                                                  ... \n",
       "i have developed a chronic cough as a side effect, but my increased BP has been helped by lowering.                                                                                                                                                                                                                                                                                                                                                                                                                                                                                                                                                                                                                  2\n",
       "I have ben taking Lisinopril in a low dosage for the past 6 years. After some dental work about 1 month ago, my BP was elevated. My doctor doubled the dosage. Sine then, I am experiencing dry mouth every night. Since reading some comments about the causes of dry mouth, I am going to speak to my doctor.                                                                                                                                                                                                                                                                                                                                                                                                      2\n",
       "I seem to have more muscle pain while on this medication. Don't know if this is the reason or not. Will talk to my Dr next time I go.                                                                                                                                                                                                                                                                                                                                                                                                                                                                                                                                                                                2\n",
       "The first day I started taking this I developed a dry cough and fatigue. Soon I didn't have a voice, was depressed, so tired I couldn't do anything but sleep. Finally after a week I looked up the side effects of it and went down the list. I had every side effect that they had listed.  Not a good experience.                                                                                                                                                                                                                                                                                                                                                                                                 2\n",
       "I have been on Lisinopril for three months. Had read all the side effects. I am having very good results with this medication. My B/P is under control and not experiencing any problems. I am a 52 year old female.                                                                                                                                                                                                                                                                                                                                                                                                                                                                                                 2\n",
       "horrible feeling  dry cough choking cough, swollen lips swollen face.  loose bowels, stomach cramps, tired all the time. sexual disfuntion even it seems to cause some blockage on the side of penis.                                                                                                                                                                                                                                                                                                                                                                                                                                                                                                                2\n",
       "This drug instantly lowered my blood pressure and stopped my nose bleeds. Also, I had less headaches and my sex drive went from nonexistent to WOW. I feel less stressed and irritable. Glad I'm on it.                                                                                                                                                                                                                                                                                                                                                                                                                                                                                                              2\n",
       "have taken for3mths. BP still runs high. But have devloped cough. Also, have  devolped caseof Gerd, seem to havedifficult swallowing aftertaking.                 anyone else with similar, reaction.                                                                                                                                                                                                                                                                                                                                                                                                                                                                                                                2\n",
       "I have been taking this medication for five weeks. I have developed a horrible cough, which is even so hard that I gag! I feel tired because of lack of sleep due to the coughing episodes. My PCP has put me on allergy medications to \"rule out\" allergies as a factor. I know my body; this cough is from Lisinopril! I am so tired of coughing! Why is the drug company not improving this product?                                                                                                                                                                                                                                                                                                              2\n",
       "I have always been borderline high with my blood pressure readings, so when I turned 55 - 2 years ago, my Doctor had me start taking a daily 20mg tablet.  No side effects at all and my blood pressure is always in the normal range now.  Very satisified with my results!                                                                                                                                                                                                                                                                                                                                                                                                                                         2\n",
       "Have been on medication for bp for about 3 weeks. Felt great when I went to the Dr. Now I have headaches, nausea, dizziness, and last night the pain in my chest and back were so bad I was afraid I was having a heart attack. Would rather take no meds and concentrate on physical changes rather than drug therapy. Feel \"crappy\".                                                                                                                                                                                                                                                                                                                                                                               2\n",
       "I've been taking this medicine a little over a year now and I've noticed a difference in my hair and my skin. My skin is EXTREMELY dry on my feet and hands. Also my hair has thinned and my texture changed. I often have odd pain in my arms when moving. It takes a lot of energy from me too. I'm really not a medicine user so it has to be this drug because I've never had these issues in the past  I'm taking 10mg for my bp caused by pkd but the long term effects of this drug are really starting to show.While it's lowered my bp a little I'm struggling with the issues its causing.                                                                                                                 2\n",
       "I have taken it for alittle over 2 weeks and have a nagging dry cough and light headed. My doctor told me it would take 2-4 weeks for my body to adjust to it.                                                                                                                                                                                                                                                                                                                                                                                                                                                                                                                                                       2\n",
       "I took it in conjunction with Coreg, and it actually lowered BP too much. This is something I was not warned about. Make sure you ask your Dr. if you are taking any other kind of BP meds.                                                                                                                                                                                                                                                                                                                                                                                                                                                                                                                          2\n",
       "I am only taking 5mg of this medication and I find that it makes me very tired  (Physically exhausted actually).  It has not seemed to lower my bloodpressure by very much and I have been taking it now for over three weeks.                                                                                                                                                                                                                                                                                                                                                                                                                                                                                       2\n",
       "took drug for 15+ yrs after starting with zestril and insurance kept dropping to generics ending up with lisinopril,did not recogonize side effects unyil 3weeks ago had swollen upper lip which my mother developed with same drug,am off now but had thinning of hair this year plus aches of neck and knee over last year  and also ear noise,fatigue also but when one gets over 50 you start to blame age not meds. will closely watch any new meds in future!!                                                                                                                                                                                                                                                 2\n",
       "BP was 155/95 up to 200/110.  After 2 weeks, BP now 120/78.  Side effects: Leg cramps, bloating, pms-like cramping, dizziness, horrible diarrhea. Stopping on day 12                                                                                                                                                                                                                                                                                                                                                                                                                                                                                                                                                 2\n",
       "To limpy I to have the same problem but not all the time. You need to find a different Dr. That is one of the side effects. Go to http://medlineplus.gov/ and look up the med. It will tell you in the side effects to tell your Dr. about decrease in sexual ability that does not go away. Right now I am satisfied with the med.                                                                                                                                                                                                                                                                                                                                                                                  2\n",
       "Take 20mg as a divided dose (10mg every 12 hrs) which helps with cough side effect. BP finally under control (110/60 to 115/70). Was as high as 200/100. Also take Nifedipine 30mg and Aldomet 250mg each daily. I am not overweight or diabetic. Hypertension began with pregnancy.                                                                                                                                                                                                                                                                                                                                                                                                                                 2\n",
       "I have been through a whole pack of lisinopril and the cough started on the first dose. It is so bad I almost throw up from a fit of coughing it is very embaressing at work and it wakes you up at night.                                                                                                                                                                                                                                                                                                                                                                                                                                                                                                           2\n",
       "Taking since 2009, bp 140/89.  Now avg 120/72.  Also wish to add that diet has changed                                                                                                                                                                                                                                                                                                                                                                                                                                                                                                                                                                                                                               2\n",
       "I have had no problems taking this medication.                                                                                                                                                                                                                                                                                                                                                                                                                                                                                                                                                                                                                                                                       2\n",
       "African Americans should not take this medicine because they are 5 times greater risk to develop Angioedema (AE) which caus swelling of the eyelids, lips & face                                                                                                                                                                                                                                                                                                                                                                                                                                                                                                                                                     2\n",
       "This medicine has made me have coughing and gagging spells day and night.  It also makes me dizzy.  I was told that I had post nasal drip.  No allergy medicine has helped.  I went off of the drug 5 days ago and I am still coughing but not as much.  I have been miserable and I will never take this drug again.  It is a horrible drug!                                                                                                                                                                                                                                                                                                                                                                        2\n",
       "Began on 2/14/12 taking 10-mg daily due to increased blood levels of creatinine. In the second week, I developed mild vertigo and doctor reduced the dose to 5-mg. daily. In the third week, I developed a dry cough which became progressively worse and ended up with bronchitis. Doctor stopped Lisinopril March 19.                                                                                                                                                                                                                                                                                                                                                                                              2\n",
       "Chronic Cough , very annoying ! Found similar complaints here . Will stop med today and see doctor soon . I also feel tired and have some dizziness .                                                                                                                                                                                                                                                                                                                                                                                                                                                                                                                                                                2\n",
       "After topping out at 156/84, and my bp rising steadily over a nine-month span, my doctor decided to put me on lisinopril. The only problems I had were leg pains in the first two weeks of treatment. The pain wasn't debilitating, but it was enough to cause discomfort to the point of having change my position and causing difficulty in sleeping at night. Other than that, I've been pleased. I can feel the difference when I relax and just listen to and feel my heart beating.                                                                                                                                                                                                                            2\n",
       "For me works good. I've been taking it for 2 years now, I'm 37 and my BP is normal, I do not feel side effects at all.... and actually reduce the risk of a heart attack ,hey this is perfect!!                                                                                                                                                                                                                                                                                                                                                                                                                                                                                                                      2\n",
       "Has helped reduce blood pressure with zero side effects.  After 3 years had to increase dose to 20mg.                                                                                                                                                                                                                                                                                                                                                                                                                                                                                                                                                                                                                2\n",
       "Was quite satisfied at first -- BP down, no serious side effects UNTIL I developed the dry, tickling cough which is pretty much 24/7!  The coughing doesn't stop the tickle, which can rapidly progress to uncontrollable coughs, gagging & tearing eyes.  The ONLY thing that helps is a constant ingestion of menthol cough drops along with a CARBONATED drink.  Water or non-carbonated drinks don't stop the tickle, but the bubbles seem to \"scratch it\"! I'll be seeking another medication, as this side effect is REALLY annoying & embarrassing.                                                                                                                                                           2\n",
       "Name: Reviews, Length: 3469, dtype: int64"
      ]
     },
     "execution_count": 17,
     "metadata": {},
     "output_type": "execute_result"
    }
   ],
   "source": [
    "data['Reviews'].value_counts()"
   ]
  },
  {
   "cell_type": "code",
   "execution_count": 18,
   "metadata": {},
   "outputs": [
    {
     "data": {
      "text/plain": [
       "8/6/2009      20\n",
       "6/18/2010     18\n",
       "1/5/2009      18\n",
       "5/22/2009     16\n",
       "6/26/2009     16\n",
       "1/5/2010      16\n",
       "3/16/2009     14\n",
       "1/15/2009     14\n",
       "1/27/2010     14\n",
       "3/31/2009     14\n",
       "10/27/2008    14\n",
       "10/29/2009    14\n",
       "12/29/2009    14\n",
       "8/23/2009     14\n",
       "2/24/2010     14\n",
       "3/18/2010     14\n",
       "3/15/2011     14\n",
       "12/17/2009    14\n",
       "4/8/2009      14\n",
       "12/11/2008    14\n",
       "6/1/2009      14\n",
       "12/21/2009    14\n",
       "1/19/2008     14\n",
       "3/18/2009     14\n",
       "2/4/2010      12\n",
       "11/22/2009    12\n",
       "2/25/2009     12\n",
       "7/24/2010     12\n",
       "11/23/2008    12\n",
       "11/23/2009    12\n",
       "              ..\n",
       "9/4/2011       2\n",
       "10/13/2009     2\n",
       "7/17/2012      2\n",
       "1/4/2011       2\n",
       "6/27/2012      2\n",
       "4/14/2013      2\n",
       "2/23/2011      2\n",
       "7/16/2008      2\n",
       "6/27/2016      2\n",
       "9/10/2010      2\n",
       "5/6/2011       2\n",
       "3/29/2013      2\n",
       "12/11/2011     2\n",
       "6/25/2011      2\n",
       "4/26/2008      2\n",
       "1/27/2012      2\n",
       "10/8/2008      2\n",
       "5/31/2010      2\n",
       "9/18/2010      2\n",
       "12/10/2007     2\n",
       "8/11/2015      2\n",
       "5/26/2017      2\n",
       "4/15/2012      2\n",
       "11/1/2010      2\n",
       "12/16/2013     2\n",
       "7/5/2012       2\n",
       "1/6/2015       2\n",
       "11/21/2010     2\n",
       "3/10/2011      2\n",
       "10/3/2010      2\n",
       "Name: Date, Length: 2116, dtype: int64"
      ]
     },
     "execution_count": 18,
     "metadata": {},
     "output_type": "execute_result"
    }
   ],
   "source": [
    "data['Date'].value_counts()"
   ]
  },
  {
   "cell_type": "code",
   "execution_count": 19,
   "metadata": {},
   "outputs": [
    {
     "data": {
      "text/plain": [
       "5    4182\n",
       "4    2044\n",
       "3    1120\n",
       "1     828\n",
       "2     364\n",
       "Name: EaseofUse, dtype: int64"
      ]
     },
     "execution_count": 19,
     "metadata": {},
     "output_type": "execute_result"
    }
   ],
   "source": [
    "data['EaseofUse'].value_counts()"
   ]
  },
  {
   "cell_type": "code",
   "execution_count": 20,
   "metadata": {},
   "outputs": [
    {
     "data": {
      "text/plain": [
       "58"
      ]
     },
     "execution_count": 20,
     "metadata": {},
     "output_type": "execute_result"
    }
   ],
   "source": [
    "data['UsefulCount'].nunique()"
   ]
  },
  {
   "cell_type": "markdown",
   "metadata": {},
   "source": [
    "# Data Cleaning"
   ]
  },
  {
   "cell_type": "code",
   "execution_count": 21,
   "metadata": {},
   "outputs": [
    {
     "name": "stdout",
     "output_type": "stream",
     "text": [
      "<class 'pandas.core.frame.DataFrame'>\n",
      "Int64Index: 8538 entries, 9197 to 18992\n",
      "Data columns (total 12 columns):\n",
      "Age              8538 non-null object\n",
      "Condition        8538 non-null object\n",
      "Date             8538 non-null object\n",
      "Drug             8538 non-null object\n",
      "DrugId           8538 non-null int64\n",
      "EaseofUse        8538 non-null int64\n",
      "Effectiveness    8538 non-null int64\n",
      "Reviews          8534 non-null object\n",
      "Satisfaction     8538 non-null int64\n",
      "Sex              8538 non-null object\n",
      "Sides            8538 non-null object\n",
      "UsefulCount      8538 non-null int64\n",
      "dtypes: int64(5), object(7)\n",
      "memory usage: 867.1+ KB\n"
     ]
    }
   ],
   "source": [
    "data.info()"
   ]
  },
  {
   "cell_type": "code",
   "execution_count": 22,
   "metadata": {},
   "outputs": [],
   "source": [
    "data_later=data"
   ]
  },
  {
   "cell_type": "code",
   "execution_count": 23,
   "metadata": {},
   "outputs": [
    {
     "data": {
      "text/html": [
       "<div>\n",
       "<style scoped>\n",
       "    .dataframe tbody tr th:only-of-type {\n",
       "        vertical-align: middle;\n",
       "    }\n",
       "\n",
       "    .dataframe tbody tr th {\n",
       "        vertical-align: top;\n",
       "    }\n",
       "\n",
       "    .dataframe thead th {\n",
       "        text-align: right;\n",
       "    }\n",
       "</style>\n",
       "<table border=\"1\" class=\"dataframe\">\n",
       "  <thead>\n",
       "    <tr style=\"text-align: right;\">\n",
       "      <th></th>\n",
       "      <th>Age</th>\n",
       "      <th>Condition</th>\n",
       "      <th>Date</th>\n",
       "      <th>Drug</th>\n",
       "      <th>DrugId</th>\n",
       "      <th>EaseofUse</th>\n",
       "      <th>Effectiveness</th>\n",
       "      <th>Reviews</th>\n",
       "      <th>Satisfaction</th>\n",
       "      <th>Sex</th>\n",
       "      <th>Sides</th>\n",
       "      <th>UsefulCount</th>\n",
       "    </tr>\n",
       "  </thead>\n",
       "  <tbody>\n",
       "    <tr>\n",
       "      <th>9197</th>\n",
       "      <td></td>\n",
       "      <td>High Blood Pressure</td>\n",
       "      <td>2/29/2020</td>\n",
       "      <td>lisinopril solution</td>\n",
       "      <td>6873</td>\n",
       "      <td>5</td>\n",
       "      <td>5</td>\n",
       "      <td>No Script or health Insurance needed to place ...</td>\n",
       "      <td>5</td>\n",
       "      <td></td>\n",
       "      <td>Dizziness ,  lightheadedness , tiredness, or  ...</td>\n",
       "      <td>14</td>\n",
       "    </tr>\n",
       "    <tr>\n",
       "      <th>9203</th>\n",
       "      <td>75 or over</td>\n",
       "      <td>High Blood Pressure</td>\n",
       "      <td>2/8/2020</td>\n",
       "      <td>lisinopril solution</td>\n",
       "      <td>6873</td>\n",
       "      <td>5</td>\n",
       "      <td>4</td>\n",
       "      <td>I have developed a very itch rash on my body f...</td>\n",
       "      <td>4</td>\n",
       "      <td>Female</td>\n",
       "      <td>Dizziness ,  lightheadedness , tiredness, or  ...</td>\n",
       "      <td>3</td>\n",
       "    </tr>\n",
       "    <tr>\n",
       "      <th>9209</th>\n",
       "      <td>55-64</td>\n",
       "      <td>High Blood Pressure</td>\n",
       "      <td>1/14/2020</td>\n",
       "      <td>lisinopril solution</td>\n",
       "      <td>6873</td>\n",
       "      <td>4</td>\n",
       "      <td>5</td>\n",
       "      <td>tried alternative medicine Beet root, hibiscus...</td>\n",
       "      <td>4</td>\n",
       "      <td>Male</td>\n",
       "      <td>Dizziness ,  lightheadedness , tiredness, or  ...</td>\n",
       "      <td>3</td>\n",
       "    </tr>\n",
       "    <tr>\n",
       "      <th>9215</th>\n",
       "      <td>65-74</td>\n",
       "      <td>High Blood Pressure</td>\n",
       "      <td>10/17/2019</td>\n",
       "      <td>lisinopril solution</td>\n",
       "      <td>6873</td>\n",
       "      <td>5</td>\n",
       "      <td>5</td>\n",
       "      <td>Have been taking 10 mg doses per day for over ...</td>\n",
       "      <td>5</td>\n",
       "      <td>Male</td>\n",
       "      <td>Dizziness ,  lightheadedness , tiredness, or  ...</td>\n",
       "      <td>6</td>\n",
       "    </tr>\n",
       "    <tr>\n",
       "      <th>9221</th>\n",
       "      <td>55-64</td>\n",
       "      <td>High Blood Pressure</td>\n",
       "      <td>10/13/2019</td>\n",
       "      <td>lisinopril solution</td>\n",
       "      <td>6873</td>\n",
       "      <td>2</td>\n",
       "      <td>4</td>\n",
       "      <td>I don't like that I'm taking this and not know...</td>\n",
       "      <td>2</td>\n",
       "      <td>Male</td>\n",
       "      <td>Dizziness ,  lightheadedness , tiredness, or  ...</td>\n",
       "      <td>12</td>\n",
       "    </tr>\n",
       "  </tbody>\n",
       "</table>\n",
       "</div>"
      ],
      "text/plain": [
       "             Age            Condition        Date                 Drug  \\\n",
       "9197              High Blood Pressure   2/29/2020  lisinopril solution   \n",
       "9203  75 or over  High Blood Pressure    2/8/2020  lisinopril solution   \n",
       "9209       55-64  High Blood Pressure   1/14/2020  lisinopril solution   \n",
       "9215       65-74  High Blood Pressure  10/17/2019  lisinopril solution   \n",
       "9221       55-64  High Blood Pressure  10/13/2019  lisinopril solution   \n",
       "\n",
       "      DrugId  EaseofUse  Effectiveness  \\\n",
       "9197    6873          5              5   \n",
       "9203    6873          5              4   \n",
       "9209    6873          4              5   \n",
       "9215    6873          5              5   \n",
       "9221    6873          2              4   \n",
       "\n",
       "                                                Reviews  Satisfaction     Sex  \\\n",
       "9197  No Script or health Insurance needed to place ...             5           \n",
       "9203  I have developed a very itch rash on my body f...             4  Female   \n",
       "9209  tried alternative medicine Beet root, hibiscus...             4    Male   \n",
       "9215  Have been taking 10 mg doses per day for over ...             5    Male   \n",
       "9221  I don't like that I'm taking this and not know...             2    Male   \n",
       "\n",
       "                                                  Sides  UsefulCount  \n",
       "9197  Dizziness ,  lightheadedness , tiredness, or  ...           14  \n",
       "9203  Dizziness ,  lightheadedness , tiredness, or  ...            3  \n",
       "9209  Dizziness ,  lightheadedness , tiredness, or  ...            3  \n",
       "9215  Dizziness ,  lightheadedness , tiredness, or  ...            6  \n",
       "9221  Dizziness ,  lightheadedness , tiredness, or  ...           12  "
      ]
     },
     "execution_count": 23,
     "metadata": {},
     "output_type": "execute_result"
    }
   ],
   "source": [
    "data_later.head()"
   ]
  },
  {
   "cell_type": "markdown",
   "metadata": {},
   "source": [
    "#Now we have data describing side effect of Lisinopril solution.Reviews column contains 3469 different entries.Also side effect are same.So we can drop date,drug,DrugId,Sides,Reviews columns"
   ]
  },
  {
   "cell_type": "markdown",
   "metadata": {},
   "source": [
    "# The severity of side effect can be obtained from  Effectiveness"
   ]
  },
  {
   "cell_type": "code",
   "execution_count": 24,
   "metadata": {},
   "outputs": [],
   "source": [
    "data=data.drop(['Date','Drug','DrugId','Sides','Reviews'],axis=1)"
   ]
  },
  {
   "cell_type": "code",
   "execution_count": 25,
   "metadata": {},
   "outputs": [
    {
     "name": "stdout",
     "output_type": "stream",
     "text": [
      "<class 'pandas.core.frame.DataFrame'>\n",
      "Int64Index: 8538 entries, 9197 to 18992\n",
      "Data columns (total 7 columns):\n",
      "Age              8538 non-null object\n",
      "Condition        8538 non-null object\n",
      "EaseofUse        8538 non-null int64\n",
      "Effectiveness    8538 non-null int64\n",
      "Satisfaction     8538 non-null int64\n",
      "Sex              8538 non-null object\n",
      "UsefulCount      8538 non-null int64\n",
      "dtypes: int64(4), object(3)\n",
      "memory usage: 533.6+ KB\n"
     ]
    }
   ],
   "source": [
    "data.info()"
   ]
  },
  {
   "cell_type": "code",
   "execution_count": 26,
   "metadata": {},
   "outputs": [
    {
     "data": {
      "text/plain": [
       "Age              0\n",
       "Condition        0\n",
       "EaseofUse        0\n",
       "Effectiveness    0\n",
       "Satisfaction     0\n",
       "Sex              0\n",
       "UsefulCount      0\n",
       "dtype: int64"
      ]
     },
     "execution_count": 26,
     "metadata": {},
     "output_type": "execute_result"
    }
   ],
   "source": [
    "data.isna().sum()"
   ]
  },
  {
   "cell_type": "markdown",
   "metadata": {},
   "source": [
    "# Checking for outliers"
   ]
  },
  {
   "cell_type": "code",
   "execution_count": 27,
   "metadata": {},
   "outputs": [
    {
     "data": {
      "image/png": "[encoded data removed]",
      "text/plain": [
       "<Figure size 576x432 with 4 Axes>"
      ]
     },
     "metadata": {
      "needs_background": "light"
     },
     "output_type": "display_data"
    }
   ],
   "source": [
    "plt.figure(figsize=(8,6))\n",
    "\n",
    "plt.subplot(2,2,1)\n",
    "plt.boxplot(data[\"EaseofUse\"])\n",
    "plt.title(\"boxplot of Ease of use\")\n",
    "\n",
    "plt.subplot(2,2,2)\n",
    "plt.boxplot(data[\"Effectiveness\"])\n",
    "plt.title(\"boxplot of Effectiveness\")\n",
    "\n",
    "plt.subplot(2,2,3)\n",
    "plt.boxplot(data[\"Satisfaction\"])\n",
    "plt.title(\"boxplot of Satisfaction\")\n",
    "\n",
    "plt.subplot(2,2,4)\n",
    "plt.boxplot(data[\"UsefulCount\"])\n",
    "plt.title(\"boxplot of useful count\")\n",
    "plt.show()\n"
   ]
  },
  {
   "cell_type": "markdown",
   "metadata": {},
   "source": [
    "There are outliers in \"Useful count\""
   ]
  },
  {
   "cell_type": "code",
   "execution_count": 28,
   "metadata": {},
   "outputs": [],
   "source": [
    "Q1=np.percentile(data[\"UsefulCount\"],25,interpolation=\"midpoint\")\n",
    "Q3=np.percentile(data[\"UsefulCount\"],75,interpolation=\"midpoint\")\n",
    "IQR=Q3-Q1\n",
    "low=Q1-(1.5*IQR)\n",
    "upper=Q3+(1.5*IQR)"
   ]
  },
  {
   "cell_type": "code",
   "execution_count": 29,
   "metadata": {},
   "outputs": [],
   "source": [
    "data=data.drop(data.loc[data[\"UsefulCount\"]>upper].index)"
   ]
  },
  {
   "cell_type": "code",
   "execution_count": 30,
   "metadata": {},
   "outputs": [
    {
     "data": {
      "text/plain": [
       "{'whiskers': [<matplotlib.lines.Line2D at 0x28a8dcbd978>,\n",
       "  <matplotlib.lines.Line2D at 0x28a8dcbdcc0>],\n",
       " 'caps': [<matplotlib.lines.Line2D at 0x28a8dcbdda0>,\n",
       "  <matplotlib.lines.Line2D at 0x28a8dcc7390>],\n",
       " 'boxes': [<matplotlib.lines.Line2D at 0x28a8dcbd588>],\n",
       " 'medians': [<matplotlib.lines.Line2D at 0x28a8dcc76d8>],\n",
       " 'fliers': [<matplotlib.lines.Line2D at 0x28a8dcc7a20>],\n",
       " 'means': []}"
      ]
     },
     "execution_count": 30,
     "metadata": {},
     "output_type": "execute_result"
    },
    {
     "data": {
      "image/png": "[encoded data removed]",
      "text/plain": [
       "<Figure size 432x288 with 1 Axes>"
      ]
     },
     "metadata": {
      "needs_background": "light"
     },
     "output_type": "display_data"
    }
   ],
   "source": [
    "plt.boxplot(data[\"UsefulCount\"])"
   ]
  },
  {
   "cell_type": "code",
   "execution_count": 31,
   "metadata": {},
   "outputs": [
    {
     "data": {
      "text/plain": [
       "(8344, 7)"
      ]
     },
     "execution_count": 31,
     "metadata": {},
     "output_type": "execute_result"
    }
   ],
   "source": [
    "data.shape"
   ]
  },
  {
   "cell_type": "markdown",
   "metadata": {},
   "source": [
    "# Check the correlation"
   ]
  },
  {
   "cell_type": "code",
   "execution_count": 32,
   "metadata": {},
   "outputs": [
    {
     "data": {
      "text/plain": [
       "<matplotlib.axes._subplots.AxesSubplot at 0x28a8dcd2ac8>"
      ]
     },
     "execution_count": 32,
     "metadata": {},
     "output_type": "execute_result"
    },
    {
     "data": {
      "image/png": "[encoded data removed]",
      "text/plain": [
       "<Figure size 1152x576 with 2 Axes>"
      ]
     },
     "metadata": {
      "needs_background": "light"
     },
     "output_type": "display_data"
    }
   ],
   "source": [
    "corrmatrix = data.corr()\n",
    "plt.subplots(figsize=(16,8))\n",
    "sns.heatmap(corrmatrix,vmin=-0.4 , vmax=0.9, annot=True, cmap='YlGnBu' , linewidth=0.2)"
   ]
  },
  {
   "cell_type": "markdown",
   "metadata": {},
   "source": [
    "Maximum correlation between Effectiveness and Satisfaction."
   ]
  },
  {
   "cell_type": "code",
   "execution_count": 33,
   "metadata": {},
   "outputs": [
    {
     "data": {
      "text/plain": [
       "5    2212\n",
       "4    2170\n",
       "3    1852\n",
       "1    1278\n",
       "2     832\n",
       "Name: Effectiveness, dtype: int64"
      ]
     },
     "execution_count": 33,
     "metadata": {},
     "output_type": "execute_result"
    }
   ],
   "source": [
    "data['Effectiveness'].value_counts()"
   ]
  },
  {
   "cell_type": "code",
   "execution_count": 34,
   "metadata": {},
   "outputs": [
    {
     "data": {
      "image/png": "[encoded data removed]",
      "text/plain": [
       "<Figure size 432x288 with 1 Axes>"
      ]
     },
     "metadata": {},
     "output_type": "display_data"
    }
   ],
   "source": [
    "sns.set(style=\"darkgrid\")\n",
    "ax = sns.countplot(x='Effectiveness',  data=data)\n",
    "plt.show()"
   ]
  },
  {
   "cell_type": "code",
   "execution_count": 35,
   "metadata": {},
   "outputs": [
    {
     "data": {
      "text/plain": [
       "55-64         2316\n",
       "45-54         2164\n",
       "65-74         1518\n",
       "35-44         1038\n",
       "75 or over     650\n",
       "25-34          328\n",
       "               264\n",
       "19-24           56\n",
       "13-18            6\n",
       "0-2              2\n",
       "7-12             2\n",
       "Name: Age, dtype: int64"
      ]
     },
     "execution_count": 35,
     "metadata": {},
     "output_type": "execute_result"
    }
   ],
   "source": [
    "data['Age'].value_counts()"
   ]
  },
  {
   "cell_type": "code",
   "execution_count": 36,
   "metadata": {},
   "outputs": [],
   "source": [
    "data['Age'].replace(to_replace = [' '], value = '3-6', inplace = True)"
   ]
  },
  {
   "cell_type": "code",
   "execution_count": 37,
   "metadata": {},
   "outputs": [
    {
     "data": {
      "text/html": [
       "<div>\n",
       "<style scoped>\n",
       "    .dataframe tbody tr th:only-of-type {\n",
       "        vertical-align: middle;\n",
       "    }\n",
       "\n",
       "    .dataframe tbody tr th {\n",
       "        vertical-align: top;\n",
       "    }\n",
       "\n",
       "    .dataframe thead th {\n",
       "        text-align: right;\n",
       "    }\n",
       "</style>\n",
       "<table border=\"1\" class=\"dataframe\">\n",
       "  <thead>\n",
       "    <tr style=\"text-align: right;\">\n",
       "      <th></th>\n",
       "      <th>Age</th>\n",
       "      <th>Condition</th>\n",
       "      <th>EaseofUse</th>\n",
       "      <th>Effectiveness</th>\n",
       "      <th>Satisfaction</th>\n",
       "      <th>Sex</th>\n",
       "      <th>UsefulCount</th>\n",
       "    </tr>\n",
       "  </thead>\n",
       "  <tbody>\n",
       "    <tr>\n",
       "      <th>9197</th>\n",
       "      <td>3-6</td>\n",
       "      <td>High Blood Pressure</td>\n",
       "      <td>5</td>\n",
       "      <td>5</td>\n",
       "      <td>5</td>\n",
       "      <td></td>\n",
       "      <td>14</td>\n",
       "    </tr>\n",
       "    <tr>\n",
       "      <th>9203</th>\n",
       "      <td>75 or over</td>\n",
       "      <td>High Blood Pressure</td>\n",
       "      <td>5</td>\n",
       "      <td>4</td>\n",
       "      <td>4</td>\n",
       "      <td>Female</td>\n",
       "      <td>3</td>\n",
       "    </tr>\n",
       "    <tr>\n",
       "      <th>9209</th>\n",
       "      <td>55-64</td>\n",
       "      <td>High Blood Pressure</td>\n",
       "      <td>4</td>\n",
       "      <td>5</td>\n",
       "      <td>4</td>\n",
       "      <td>Male</td>\n",
       "      <td>3</td>\n",
       "    </tr>\n",
       "    <tr>\n",
       "      <th>9215</th>\n",
       "      <td>65-74</td>\n",
       "      <td>High Blood Pressure</td>\n",
       "      <td>5</td>\n",
       "      <td>5</td>\n",
       "      <td>5</td>\n",
       "      <td>Male</td>\n",
       "      <td>6</td>\n",
       "    </tr>\n",
       "    <tr>\n",
       "      <th>9221</th>\n",
       "      <td>55-64</td>\n",
       "      <td>High Blood Pressure</td>\n",
       "      <td>2</td>\n",
       "      <td>4</td>\n",
       "      <td>2</td>\n",
       "      <td>Male</td>\n",
       "      <td>12</td>\n",
       "    </tr>\n",
       "  </tbody>\n",
       "</table>\n",
       "</div>"
      ],
      "text/plain": [
       "             Age            Condition  EaseofUse  Effectiveness  Satisfaction  \\\n",
       "9197         3-6  High Blood Pressure          5              5             5   \n",
       "9203  75 or over  High Blood Pressure          5              4             4   \n",
       "9209       55-64  High Blood Pressure          4              5             4   \n",
       "9215       65-74  High Blood Pressure          5              5             5   \n",
       "9221       55-64  High Blood Pressure          2              4             2   \n",
       "\n",
       "         Sex  UsefulCount  \n",
       "9197                   14  \n",
       "9203  Female            3  \n",
       "9209    Male            3  \n",
       "9215    Male            6  \n",
       "9221    Male           12  "
      ]
     },
     "execution_count": 37,
     "metadata": {},
     "output_type": "execute_result"
    }
   ],
   "source": [
    "data.head()"
   ]
  },
  {
   "cell_type": "code",
   "execution_count": 38,
   "metadata": {},
   "outputs": [
    {
     "data": {
      "image/png": "[encoded data removed]",
      "text/plain": [
       "<Figure size 432x288 with 1 Axes>"
      ]
     },
     "metadata": {},
     "output_type": "display_data"
    }
   ],
   "source": [
    "sns.set(style=\"darkgrid\")\n",
    "ax = sns.countplot(x='Age',  data=data)\n",
    "plt.xticks(rotation=45)\n",
    "plt.show()"
   ]
  },
  {
   "cell_type": "code",
   "execution_count": 39,
   "metadata": {},
   "outputs": [
    {
     "data": {
      "image/png": "[encoded data removed]",
      "text/plain": [
       "<Figure size 432x288 with 1 Axes>"
      ]
     },
     "metadata": {},
     "output_type": "display_data"
    }
   ],
   "source": [
    "sns.set(style=\"darkgrid\")\n",
    "ax = sns.countplot(x='Condition',  data=data)\n",
    "plt.xticks(rotation=90)\n",
    "plt.show()"
   ]
  },
  {
   "cell_type": "code",
   "execution_count": 40,
   "metadata": {},
   "outputs": [
    {
     "data": {
      "text/plain": [
       "Female    4648\n",
       "Male      3232\n",
       "           464\n",
       "Name: Sex, dtype: int64"
      ]
     },
     "execution_count": 40,
     "metadata": {},
     "output_type": "execute_result"
    }
   ],
   "source": [
    "data[\"Sex\"].value_counts()"
   ]
  },
  {
   "cell_type": "code",
   "execution_count": 41,
   "metadata": {},
   "outputs": [],
   "source": [
    "data['Sex'].replace(to_replace = [' '], value = 'Female', inplace = True)"
   ]
  },
  {
   "cell_type": "code",
   "execution_count": 42,
   "metadata": {},
   "outputs": [
    {
     "data": {
      "text/html": [
       "<div>\n",
       "<style scoped>\n",
       "    .dataframe tbody tr th:only-of-type {\n",
       "        vertical-align: middle;\n",
       "    }\n",
       "\n",
       "    .dataframe tbody tr th {\n",
       "        vertical-align: top;\n",
       "    }\n",
       "\n",
       "    .dataframe thead th {\n",
       "        text-align: right;\n",
       "    }\n",
       "</style>\n",
       "<table border=\"1\" class=\"dataframe\">\n",
       "  <thead>\n",
       "    <tr style=\"text-align: right;\">\n",
       "      <th></th>\n",
       "      <th>Age</th>\n",
       "      <th>Condition</th>\n",
       "      <th>EaseofUse</th>\n",
       "      <th>Effectiveness</th>\n",
       "      <th>Satisfaction</th>\n",
       "      <th>Sex</th>\n",
       "      <th>UsefulCount</th>\n",
       "    </tr>\n",
       "  </thead>\n",
       "  <tbody>\n",
       "    <tr>\n",
       "      <th>9197</th>\n",
       "      <td>3-6</td>\n",
       "      <td>High Blood Pressure</td>\n",
       "      <td>5</td>\n",
       "      <td>5</td>\n",
       "      <td>5</td>\n",
       "      <td>Female</td>\n",
       "      <td>14</td>\n",
       "    </tr>\n",
       "    <tr>\n",
       "      <th>9203</th>\n",
       "      <td>75 or over</td>\n",
       "      <td>High Blood Pressure</td>\n",
       "      <td>5</td>\n",
       "      <td>4</td>\n",
       "      <td>4</td>\n",
       "      <td>Female</td>\n",
       "      <td>3</td>\n",
       "    </tr>\n",
       "    <tr>\n",
       "      <th>9209</th>\n",
       "      <td>55-64</td>\n",
       "      <td>High Blood Pressure</td>\n",
       "      <td>4</td>\n",
       "      <td>5</td>\n",
       "      <td>4</td>\n",
       "      <td>Male</td>\n",
       "      <td>3</td>\n",
       "    </tr>\n",
       "    <tr>\n",
       "      <th>9215</th>\n",
       "      <td>65-74</td>\n",
       "      <td>High Blood Pressure</td>\n",
       "      <td>5</td>\n",
       "      <td>5</td>\n",
       "      <td>5</td>\n",
       "      <td>Male</td>\n",
       "      <td>6</td>\n",
       "    </tr>\n",
       "    <tr>\n",
       "      <th>9221</th>\n",
       "      <td>55-64</td>\n",
       "      <td>High Blood Pressure</td>\n",
       "      <td>2</td>\n",
       "      <td>4</td>\n",
       "      <td>2</td>\n",
       "      <td>Male</td>\n",
       "      <td>12</td>\n",
       "    </tr>\n",
       "  </tbody>\n",
       "</table>\n",
       "</div>"
      ],
      "text/plain": [
       "             Age            Condition  EaseofUse  Effectiveness  Satisfaction  \\\n",
       "9197         3-6  High Blood Pressure          5              5             5   \n",
       "9203  75 or over  High Blood Pressure          5              4             4   \n",
       "9209       55-64  High Blood Pressure          4              5             4   \n",
       "9215       65-74  High Blood Pressure          5              5             5   \n",
       "9221       55-64  High Blood Pressure          2              4             2   \n",
       "\n",
       "         Sex  UsefulCount  \n",
       "9197  Female           14  \n",
       "9203  Female            3  \n",
       "9209    Male            3  \n",
       "9215    Male            6  \n",
       "9221    Male           12  "
      ]
     },
     "execution_count": 42,
     "metadata": {},
     "output_type": "execute_result"
    }
   ],
   "source": [
    "data.head()"
   ]
  },
  {
   "cell_type": "code",
   "execution_count": 43,
   "metadata": {},
   "outputs": [
    {
     "data": {
      "image/png": "[encoded data removed]",
      "text/plain": [
       "<Figure size 432x288 with 1 Axes>"
      ]
     },
     "metadata": {},
     "output_type": "display_data"
    }
   ],
   "source": [
    "sns.set(style=\"darkgrid\")\n",
    "ax = sns.countplot(x='Sex',  data=data)\n",
    "plt.show()"
   ]
  },
  {
   "cell_type": "markdown",
   "metadata": {},
   "source": [
    "# Replacing the entries of Effectiveness with no side effects,mild sideeffects ,moderate side effects,severe side effects,extreme severe side effects"
   ]
  },
  {
   "cell_type": "code",
   "execution_count": 44,
   "metadata": {},
   "outputs": [],
   "source": [
    "data['Effectiveness'].replace(to_replace = [5], value =['no side effects'], inplace = True)"
   ]
  },
  {
   "cell_type": "code",
   "execution_count": 45,
   "metadata": {},
   "outputs": [],
   "source": [
    "data['Effectiveness'].replace(to_replace = [4], value =['mild side effects'], inplace = True)"
   ]
  },
  {
   "cell_type": "code",
   "execution_count": 46,
   "metadata": {},
   "outputs": [],
   "source": [
    "data['Effectiveness'].replace(to_replace = [3], value =['moderate side effects'], inplace = True)"
   ]
  },
  {
   "cell_type": "code",
   "execution_count": 47,
   "metadata": {},
   "outputs": [],
   "source": [
    "data['Effectiveness'].replace(to_replace = [2], value =['severe side effects'], inplace = True)"
   ]
  },
  {
   "cell_type": "code",
   "execution_count": 48,
   "metadata": {},
   "outputs": [],
   "source": [
    "data['Effectiveness'].replace(to_replace = [1], value =['extreme severe side effects'], inplace = True)"
   ]
  },
  {
   "cell_type": "markdown",
   "metadata": {},
   "source": [
    "# Pie charts"
   ]
  },
  {
   "cell_type": "markdown",
   "metadata": {},
   "source": [
    "1.Pie chart showing how much percentage of female patients have side effects of the drug "
   ]
  },
  {
   "cell_type": "code",
   "execution_count": 49,
   "metadata": {},
   "outputs": [],
   "source": [
    "data1=data.drop(data.loc[(data['Sex']==\"Male\")].index)"
   ]
  },
  {
   "cell_type": "code",
   "execution_count": 50,
   "metadata": {},
   "outputs": [
    {
     "data": {
      "image/png": "[encoded data removed]",
      "text/plain": [
       "<Figure size 432x432 with 1 Axes>"
      ]
     },
     "metadata": {},
     "output_type": "display_data"
    }
   ],
   "source": [
    "tr = pd.DataFrame(data1['Effectiveness'].value_counts())[:5]\n",
    "tr_names = tr.index\n",
    "count = tr['Effectiveness']\n",
    "\n",
    "plt.style.use('ggplot')\n",
    "plt.figure(figsize=(6,6))\n",
    "plt.rc('font', size=10)\n",
    "plt.pie(count, autopct='%1.0f%%', labels = tr_names, pctdistance=1.1, labeldistance=1.2)\n",
    "plt.title('% of female patients having side effects')\n",
    "plt.show()"
   ]
  },
  {
   "cell_type": "markdown",
   "metadata": {},
   "source": [
    "# 2.Pie chart of how much percentage of male patients have side effects of the drug"
   ]
  },
  {
   "cell_type": "code",
   "execution_count": 51,
   "metadata": {},
   "outputs": [],
   "source": [
    "data2=data.drop(data.loc[(data['Sex']==\"Female\")].index)"
   ]
  },
  {
   "cell_type": "code",
   "execution_count": 52,
   "metadata": {},
   "outputs": [
    {
     "data": {
      "image/png": "[encoded data removed]",
      "text/plain": [
       "<Figure size 432x432 with 1 Axes>"
      ]
     },
     "metadata": {},
     "output_type": "display_data"
    }
   ],
   "source": [
    "tr = pd.DataFrame(data2['Effectiveness'].value_counts())[:5]\n",
    "tr_names = tr.index\n",
    "count = tr['Effectiveness']\n",
    "\n",
    "plt.style.use('ggplot')\n",
    "plt.figure(figsize=(6,6))\n",
    "plt.rc('font', size=10)\n",
    "plt.pie(count, autopct='%1.0f%%', labels = tr_names, pctdistance=1.1, labeldistance=1.2)\n",
    "plt.title('% of male patients having side effects')\n",
    "plt.show()"
   ]
  },
  {
   "cell_type": "markdown",
   "metadata": {},
   "source": [
    "# 3.Pie chart showing how the drug affected age group 3-6"
   ]
  },
  {
   "cell_type": "code",
   "execution_count": 53,
   "metadata": {},
   "outputs": [],
   "source": [
    "data3=data.loc[(data['Age']==\"3-6\")]"
   ]
  },
  {
   "cell_type": "code",
   "execution_count": 54,
   "metadata": {},
   "outputs": [
    {
     "data": {
      "text/html": [
       "<div>\n",
       "<style scoped>\n",
       "    .dataframe tbody tr th:only-of-type {\n",
       "        vertical-align: middle;\n",
       "    }\n",
       "\n",
       "    .dataframe tbody tr th {\n",
       "        vertical-align: top;\n",
       "    }\n",
       "\n",
       "    .dataframe thead th {\n",
       "        text-align: right;\n",
       "    }\n",
       "</style>\n",
       "<table border=\"1\" class=\"dataframe\">\n",
       "  <thead>\n",
       "    <tr style=\"text-align: right;\">\n",
       "      <th></th>\n",
       "      <th>Age</th>\n",
       "      <th>Condition</th>\n",
       "      <th>EaseofUse</th>\n",
       "      <th>Effectiveness</th>\n",
       "      <th>Satisfaction</th>\n",
       "      <th>Sex</th>\n",
       "      <th>UsefulCount</th>\n",
       "    </tr>\n",
       "  </thead>\n",
       "  <tbody>\n",
       "    <tr>\n",
       "      <th>9197</th>\n",
       "      <td>3-6</td>\n",
       "      <td>High Blood Pressure</td>\n",
       "      <td>5</td>\n",
       "      <td>no side effects</td>\n",
       "      <td>5</td>\n",
       "      <td>Female</td>\n",
       "      <td>14</td>\n",
       "    </tr>\n",
       "    <tr>\n",
       "      <th>9302</th>\n",
       "      <td>3-6</td>\n",
       "      <td>High Blood Pressure</td>\n",
       "      <td>2</td>\n",
       "      <td>moderate side effects</td>\n",
       "      <td>2</td>\n",
       "      <td>Male</td>\n",
       "      <td>10</td>\n",
       "    </tr>\n",
       "    <tr>\n",
       "      <th>9347</th>\n",
       "      <td>3-6</td>\n",
       "      <td>High Blood Pressure</td>\n",
       "      <td>3</td>\n",
       "      <td>moderate side effects</td>\n",
       "      <td>1</td>\n",
       "      <td>Female</td>\n",
       "      <td>16</td>\n",
       "    </tr>\n",
       "    <tr>\n",
       "      <th>9521</th>\n",
       "      <td>3-6</td>\n",
       "      <td>High Blood Pressure</td>\n",
       "      <td>3</td>\n",
       "      <td>extreme severe side effects</td>\n",
       "      <td>1</td>\n",
       "      <td>Male</td>\n",
       "      <td>18</td>\n",
       "    </tr>\n",
       "    <tr>\n",
       "      <th>9686</th>\n",
       "      <td>3-6</td>\n",
       "      <td>High Blood Pressure</td>\n",
       "      <td>5</td>\n",
       "      <td>moderate side effects</td>\n",
       "      <td>3</td>\n",
       "      <td>Female</td>\n",
       "      <td>9</td>\n",
       "    </tr>\n",
       "  </tbody>\n",
       "</table>\n",
       "</div>"
      ],
      "text/plain": [
       "      Age            Condition  EaseofUse                Effectiveness  \\\n",
       "9197  3-6  High Blood Pressure          5              no side effects   \n",
       "9302  3-6  High Blood Pressure          2        moderate side effects   \n",
       "9347  3-6  High Blood Pressure          3        moderate side effects   \n",
       "9521  3-6  High Blood Pressure          3  extreme severe side effects   \n",
       "9686  3-6  High Blood Pressure          5        moderate side effects   \n",
       "\n",
       "      Satisfaction     Sex  UsefulCount  \n",
       "9197             5  Female           14  \n",
       "9302             2    Male           10  \n",
       "9347             1  Female           16  \n",
       "9521             1    Male           18  \n",
       "9686             3  Female            9  "
      ]
     },
     "execution_count": 54,
     "metadata": {},
     "output_type": "execute_result"
    }
   ],
   "source": [
    "data3.head()"
   ]
  },
  {
   "cell_type": "code",
   "execution_count": 55,
   "metadata": {},
   "outputs": [
    {
     "data": {
      "image/png": "[encoded data removed]",
      "text/plain": [
       "<Figure size 432x432 with 1 Axes>"
      ]
     },
     "metadata": {},
     "output_type": "display_data"
    }
   ],
   "source": [
    "tr = pd.DataFrame(data3['Effectiveness'].value_counts())[:5]\n",
    "tr_names = tr.index\n",
    "count = tr['Effectiveness']\n",
    "\n",
    "plt.style.use('ggplot')\n",
    "plt.figure(figsize=(6,6))\n",
    "plt.rc('font', size=10)\n",
    "plt.pie(count, autopct='%1.0f%%', labels = tr_names, pctdistance=1.1, labeldistance=1.2)\n",
    "plt.title('% of side effects in age group 3-6')\n",
    "plt.show()"
   ]
  },
  {
   "cell_type": "markdown",
   "metadata": {},
   "source": [
    "# 4.Pie chart showing how the drug affected age group 75 or above"
   ]
  },
  {
   "cell_type": "code",
   "execution_count": 56,
   "metadata": {},
   "outputs": [],
   "source": [
    "data4=data.loc[(data['Age']==\"75 or over\")]"
   ]
  },
  {
   "cell_type": "code",
   "execution_count": 57,
   "metadata": {},
   "outputs": [
    {
     "data": {
      "image/png": "[encoded data removed]",
      "text/plain": [
       "<Figure size 432x432 with 1 Axes>"
      ]
     },
     "metadata": {},
     "output_type": "display_data"
    }
   ],
   "source": [
    "tr = pd.DataFrame(data4['Effectiveness'].value_counts())[:5]\n",
    "tr_names = tr.index\n",
    "count = tr['Effectiveness']\n",
    "\n",
    "plt.style.use('ggplot')\n",
    "plt.figure(figsize=(6,6))\n",
    "plt.rc('font', size=10)\n",
    "plt.pie(count, autopct='%1.0f%%', labels = tr_names, pctdistance=1.1, labeldistance=1.2)\n",
    "plt.title('% of  patients having side effects in 75 or above age ')\n",
    "plt.show()"
   ]
  },
  {
   "cell_type": "markdown",
   "metadata": {},
   "source": [
    "# 5.Pie chart of how the drug affected age group 55-64"
   ]
  },
  {
   "cell_type": "code",
   "execution_count": 58,
   "metadata": {},
   "outputs": [],
   "source": [
    "data5=data.loc[(data['Age']==\"55-64\")]"
   ]
  },
  {
   "cell_type": "code",
   "execution_count": 59,
   "metadata": {},
   "outputs": [
    {
     "data": {
      "image/png": "[encoded data removed]",
      "text/plain": [
       "<Figure size 432x432 with 1 Axes>"
      ]
     },
     "metadata": {},
     "output_type": "display_data"
    }
   ],
   "source": [
    "tr = pd.DataFrame(data5['Effectiveness'].value_counts())[:5]\n",
    "tr_names = tr.index\n",
    "count = tr['Effectiveness']\n",
    "\n",
    "plt.style.use('ggplot')\n",
    "plt.figure(figsize=(6,6))\n",
    "plt.rc('font', size=10)\n",
    "plt.pie(count, autopct='%1.0f%%', labels = tr_names, pctdistance=1.1, labeldistance=1.2)\n",
    "plt.title('% of patients having side effects in age group 55-64')\n",
    "plt.show()"
   ]
  },
  {
   "cell_type": "markdown",
   "metadata": {},
   "source": [
    "# 6. How drug affected age group 65-74"
   ]
  },
  {
   "cell_type": "code",
   "execution_count": 60,
   "metadata": {},
   "outputs": [],
   "source": [
    "data6=data.loc[(data['Age']==\"65-74\")]"
   ]
  },
  {
   "cell_type": "code",
   "execution_count": 61,
   "metadata": {},
   "outputs": [
    {
     "data": {
      "image/png": "[encoded data removed]",
      "text/plain": [
       "<Figure size 432x432 with 1 Axes>"
      ]
     },
     "metadata": {},
     "output_type": "display_data"
    }
   ],
   "source": [
    "tr = pd.DataFrame(data6['Effectiveness'].value_counts())[:5]\n",
    "tr_names = tr.index\n",
    "count = tr['Effectiveness']\n",
    "\n",
    "plt.style.use('ggplot')\n",
    "plt.figure(figsize=(6,6))\n",
    "plt.rc('font', size=10)\n",
    "plt.pie(count, autopct='%1.0f%%', labels = tr_names, pctdistance=1.1, labeldistance=1.2)\n",
    "plt.title('% of patients having side effects in age group 65-74')\n",
    "plt.show()"
   ]
  },
  {
   "cell_type": "markdown",
   "metadata": {},
   "source": [
    "# 7.Pie chart showing how drug affected age group 45-54"
   ]
  },
  {
   "cell_type": "code",
   "execution_count": 62,
   "metadata": {},
   "outputs": [],
   "source": [
    "data7=data.loc[(data['Age']==\"45-54\")]"
   ]
  },
  {
   "cell_type": "code",
   "execution_count": 63,
   "metadata": {},
   "outputs": [
    {
     "data": {
      "image/png": "[encoded data removed]",
      "text/plain": [
       "<Figure size 432x432 with 1 Axes>"
      ]
     },
     "metadata": {},
     "output_type": "display_data"
    }
   ],
   "source": [
    "tr = pd.DataFrame(data7['Effectiveness'].value_counts())[:5]\n",
    "tr_names = tr.index\n",
    "count = tr['Effectiveness']\n",
    "\n",
    "plt.style.use('ggplot')\n",
    "plt.figure(figsize=(6,6))\n",
    "plt.rc('font', size=10)\n",
    "plt.pie(count, autopct='%1.0f%%', labels = tr_names, pctdistance=1.1, labeldistance=1.2)\n",
    "plt.title('% of patients having side effects in age group 45-54')\n",
    "plt.show()"
   ]
  },
  {
   "cell_type": "markdown",
   "metadata": {},
   "source": [
    "# 8.Pie chart showing how the drug affected age group 35-44"
   ]
  },
  {
   "cell_type": "code",
   "execution_count": 64,
   "metadata": {},
   "outputs": [],
   "source": [
    "data8=data.loc[(data['Age']==\"35-44\")]"
   ]
  },
  {
   "cell_type": "code",
   "execution_count": 65,
   "metadata": {},
   "outputs": [
    {
     "data": {
      "image/png": "[encoded data removed]",
      "text/plain": [
       "<Figure size 432x432 with 1 Axes>"
      ]
     },
     "metadata": {},
     "output_type": "display_data"
    }
   ],
   "source": [
    "tr = pd.DataFrame(data8['Effectiveness'].value_counts())[:5]\n",
    "tr_names = tr.index\n",
    "count = tr['Effectiveness']\n",
    "\n",
    "plt.style.use('ggplot')\n",
    "plt.figure(figsize=(6,6))\n",
    "plt.rc('font', size=10)\n",
    "plt.pie(count, autopct='%1.0f%%', labels = tr_names, pctdistance=1.1, labeldistance=1.2)\n",
    "plt.title('% of patients having side effects in age group 35-44')\n",
    "plt.show()"
   ]
  },
  {
   "cell_type": "markdown",
   "metadata": {},
   "source": [
    "# 9.Pie chart showing how the drug affected age group 25-34"
   ]
  },
  {
   "cell_type": "code",
   "execution_count": 66,
   "metadata": {},
   "outputs": [],
   "source": [
    "data9=data.loc[(data['Age']==\"25-34\")]"
   ]
  },
  {
   "cell_type": "code",
   "execution_count": 67,
   "metadata": {},
   "outputs": [
    {
     "data": {
      "image/png": "[encoded data removed]",
      "text/plain": [
       "<Figure size 432x432 with 1 Axes>"
      ]
     },
     "metadata": {},
     "output_type": "display_data"
    }
   ],
   "source": [
    "tr = pd.DataFrame(data9['Effectiveness'].value_counts())[:5]\n",
    "tr_names = tr.index\n",
    "count = tr['Effectiveness']\n",
    "\n",
    "plt.style.use('ggplot')\n",
    "plt.figure(figsize=(6,6))\n",
    "plt.rc('font', size=10)\n",
    "plt.pie(count, autopct='%1.0f%%', labels = tr_names, pctdistance=1.1, labeldistance=1.2)\n",
    "plt.title('% of patients having side effects in age group 25-34')\n",
    "plt.show()"
   ]
  },
  {
   "cell_type": "markdown",
   "metadata": {},
   "source": [
    "# 10.Pie chart showing how the drug affected age group 19-24"
   ]
  },
  {
   "cell_type": "code",
   "execution_count": 68,
   "metadata": {},
   "outputs": [],
   "source": [
    "data10=data.loc[(data['Age']==\"19-24\")]"
   ]
  },
  {
   "cell_type": "code",
   "execution_count": 69,
   "metadata": {},
   "outputs": [
    {
     "data": {
      "image/png": "[encoded data removed]",
      "text/plain": [
       "<Figure size 432x432 with 1 Axes>"
      ]
     },
     "metadata": {},
     "output_type": "display_data"
    }
   ],
   "source": [
    "tr = pd.DataFrame(data10['Effectiveness'].value_counts())[:5]\n",
    "tr_names = tr.index\n",
    "count = tr['Effectiveness']\n",
    "\n",
    "plt.style.use('ggplot')\n",
    "plt.figure(figsize=(6,6))\n",
    "plt.rc('font', size=10)\n",
    "plt.pie(count, autopct='%1.0f%%', labels = tr_names, pctdistance=1.1, labeldistance=1.2)\n",
    "plt.title('% of patients having side effects in age group 19-24')\n",
    "plt.show()"
   ]
  },
  {
   "cell_type": "markdown",
   "metadata": {},
   "source": [
    "# 11.Pie chart showing how the drug affected age group 13-18"
   ]
  },
  {
   "cell_type": "code",
   "execution_count": 70,
   "metadata": {},
   "outputs": [],
   "source": [
    "data11=data.loc[(data['Age']==\"13-18\")]"
   ]
  },
  {
   "cell_type": "code",
   "execution_count": 71,
   "metadata": {},
   "outputs": [
    {
     "data": {
      "image/png": "[encoded data removed]",
      "text/plain": [
       "<Figure size 432x432 with 1 Axes>"
      ]
     },
     "metadata": {},
     "output_type": "display_data"
    }
   ],
   "source": [
    "tr = pd.DataFrame(data11['Effectiveness'].value_counts())[:5]\n",
    "tr_names = tr.index\n",
    "count = tr['Effectiveness']\n",
    "\n",
    "plt.style.use('ggplot')\n",
    "plt.figure(figsize=(6,6))\n",
    "plt.rc('font', size=10)\n",
    "plt.pie(count, autopct='%1.0f%%', labels = tr_names, pctdistance=1.1, labeldistance=1.2)\n",
    "plt.title('% of patients having side effects in age group 13-18')\n",
    "plt.show()"
   ]
  },
  {
   "cell_type": "markdown",
   "metadata": {},
   "source": [
    "# 12.Pie chart showing how the drug affected age group 7-12"
   ]
  },
  {
   "cell_type": "code",
   "execution_count": 72,
   "metadata": {},
   "outputs": [],
   "source": [
    "data12=data.loc[(data['Age']==\"7-12\")]"
   ]
  },
  {
   "cell_type": "code",
   "execution_count": 73,
   "metadata": {},
   "outputs": [
    {
     "data": {
      "image/png": "[encoded data removed]",
      "text/plain": [
       "<Figure size 432x432 with 1 Axes>"
      ]
     },
     "metadata": {},
     "output_type": "display_data"
    }
   ],
   "source": [
    "tr = pd.DataFrame(data12['Effectiveness'].value_counts())[:5]\n",
    "tr_names = tr.index\n",
    "count = tr['Effectiveness']\n",
    "\n",
    "plt.style.use('ggplot')\n",
    "plt.figure(figsize=(6,6))\n",
    "plt.rc('font', size=10)\n",
    "plt.pie(count, autopct='%1.0f%%', labels = tr_names, pctdistance=1.1, labeldistance=1.2)\n",
    "plt.title('% of patients having side effects in age group 7-12')\n",
    "plt.show()"
   ]
  },
  {
   "cell_type": "markdown",
   "metadata": {},
   "source": [
    "# 13.Pie chart showing how the drug affected age group 0-2"
   ]
  },
  {
   "cell_type": "code",
   "execution_count": 74,
   "metadata": {},
   "outputs": [],
   "source": [
    "data13=data.loc[(data['Age']==\"0-2\")]"
   ]
  },
  {
   "cell_type": "code",
   "execution_count": 75,
   "metadata": {},
   "outputs": [
    {
     "data": {
      "image/png": "[encoded data removed]",
      "text/plain": [
       "<Figure size 432x432 with 1 Axes>"
      ]
     },
     "metadata": {},
     "output_type": "display_data"
    }
   ],
   "source": [
    "tr = pd.DataFrame(data13['Effectiveness'].value_counts())[:5]\n",
    "tr_names = tr.index\n",
    "count = tr['Effectiveness']\n",
    "\n",
    "plt.style.use('ggplot')\n",
    "plt.figure(figsize=(6,6))\n",
    "plt.rc('font', size=10)\n",
    "plt.pie(count, autopct='%1.0f%%', labels = tr_names, pctdistance=1.1, labeldistance=1.2)\n",
    "plt.title('% of patients having side effects in age group 0-2')\n",
    "plt.show()"
   ]
  },
  {
   "cell_type": "markdown",
   "metadata": {},
   "source": [
    "# 14.Pie chart showing side effects on patients with high blood pressure"
   ]
  },
  {
   "cell_type": "code",
   "execution_count": 76,
   "metadata": {},
   "outputs": [],
   "source": [
    "data14=data.loc[(data['Condition']==\"High Blood Pressure\")]"
   ]
  },
  {
   "cell_type": "code",
   "execution_count": 77,
   "metadata": {},
   "outputs": [
    {
     "data": {
      "image/png": "[encoded data removed]",
      "text/plain": [
       "<Figure size 432x432 with 1 Axes>"
      ]
     },
     "metadata": {},
     "output_type": "display_data"
    }
   ],
   "source": [
    "tr = pd.DataFrame(data14['Effectiveness'].value_counts())[:5]\n",
    "tr_names = tr.index\n",
    "count = tr['Effectiveness']\n",
    "\n",
    "plt.style.use('ggplot')\n",
    "plt.figure(figsize=(6,6))\n",
    "plt.rc('font', size=10)\n",
    "plt.pie(count, autopct='%1.0f%%', labels = tr_names, pctdistance=1.1, labeldistance=1.2)\n",
    "plt.title('% of high blood pressure patients having side effects')\n",
    "plt.show()"
   ]
  },
  {
   "cell_type": "markdown",
   "metadata": {},
   "source": [
    "# Changing index:Making it ranging from  0 to 8343"
   ]
  },
  {
   "cell_type": "code",
   "execution_count": 78,
   "metadata": {},
   "outputs": [],
   "source": [
    "list2=list(range(8344))"
   ]
  },
  {
   "cell_type": "code",
   "execution_count": 79,
   "metadata": {},
   "outputs": [],
   "source": [
    "data=data.set_index([list2])\n"
   ]
  },
  {
   "cell_type": "markdown",
   "metadata": {},
   "source": [
    "# Label Encoding"
   ]
  },
  {
   "cell_type": "code",
   "execution_count": 80,
   "metadata": {},
   "outputs": [],
   "source": [
    "from sklearn.preprocessing import LabelEncoder\n",
    "label=LabelEncoder()\n",
    "for col in [\"Age\",\"Condition\",\"Sex\"]:\n",
    "    data[col]=label.fit_transform(data[col])\n",
    "datastand=data"
   ]
  },
  {
   "cell_type": "code",
   "execution_count": 81,
   "metadata": {},
   "outputs": [
    {
     "data": {
      "text/html": [
       "<div>\n",
       "<style scoped>\n",
       "    .dataframe tbody tr th:only-of-type {\n",
       "        vertical-align: middle;\n",
       "    }\n",
       "\n",
       "    .dataframe tbody tr th {\n",
       "        vertical-align: top;\n",
       "    }\n",
       "\n",
       "    .dataframe thead th {\n",
       "        text-align: right;\n",
       "    }\n",
       "</style>\n",
       "<table border=\"1\" class=\"dataframe\">\n",
       "  <thead>\n",
       "    <tr style=\"text-align: right;\">\n",
       "      <th></th>\n",
       "      <th>Age</th>\n",
       "      <th>Condition</th>\n",
       "      <th>EaseofUse</th>\n",
       "      <th>Effectiveness</th>\n",
       "      <th>Satisfaction</th>\n",
       "      <th>Sex</th>\n",
       "      <th>UsefulCount</th>\n",
       "    </tr>\n",
       "  </thead>\n",
       "  <tbody>\n",
       "    <tr>\n",
       "      <th>0</th>\n",
       "      <td>4</td>\n",
       "      <td>4</td>\n",
       "      <td>5</td>\n",
       "      <td>no side effects</td>\n",
       "      <td>5</td>\n",
       "      <td>0</td>\n",
       "      <td>14</td>\n",
       "    </tr>\n",
       "    <tr>\n",
       "      <th>1</th>\n",
       "      <td>10</td>\n",
       "      <td>4</td>\n",
       "      <td>5</td>\n",
       "      <td>mild side effects</td>\n",
       "      <td>4</td>\n",
       "      <td>0</td>\n",
       "      <td>3</td>\n",
       "    </tr>\n",
       "    <tr>\n",
       "      <th>2</th>\n",
       "      <td>7</td>\n",
       "      <td>4</td>\n",
       "      <td>4</td>\n",
       "      <td>no side effects</td>\n",
       "      <td>4</td>\n",
       "      <td>1</td>\n",
       "      <td>3</td>\n",
       "    </tr>\n",
       "    <tr>\n",
       "      <th>3</th>\n",
       "      <td>8</td>\n",
       "      <td>4</td>\n",
       "      <td>5</td>\n",
       "      <td>no side effects</td>\n",
       "      <td>5</td>\n",
       "      <td>1</td>\n",
       "      <td>6</td>\n",
       "    </tr>\n",
       "    <tr>\n",
       "      <th>4</th>\n",
       "      <td>7</td>\n",
       "      <td>4</td>\n",
       "      <td>2</td>\n",
       "      <td>mild side effects</td>\n",
       "      <td>2</td>\n",
       "      <td>1</td>\n",
       "      <td>12</td>\n",
       "    </tr>\n",
       "  </tbody>\n",
       "</table>\n",
       "</div>"
      ],
      "text/plain": [
       "   Age  Condition  EaseofUse      Effectiveness  Satisfaction  Sex  \\\n",
       "0    4          4          5    no side effects             5    0   \n",
       "1   10          4          5  mild side effects             4    0   \n",
       "2    7          4          4    no side effects             4    1   \n",
       "3    8          4          5    no side effects             5    1   \n",
       "4    7          4          2  mild side effects             2    1   \n",
       "\n",
       "   UsefulCount  \n",
       "0           14  \n",
       "1            3  \n",
       "2            3  \n",
       "3            6  \n",
       "4           12  "
      ]
     },
     "execution_count": 81,
     "metadata": {},
     "output_type": "execute_result"
    }
   ],
   "source": [
    "data.head()"
   ]
  },
  {
   "cell_type": "code",
   "execution_count": 82,
   "metadata": {},
   "outputs": [],
   "source": [
    "y=data['Effectiveness']\n",
    "x=data.drop(['Effectiveness'],axis=1)\n",
    "x1=x\n",
    "x2=x"
   ]
  },
  {
   "cell_type": "code",
   "execution_count": 83,
   "metadata": {},
   "outputs": [],
   "source": [
    "from sklearn.model_selection import train_test_split\n",
    "x_train,x_test,y_train,y_test=train_test_split(x,y,random_state=42,test_size=0.1)"
   ]
  },
  {
   "cell_type": "markdown",
   "metadata": {},
   "source": [
    "# 1.Logistic Regression"
   ]
  },
  {
   "cell_type": "code",
   "execution_count": 84,
   "metadata": {},
   "outputs": [
    {
     "name": "stderr",
     "output_type": "stream",
     "text": [
      "C:\\Users\\User\\Anaconda3\\lib\\site-packages\\sklearn\\linear_model\\logistic.py:433: FutureWarning: Default solver will be changed to 'lbfgs' in 0.22. Specify a solver to silence this warning.\n",
      "  FutureWarning)\n",
      "C:\\Users\\User\\Anaconda3\\lib\\site-packages\\sklearn\\linear_model\\logistic.py:460: FutureWarning: Default multi_class will be changed to 'auto' in 0.22. Specify the multi_class option to silence this warning.\n",
      "  \"this warning.\", FutureWarning)\n"
     ]
    }
   ],
   "source": [
    "from sklearn.linear_model import LogisticRegression\n",
    "logic=LogisticRegression()\n",
    "logic.fit(x_train,y_train)\n",
    "y_logic=logic.predict(x_test)"
   ]
  },
  {
   "cell_type": "code",
   "execution_count": 85,
   "metadata": {},
   "outputs": [],
   "source": [
    "from sklearn.metrics import accuracy_score,precision_score,f1_score,confusion_matrix"
   ]
  },
  {
   "cell_type": "code",
   "execution_count": 86,
   "metadata": {},
   "outputs": [
    {
     "name": "stdout",
     "output_type": "stream",
     "text": [
      "accuracy is 0.4658682634730539\n"
     ]
    }
   ],
   "source": [
    "print(\"accuracy is\",accuracy_score(y_test,y_logic))\n"
   ]
  },
  {
   "cell_type": "code",
   "execution_count": 87,
   "metadata": {},
   "outputs": [
    {
     "name": "stdout",
     "output_type": "stream",
     "text": [
      "confusion matrix is [[ 78   3  34   2   0]\n",
      " [ 18  84  27  87   0]\n",
      " [ 42  75  58  24   0]\n",
      " [  5  15  23 169   0]\n",
      " [ 44   9  35   3   0]]\n"
     ]
    }
   ],
   "source": [
    "print(\"confusion matrix is\",confusion_matrix(y_test,y_logic))"
   ]
  },
  {
   "cell_type": "markdown",
   "metadata": {},
   "source": [
    "# 2.KNN"
   ]
  },
  {
   "cell_type": "code",
   "execution_count": 88,
   "metadata": {},
   "outputs": [],
   "source": [
    "from sklearn.neighbors import KNeighborsClassifier\n",
    "classifier=KNeighborsClassifier(n_neighbors=5, metric='minkowski')\n",
    "classifier.fit(x_train,y_train)\n",
    "y_pred=classifier.predict(x_test)\n",
    "acc=accuracy_score(y_test,y_pred)"
   ]
  },
  {
   "cell_type": "code",
   "execution_count": 89,
   "metadata": {},
   "outputs": [
    {
     "name": "stdout",
     "output_type": "stream",
     "text": [
      "accuracy is 0.6251497005988024\n",
      "confusion matrix is [[ 78  10   9  11   9]\n",
      " [ 13 136  29  34   4]\n",
      " [ 22  35 123  10   9]\n",
      " [ 10  27  16 155   4]\n",
      " [ 25  12  20   4  30]]\n"
     ]
    }
   ],
   "source": [
    "print(\"accuracy is\",accuracy_score(y_test,y_pred))\n",
    "print(\"confusion matrix is\",confusion_matrix(y_test,y_pred))"
   ]
  },
  {
   "cell_type": "markdown",
   "metadata": {},
   "source": [
    "# Linear svm"
   ]
  },
  {
   "cell_type": "code",
   "execution_count": 90,
   "metadata": {},
   "outputs": [
    {
     "name": "stderr",
     "output_type": "stream",
     "text": [
      "C:\\Users\\User\\Anaconda3\\lib\\site-packages\\sklearn\\svm\\base.py:931: ConvergenceWarning: Liblinear failed to converge, increase the number of iterations.\n",
      "  \"the number of iterations.\", ConvergenceWarning)\n"
     ]
    }
   ],
   "source": [
    "from sklearn.svm import LinearSVC\n",
    "support=LinearSVC()\n",
    "support.fit(x_train,y_train)\n",
    "y_support=support.predict(x_test)"
   ]
  },
  {
   "cell_type": "code",
   "execution_count": 91,
   "metadata": {},
   "outputs": [
    {
     "name": "stdout",
     "output_type": "stream",
     "text": [
      "accuracy is 0.429940119760479\n",
      "confusion matrix is [[ 97   0  18   2   0]\n",
      " [ 27  28  29 132   0]\n",
      " [ 54  50  60  35   0]\n",
      " [ 17   4  17 174   0]\n",
      " [ 57   6  23   5   0]]\n"
     ]
    }
   ],
   "source": [
    "print(\"accuracy is\",accuracy_score(y_test,y_support))\n",
    "\n",
    "print(\"confusion matrix is\",confusion_matrix(y_test,y_support))"
   ]
  },
  {
   "cell_type": "markdown",
   "metadata": {},
   "source": [
    "# Radial Basis Function"
   ]
  },
  {
   "cell_type": "code",
   "execution_count": 92,
   "metadata": {},
   "outputs": [
    {
     "name": "stderr",
     "output_type": "stream",
     "text": [
      "C:\\Users\\User\\Anaconda3\\lib\\site-packages\\sklearn\\svm\\base.py:196: FutureWarning: The default value of gamma will change from 'auto' to 'scale' in version 0.22 to account better for unscaled features. Set gamma explicitly to 'auto' or 'scale' to avoid this warning.\n",
      "  \"avoid this warning.\", FutureWarning)\n"
     ]
    }
   ],
   "source": [
    "from sklearn.svm import SVC\n",
    "supportrbf=SVC(kernel='rbf')\n",
    "supportrbf.fit(x_train,y_train)\n",
    "y_supportrbf=supportrbf.predict(x_test)"
   ]
  },
  {
   "cell_type": "code",
   "execution_count": 93,
   "metadata": {},
   "outputs": [
    {
     "name": "stdout",
     "output_type": "stream",
     "text": [
      "accuracy is 0.5976047904191617\n",
      "confusion matrix is [[ 88  10  12   2   5]\n",
      " [ 15 128  37  35   1]\n",
      " [ 21  32 122  17   7]\n",
      " [ 14  31  20 146   1]\n",
      " [ 34   8  31   3  15]]\n"
     ]
    }
   ],
   "source": [
    "print(\"accuracy is\",accuracy_score(y_test,y_supportrbf))\n",
    "print(\"confusion matrix is\",confusion_matrix(y_test,y_supportrbf))"
   ]
  },
  {
   "cell_type": "markdown",
   "metadata": {},
   "source": [
    "# Decision Tree"
   ]
  },
  {
   "cell_type": "code",
   "execution_count": 94,
   "metadata": {},
   "outputs": [
    {
     "data": {
      "text/plain": [
       "DecisionTreeClassifier(class_weight=None, criterion='gini', max_depth=None,\n",
       "            max_features=None, max_leaf_nodes=None,\n",
       "            min_impurity_decrease=0.0, min_impurity_split=None,\n",
       "            min_samples_leaf=1, min_samples_split=2,\n",
       "            min_weight_fraction_leaf=0.0, presort=False, random_state=None,\n",
       "            splitter='best')"
      ]
     },
     "execution_count": 94,
     "metadata": {},
     "output_type": "execute_result"
    }
   ],
   "source": [
    "from sklearn.tree import DecisionTreeClassifier\n",
    "decision=DecisionTreeClassifier()\n",
    "decision.fit(x_train,y_train)"
   ]
  },
  {
   "cell_type": "code",
   "execution_count": 95,
   "metadata": {},
   "outputs": [],
   "source": [
    "y_decision=decision.predict(x_test)"
   ]
  },
  {
   "cell_type": "code",
   "execution_count": 96,
   "metadata": {},
   "outputs": [
    {
     "name": "stdout",
     "output_type": "stream",
     "text": [
      "accuracy is 0.7305389221556886\n",
      "confusion matrix is [[ 90   9   7   8   3]\n",
      " [  8 154  21  28   5]\n",
      " [ 22  26 136  10   5]\n",
      " [  6  16  14 175   1]\n",
      " [ 17  10   6   3  55]]\n"
     ]
    }
   ],
   "source": [
    "print(\"accuracy is\",accuracy_score(y_test,y_decision))\n",
    "print(\"confusion matrix is\",confusion_matrix(y_test,y_decision))"
   ]
  },
  {
   "cell_type": "markdown",
   "metadata": {},
   "source": [
    "# Fine tuning of parametres"
   ]
  },
  {
   "cell_type": "code",
   "execution_count": 97,
   "metadata": {},
   "outputs": [
    {
     "data": {
      "text/plain": [
       "DecisionTreeClassifier(class_weight=None, criterion='gini', max_depth=100,\n",
       "            max_features=None, max_leaf_nodes=None,\n",
       "            min_impurity_decrease=0.0, min_impurity_split=None,\n",
       "            min_samples_leaf=1, min_samples_split=2,\n",
       "            min_weight_fraction_leaf=0.0, presort=False, random_state=42,\n",
       "            splitter='best')"
      ]
     },
     "execution_count": 97,
     "metadata": {},
     "output_type": "execute_result"
    }
   ],
   "source": [
    "\n",
    "decisionfine=DecisionTreeClassifier(max_depth=100,random_state=42)\n",
    "decisionfine.fit(x_train,y_train)"
   ]
  },
  {
   "cell_type": "code",
   "execution_count": 98,
   "metadata": {},
   "outputs": [
    {
     "name": "stdout",
     "output_type": "stream",
     "text": [
      "accuracy is 0.7305389221556886\n",
      "confusion matrix is [[ 90   9   7   8   3]\n",
      " [  8 154  21  28   5]\n",
      " [ 22  26 136  10   5]\n",
      " [  6  16  14 175   1]\n",
      " [ 17  10   6   3  55]]\n"
     ]
    }
   ],
   "source": [
    "y_decisionfine=decisionfine.predict(x_test)\n",
    "print(\"accuracy is\",accuracy_score(y_test,y_decisionfine))\n",
    "print(\"confusion matrix is\",confusion_matrix(y_test,y_decisionfine))"
   ]
  },
  {
   "cell_type": "markdown",
   "metadata": {},
   "source": [
    "# Random Forest"
   ]
  },
  {
   "cell_type": "code",
   "execution_count": 99,
   "metadata": {},
   "outputs": [
    {
     "name": "stderr",
     "output_type": "stream",
     "text": [
      "C:\\Users\\User\\Anaconda3\\lib\\site-packages\\sklearn\\ensemble\\forest.py:246: FutureWarning: The default value of n_estimators will change from 10 in version 0.20 to 100 in 0.22.\n",
      "  \"10 in version 0.20 to 100 in 0.22.\", FutureWarning)\n"
     ]
    },
    {
     "data": {
      "text/plain": [
       "RandomForestClassifier(bootstrap=True, class_weight=None, criterion='gini',\n",
       "            max_depth=None, max_features='auto', max_leaf_nodes=None,\n",
       "            min_impurity_decrease=0.0, min_impurity_split=None,\n",
       "            min_samples_leaf=1, min_samples_split=2,\n",
       "            min_weight_fraction_leaf=0.0, n_estimators=10, n_jobs=None,\n",
       "            oob_score=False, random_state=None, verbose=0,\n",
       "            warm_start=False)"
      ]
     },
     "execution_count": 99,
     "metadata": {},
     "output_type": "execute_result"
    }
   ],
   "source": [
    "from sklearn.ensemble import RandomForestClassifier\n",
    "rand=RandomForestClassifier()\n",
    "rand.fit(x_train,y_train)"
   ]
  },
  {
   "cell_type": "code",
   "execution_count": 100,
   "metadata": {},
   "outputs": [
    {
     "name": "stdout",
     "output_type": "stream",
     "text": [
      "accuracy is 0.7221556886227545\n",
      "confusion matrix is [[ 89   6   8  10   4]\n",
      " [  6 149  25  29   7]\n",
      " [ 16  27 138   7  11]\n",
      " [  4  16  16 174   2]\n",
      " [ 14   9  10   5  53]]\n"
     ]
    }
   ],
   "source": [
    "y_rand=rand.predict(x_test)\n",
    "print(\"accuracy is\",accuracy_score(y_test,y_rand))\n",
    "print(\"confusion matrix is\",confusion_matrix(y_test,y_rand))"
   ]
  },
  {
   "cell_type": "markdown",
   "metadata": {},
   "source": [
    "# Fine tuning of parametres"
   ]
  },
  {
   "cell_type": "code",
   "execution_count": 101,
   "metadata": {},
   "outputs": [
    {
     "name": "stdout",
     "output_type": "stream",
     "text": [
      "accuracy is 0.7377245508982035\n",
      "confusion matrix is [[ 88   7  10   9   3]\n",
      " [  5 150  26  30   5]\n",
      " [ 13  23 147  10   6]\n",
      " [  5  16  14 174   3]\n",
      " [  8  10  11   5  57]]\n"
     ]
    }
   ],
   "source": [
    "randfine=RandomForestClassifier(max_depth=100,n_estimators=100)\n",
    "randfine.fit(x_train,y_train)\n",
    "y_randfine=randfine.predict(x_test)\n",
    "print(\"accuracy is\",accuracy_score(y_test,y_randfine))\n",
    "print(\"confusion matrix is\",confusion_matrix(y_test,y_randfine))"
   ]
  },
  {
   "cell_type": "markdown",
   "metadata": {},
   "source": [
    "# Gradient Boosting"
   ]
  },
  {
   "cell_type": "code",
   "execution_count": 102,
   "metadata": {},
   "outputs": [
    {
     "data": {
      "text/plain": [
       "GradientBoostingClassifier(criterion='friedman_mse', init=None,\n",
       "              learning_rate=0.1, loss='deviance', max_depth=3,\n",
       "              max_features=None, max_leaf_nodes=None,\n",
       "              min_impurity_decrease=0.0, min_impurity_split=None,\n",
       "              min_samples_leaf=1, min_samples_split=2,\n",
       "              min_weight_fraction_leaf=0.0, n_estimators=100,\n",
       "              n_iter_no_change=None, presort='auto', random_state=None,\n",
       "              subsample=1.0, tol=0.0001, validation_fraction=0.1,\n",
       "              verbose=0, warm_start=False)"
      ]
     },
     "execution_count": 102,
     "metadata": {},
     "output_type": "execute_result"
    }
   ],
   "source": [
    "from sklearn.ensemble import GradientBoostingClassifier\n",
    "grad=GradientBoostingClassifier()\n",
    "grad.fit(x_train,y_train)"
   ]
  },
  {
   "cell_type": "code",
   "execution_count": 103,
   "metadata": {},
   "outputs": [
    {
     "name": "stdout",
     "output_type": "stream",
     "text": [
      "accuracy is 0.5844311377245509\n",
      "confusion matrix is [[ 77  10  14  12   4]\n",
      " [ 10 126  33  44   3]\n",
      " [ 18  46 112  17   6]\n",
      " [ 14  21  23 152   2]\n",
      " [ 28  11  25   6  21]]\n"
     ]
    }
   ],
   "source": [
    "y_grad=grad.predict(x_test)\n",
    "print(\"accuracy is\",accuracy_score(y_test,y_grad))\n",
    "print(\"confusion matrix is\",confusion_matrix(y_test,y_grad))"
   ]
  },
  {
   "cell_type": "code",
   "execution_count": 104,
   "metadata": {},
   "outputs": [],
   "source": [
    "from xgboost import XGBClassifier\n",
    "extr=XGBClassifier()\n",
    "extr.fit(x_train,y_train)\n",
    "y_extr=extr.predict(x_test)"
   ]
  },
  {
   "cell_type": "code",
   "execution_count": 105,
   "metadata": {},
   "outputs": [
    {
     "name": "stdout",
     "output_type": "stream",
     "text": [
      "accuracy is 0.578443113772455\n",
      "confusion matrix is [[ 76  11  13  13   4]\n",
      " [ 12 128  33  40   3]\n",
      " [ 19  44 113  17   6]\n",
      " [ 15  20  24 150   3]\n",
      " [ 28  13  30   4  16]]\n"
     ]
    }
   ],
   "source": [
    "print(\"accuracy is\",accuracy_score(y_test,y_extr))\n",
    "print(\"confusion matrix is\",confusion_matrix(y_test,y_extr))"
   ]
  },
  {
   "cell_type": "markdown",
   "metadata": {},
   "source": [
    "# Bernoulli Naive bayes"
   ]
  },
  {
   "cell_type": "code",
   "execution_count": 106,
   "metadata": {},
   "outputs": [],
   "source": [
    "from sklearn.naive_bayes import BernoulliNB\n",
    "BNB=BernoulliNB()\n",
    "BNB.fit(x_train,y_train)\n",
    "y_bnb=BNB.predict(x_test)\n"
   ]
  },
  {
   "cell_type": "code",
   "execution_count": 107,
   "metadata": {},
   "outputs": [
    {
     "name": "stdout",
     "output_type": "stream",
     "text": [
      "accuracy is 0.26467065868263473\n",
      "confusion matrix is [[  0  13   1 103   0]\n",
      " [  0  30   0 186   0]\n",
      " [  0  26   3 170   0]\n",
      " [  0  22   2 188   0]\n",
      " [  0  10   1  80   0]]\n"
     ]
    }
   ],
   "source": [
    "print(\"accuracy is\",accuracy_score(y_test,y_bnb))\n",
    "print(\"confusion matrix is\",confusion_matrix(y_test,y_bnb))"
   ]
  },
  {
   "cell_type": "markdown",
   "metadata": {},
   "source": [
    "# Standardisation"
   ]
  },
  {
   "cell_type": "code",
   "execution_count": 108,
   "metadata": {},
   "outputs": [
    {
     "name": "stderr",
     "output_type": "stream",
     "text": [
      "C:\\Users\\User\\Anaconda3\\lib\\site-packages\\sklearn\\preprocessing\\data.py:645: DataConversionWarning: Data with input dtype int32, int64 were all converted to float64 by StandardScaler.\n",
      "  return self.partial_fit(X, y)\n",
      "C:\\Users\\User\\Anaconda3\\lib\\site-packages\\sklearn\\base.py:464: DataConversionWarning: Data with input dtype int32, int64 were all converted to float64 by StandardScaler.\n",
      "  return self.fit(X, **fit_params).transform(X)\n"
     ]
    }
   ],
   "source": [
    "from sklearn.preprocessing import StandardScaler\n",
    "stand=StandardScaler()\n",
    "x=stand.fit_transform(x)"
   ]
  },
  {
   "cell_type": "code",
   "execution_count": 109,
   "metadata": {},
   "outputs": [],
   "source": [
    "x_train,x_test,y_train,y_test=train_test_split(x,y,test_size=0.1,random_state=42)"
   ]
  },
  {
   "cell_type": "markdown",
   "metadata": {},
   "source": [
    "# 1.Logistic Regression"
   ]
  },
  {
   "cell_type": "code",
   "execution_count": 110,
   "metadata": {},
   "outputs": [
    {
     "name": "stderr",
     "output_type": "stream",
     "text": [
      "C:\\Users\\User\\Anaconda3\\lib\\site-packages\\sklearn\\linear_model\\logistic.py:433: FutureWarning: Default solver will be changed to 'lbfgs' in 0.22. Specify a solver to silence this warning.\n",
      "  FutureWarning)\n",
      "C:\\Users\\User\\Anaconda3\\lib\\site-packages\\sklearn\\linear_model\\logistic.py:460: FutureWarning: Default multi_class will be changed to 'auto' in 0.22. Specify the multi_class option to silence this warning.\n",
      "  \"this warning.\", FutureWarning)\n"
     ]
    }
   ],
   "source": [
    "logic1=LogisticRegression()\n",
    "logic1.fit(x_train,y_train)\n",
    "y_logic1=logic1.predict(x_test)"
   ]
  },
  {
   "cell_type": "code",
   "execution_count": 111,
   "metadata": {},
   "outputs": [
    {
     "name": "stdout",
     "output_type": "stream",
     "text": [
      "0.4718562874251497\n"
     ]
    }
   ],
   "source": [
    "print(accuracy_score(y_test,y_logic1))"
   ]
  },
  {
   "cell_type": "markdown",
   "metadata": {},
   "source": [
    "# 2.KNN"
   ]
  },
  {
   "cell_type": "code",
   "execution_count": 112,
   "metadata": {},
   "outputs": [
    {
     "name": "stdout",
     "output_type": "stream",
     "text": [
      "accuracy is 0.6059880239520958\n"
     ]
    }
   ],
   "source": [
    "classifier1=KNeighborsClassifier(n_neighbors=5, metric='minkowski')\n",
    "classifier1.fit(x_train,y_train)\n",
    "y_pred1=classifier1.predict(x_test)\n",
    "acc=accuracy_score(y_test,y_pred1)\n",
    "print(\"accuracy is\",acc)"
   ]
  },
  {
   "cell_type": "markdown",
   "metadata": {},
   "source": [
    "# 3.SVM"
   ]
  },
  {
   "cell_type": "markdown",
   "metadata": {},
   "source": [
    "# a.Linear SVM"
   ]
  },
  {
   "cell_type": "code",
   "execution_count": 113,
   "metadata": {},
   "outputs": [
    {
     "name": "stderr",
     "output_type": "stream",
     "text": [
      "C:\\Users\\User\\Anaconda3\\lib\\site-packages\\sklearn\\svm\\base.py:931: ConvergenceWarning: Liblinear failed to converge, increase the number of iterations.\n",
      "  \"the number of iterations.\", ConvergenceWarning)\n"
     ]
    }
   ],
   "source": [
    "support1=LinearSVC()\n",
    "support1.fit(x_train,y_train)\n",
    "y_support1=support1.predict(x_test)\n",
    "acc=accuracy_score(y_test,y_support1)"
   ]
  },
  {
   "cell_type": "code",
   "execution_count": 114,
   "metadata": {},
   "outputs": [
    {
     "name": "stdout",
     "output_type": "stream",
     "text": [
      "accuracy is 0.4275449101796407\n"
     ]
    }
   ],
   "source": [
    "print(\"accuracy is\",acc)"
   ]
  },
  {
   "cell_type": "markdown",
   "metadata": {},
   "source": [
    "# b.RBF SVM"
   ]
  },
  {
   "cell_type": "code",
   "execution_count": 115,
   "metadata": {},
   "outputs": [
    {
     "name": "stderr",
     "output_type": "stream",
     "text": [
      "C:\\Users\\User\\Anaconda3\\lib\\site-packages\\sklearn\\svm\\base.py:196: FutureWarning: The default value of gamma will change from 'auto' to 'scale' in version 0.22 to account better for unscaled features. Set gamma explicitly to 'auto' or 'scale' to avoid this warning.\n",
      "  \"avoid this warning.\", FutureWarning)\n"
     ]
    }
   ],
   "source": [
    "supportrbf1=SVC(kernel='rbf')\n",
    "supportrbf1.fit(x_train,y_train)\n",
    "y_supportrbf1=supportrbf1.predict(x_test)"
   ]
  },
  {
   "cell_type": "code",
   "execution_count": 116,
   "metadata": {},
   "outputs": [
    {
     "name": "stdout",
     "output_type": "stream",
     "text": [
      "accuracy is 0.5808383233532934\n"
     ]
    }
   ],
   "source": [
    "acc=accuracy_score(y_test,y_supportrbf1)\n",
    "print(\"accuracy is\",acc)"
   ]
  },
  {
   "cell_type": "markdown",
   "metadata": {},
   "source": [
    "# 4.Decision Tree"
   ]
  },
  {
   "cell_type": "code",
   "execution_count": 117,
   "metadata": {},
   "outputs": [
    {
     "name": "stdout",
     "output_type": "stream",
     "text": [
      "accuracy is 0.7305389221556886\n"
     ]
    }
   ],
   "source": [
    "decision1=DecisionTreeClassifier()\n",
    "decision1.fit(x_train,y_train)\n",
    "y_decision1=decision1.predict(x_test)\n",
    "acc=accuracy_score(y_test,y_decision1)\n",
    "print(\"accuracy is\",acc)"
   ]
  },
  {
   "cell_type": "code",
   "execution_count": 118,
   "metadata": {},
   "outputs": [
    {
     "name": "stdout",
     "output_type": "stream",
     "text": [
      "accuracy is 0.7305389221556886\n"
     ]
    }
   ],
   "source": [
    "decisionfine1=DecisionTreeClassifier(max_depth=100,random_state=42)\n",
    "decisionfine1.fit(x_train,y_train)\n",
    "y_decisionfine1=decisionfine1.predict(x_test)\n",
    "acc=accuracy_score(y_test,y_decisionfine1)\n",
    "print(\"accuracy is\",acc)"
   ]
  },
  {
   "cell_type": "markdown",
   "metadata": {},
   "source": [
    "# 5.Random Forest"
   ]
  },
  {
   "cell_type": "code",
   "execution_count": 119,
   "metadata": {},
   "outputs": [
    {
     "name": "stdout",
     "output_type": "stream",
     "text": [
      "accuracy is 0.7281437125748503\n"
     ]
    },
    {
     "name": "stderr",
     "output_type": "stream",
     "text": [
      "C:\\Users\\User\\Anaconda3\\lib\\site-packages\\sklearn\\ensemble\\forest.py:246: FutureWarning: The default value of n_estimators will change from 10 in version 0.20 to 100 in 0.22.\n",
      "  \"10 in version 0.20 to 100 in 0.22.\", FutureWarning)\n"
     ]
    }
   ],
   "source": [
    "rand1=RandomForestClassifier()\n",
    "rand1.fit(x_train,y_train)\n",
    "y_rand1=rand1.predict(x_test)\n",
    "acc=accuracy_score(y_test,y_rand1)\n",
    "print(\"accuracy is\",acc)"
   ]
  },
  {
   "cell_type": "code",
   "execution_count": 120,
   "metadata": {},
   "outputs": [
    {
     "name": "stdout",
     "output_type": "stream",
     "text": [
      "accuracy is 0.7353293413173653\n"
     ]
    }
   ],
   "source": [
    "randfine1=RandomForestClassifier(max_depth=100,n_estimators=100)\n",
    "randfine1.fit(x_train,y_train)\n",
    "y_randfine1=randfine1.predict(x_test)\n",
    "print(\"accuracy is\",accuracy_score(y_test,y_randfine1))"
   ]
  },
  {
   "cell_type": "markdown",
   "metadata": {},
   "source": [
    "# 6.Gradient Boosting"
   ]
  },
  {
   "cell_type": "code",
   "execution_count": 121,
   "metadata": {},
   "outputs": [
    {
     "name": "stdout",
     "output_type": "stream",
     "text": [
      "accuracy is 0.5844311377245509\n"
     ]
    }
   ],
   "source": [
    "grad1=GradientBoostingClassifier()\n",
    "grad1.fit(x_train,y_train)\n",
    "y_grad1=grad1.predict(x_test)\n",
    "acc=accuracy_score(y_test,y_grad1)\n",
    "print(\"accuracy is\",acc)"
   ]
  },
  {
   "cell_type": "markdown",
   "metadata": {},
   "source": [
    "# 7.Extreme Gradient Boosting"
   ]
  },
  {
   "cell_type": "code",
   "execution_count": 122,
   "metadata": {},
   "outputs": [],
   "source": [
    "extr1=XGBClassifier()\n",
    "extr1.fit(x_train,y_train)\n",
    "y_extr1=extr1.predict(x_test)"
   ]
  },
  {
   "cell_type": "code",
   "execution_count": 123,
   "metadata": {},
   "outputs": [
    {
     "name": "stdout",
     "output_type": "stream",
     "text": [
      "accuracy is 0.578443113772455\n"
     ]
    }
   ],
   "source": [
    "acc=accuracy_score(y_test,y_extr1)\n",
    "print(\"accuracy is\",acc)"
   ]
  },
  {
   "cell_type": "markdown",
   "metadata": {},
   "source": [
    "# 8.Bernoulli Naive Bayes"
   ]
  },
  {
   "cell_type": "code",
   "execution_count": 124,
   "metadata": {},
   "outputs": [
    {
     "name": "stdout",
     "output_type": "stream",
     "text": [
      "accuracy is 0.38922155688622756\n"
     ]
    }
   ],
   "source": [
    "BNB1=BernoulliNB()\n",
    "BNB1.fit(x_train,y_train)\n",
    "y_bnb1=BNB1.predict(x_test)\n",
    "acc=accuracy_score(y_test,y_bnb1)\n",
    "print(\"accuracy is\",acc)"
   ]
  },
  {
   "cell_type": "markdown",
   "metadata": {},
   "source": [
    "# Normalization"
   ]
  },
  {
   "cell_type": "code",
   "execution_count": 125,
   "metadata": {},
   "outputs": [],
   "source": [
    "from sklearn.preprocessing import Normalizer\n",
    "norm=Normalizer()\n",
    "x1=norm.fit_transform(x1)"
   ]
  },
  {
   "cell_type": "code",
   "execution_count": 126,
   "metadata": {},
   "outputs": [],
   "source": [
    "x1_train,x1_test,y_train,y_test=train_test_split(x1,y,test_size=0.1,random_state=42)"
   ]
  },
  {
   "cell_type": "markdown",
   "metadata": {},
   "source": [
    "# 1.Logistic Regression"
   ]
  },
  {
   "cell_type": "code",
   "execution_count": 127,
   "metadata": {},
   "outputs": [
    {
     "name": "stdout",
     "output_type": "stream",
     "text": [
      "0.4251497005988024\n"
     ]
    },
    {
     "name": "stderr",
     "output_type": "stream",
     "text": [
      "C:\\Users\\User\\Anaconda3\\lib\\site-packages\\sklearn\\linear_model\\logistic.py:433: FutureWarning: Default solver will be changed to 'lbfgs' in 0.22. Specify a solver to silence this warning.\n",
      "  FutureWarning)\n",
      "C:\\Users\\User\\Anaconda3\\lib\\site-packages\\sklearn\\linear_model\\logistic.py:460: FutureWarning: Default multi_class will be changed to 'auto' in 0.22. Specify the multi_class option to silence this warning.\n",
      "  \"this warning.\", FutureWarning)\n"
     ]
    }
   ],
   "source": [
    "logic2=LogisticRegression()\n",
    "logic2.fit(x1_train,y_train)\n",
    "y_logic2=logic2.predict(x1_test)\n",
    "print(accuracy_score(y_test,y_logic2))"
   ]
  },
  {
   "cell_type": "markdown",
   "metadata": {},
   "source": [
    "# 2.KNN"
   ]
  },
  {
   "cell_type": "code",
   "execution_count": 128,
   "metadata": {},
   "outputs": [
    {
     "name": "stdout",
     "output_type": "stream",
     "text": [
      "accuracy is 0.5952095808383233\n"
     ]
    }
   ],
   "source": [
    "classifier2=KNeighborsClassifier(n_neighbors=5, metric='minkowski')\n",
    "classifier2.fit(x1_train,y_train)\n",
    "y_pred2=classifier2.predict(x1_test)\n",
    "acc=accuracy_score(y_test,y_pred2)\n",
    "print(\"accuracy is\",acc)"
   ]
  },
  {
   "cell_type": "markdown",
   "metadata": {},
   "source": [
    "# 3.SVM"
   ]
  },
  {
   "cell_type": "markdown",
   "metadata": {},
   "source": [
    "# a.Linear SVM"
   ]
  },
  {
   "cell_type": "code",
   "execution_count": 129,
   "metadata": {},
   "outputs": [
    {
     "name": "stdout",
     "output_type": "stream",
     "text": [
      "accuracy is 0.4119760479041916\n"
     ]
    }
   ],
   "source": [
    "support2=LinearSVC()\n",
    "support2.fit(x1_train,y_train)\n",
    "y_support2=support2.predict(x1_test)\n",
    "acc=accuracy_score(y_test,y_support2)\n",
    "print(\"accuracy is\",acc)"
   ]
  },
  {
   "cell_type": "markdown",
   "metadata": {},
   "source": [
    "# b.RBF"
   ]
  },
  {
   "cell_type": "code",
   "execution_count": 130,
   "metadata": {},
   "outputs": [
    {
     "name": "stderr",
     "output_type": "stream",
     "text": [
      "C:\\Users\\User\\Anaconda3\\lib\\site-packages\\sklearn\\svm\\base.py:196: FutureWarning: The default value of gamma will change from 'auto' to 'scale' in version 0.22 to account better for unscaled features. Set gamma explicitly to 'auto' or 'scale' to avoid this warning.\n",
      "  \"avoid this warning.\", FutureWarning)\n"
     ]
    },
    {
     "name": "stdout",
     "output_type": "stream",
     "text": [
      "accuracy is 0.4119760479041916\n"
     ]
    }
   ],
   "source": [
    "supportrbf2=SVC(kernel='rbf')\n",
    "supportrbf2.fit(x1_train,y_train)\n",
    "y_supportrbf2=supportrbf2.predict(x1_test)\n",
    "acc=accuracy_score(y_test,y_support2)\n",
    "print(\"accuracy is\",acc)"
   ]
  },
  {
   "cell_type": "markdown",
   "metadata": {},
   "source": [
    "# 4.Decision Tree"
   ]
  },
  {
   "cell_type": "code",
   "execution_count": 131,
   "metadata": {},
   "outputs": [
    {
     "name": "stdout",
     "output_type": "stream",
     "text": [
      "accuracy is 0.7305389221556886\n"
     ]
    }
   ],
   "source": [
    "decision2=DecisionTreeClassifier()\n",
    "decision2.fit(x1_train,y_train)\n",
    "y_decision2=decision2.predict(x1_test)\n",
    "acc=accuracy_score(y_test,y_decision2)\n",
    "print(\"accuracy is\",acc)"
   ]
  },
  {
   "cell_type": "code",
   "execution_count": 132,
   "metadata": {},
   "outputs": [
    {
     "name": "stdout",
     "output_type": "stream",
     "text": [
      "accuracy is 0.7305389221556886\n"
     ]
    }
   ],
   "source": [
    "decisionfine2=DecisionTreeClassifier(max_depth=100,random_state=42)\n",
    "decisionfine2.fit(x1_train,y_train)\n",
    "y_decisionfine2=decisionfine2.predict(x1_test)\n",
    "acc=accuracy_score(y_test,y_decisionfine2)\n",
    "print(\"accuracy is\",acc)"
   ]
  },
  {
   "cell_type": "markdown",
   "metadata": {},
   "source": [
    "# 5.Random Forest"
   ]
  },
  {
   "cell_type": "code",
   "execution_count": 133,
   "metadata": {},
   "outputs": [
    {
     "name": "stdout",
     "output_type": "stream",
     "text": [
      "accuracy is 0.7005988023952096\n"
     ]
    },
    {
     "name": "stderr",
     "output_type": "stream",
     "text": [
      "C:\\Users\\User\\Anaconda3\\lib\\site-packages\\sklearn\\ensemble\\forest.py:246: FutureWarning: The default value of n_estimators will change from 10 in version 0.20 to 100 in 0.22.\n",
      "  \"10 in version 0.20 to 100 in 0.22.\", FutureWarning)\n"
     ]
    }
   ],
   "source": [
    "rand2=RandomForestClassifier()\n",
    "rand2.fit(x1_train,y_train)\n",
    "y_rand2=rand2.predict(x1_test)\n",
    "acc=accuracy_score(y_test,y_rand2)\n",
    "print(\"accuracy is\",acc)"
   ]
  },
  {
   "cell_type": "code",
   "execution_count": 134,
   "metadata": {},
   "outputs": [
    {
     "name": "stdout",
     "output_type": "stream",
     "text": [
      "accuracy is 0.7281437125748503\n"
     ]
    }
   ],
   "source": [
    "randfine2=RandomForestClassifier(max_depth=100,n_estimators=100)\n",
    "randfine2.fit(x1_train,y_train)\n",
    "y_randfine2=randfine2.predict(x1_test)\n",
    "print(\"accuracy is\",accuracy_score(y_test,y_randfine2))"
   ]
  },
  {
   "cell_type": "markdown",
   "metadata": {},
   "source": [
    "# 5.Gradient Boosting"
   ]
  },
  {
   "cell_type": "code",
   "execution_count": 135,
   "metadata": {},
   "outputs": [
    {
     "name": "stdout",
     "output_type": "stream",
     "text": [
      "accuracy is 0.6047904191616766\n"
     ]
    }
   ],
   "source": [
    "grad2=GradientBoostingClassifier()\n",
    "grad2.fit(x1_train,y_train)\n",
    "y_grad2=grad2.predict(x1_test)\n",
    "acc=accuracy_score(y_test,y_grad2)\n",
    "print(\"accuracy is\",acc)"
   ]
  },
  {
   "cell_type": "markdown",
   "metadata": {},
   "source": [
    "# 6.Extreme Gradient Boosting"
   ]
  },
  {
   "cell_type": "code",
   "execution_count": 136,
   "metadata": {},
   "outputs": [
    {
     "name": "stdout",
     "output_type": "stream",
     "text": [
      "accuracy is 0.5832335329341317\n"
     ]
    }
   ],
   "source": [
    "extr2=XGBClassifier()\n",
    "extr2.fit(x1_train,y_train)\n",
    "y_extr2=extr2.predict(x1_test)\n",
    "acc=accuracy_score(y_test,y_extr2)\n",
    "print(\"accuracy is\",acc)"
   ]
  },
  {
   "cell_type": "markdown",
   "metadata": {},
   "source": [
    "# 7.Bernoulli Naive Bayes"
   ]
  },
  {
   "cell_type": "code",
   "execution_count": 137,
   "metadata": {},
   "outputs": [
    {
     "name": "stdout",
     "output_type": "stream",
     "text": [
      "accuracy is 0.26467065868263473\n"
     ]
    }
   ],
   "source": [
    "BNB2=BernoulliNB()\n",
    "BNB2.fit(x1_train,y_train)\n",
    "y_bnb2=BNB2.predict(x1_test)\n",
    "acc=accuracy_score(y_test,y_bnb2)\n",
    "print(\"accuracy is\",acc)"
   ]
  },
  {
   "cell_type": "markdown",
   "metadata": {},
   "source": [
    "# MinMax Scaling"
   ]
  },
  {
   "cell_type": "code",
   "execution_count": 138,
   "metadata": {},
   "outputs": [
    {
     "name": "stderr",
     "output_type": "stream",
     "text": [
      "C:\\Users\\User\\Anaconda3\\lib\\site-packages\\sklearn\\preprocessing\\data.py:334: DataConversionWarning: Data with input dtype int32, int64 were all converted to float64 by MinMaxScaler.\n",
      "  return self.partial_fit(X, y)\n"
     ]
    }
   ],
   "source": [
    "from sklearn.preprocessing import MinMaxScaler\n",
    "minmax1=MinMaxScaler()\n",
    "x2=minmax1.fit_transform(x2)\n",
    "x2_train,x2_test,y_train,y_test=train_test_split(x2,y,test_size=0.1,random_state=42)"
   ]
  },
  {
   "cell_type": "markdown",
   "metadata": {},
   "source": [
    "# 1.Logistic Regression"
   ]
  },
  {
   "cell_type": "code",
   "execution_count": 139,
   "metadata": {},
   "outputs": [
    {
     "name": "stdout",
     "output_type": "stream",
     "text": [
      "0.4658682634730539\n"
     ]
    },
    {
     "name": "stderr",
     "output_type": "stream",
     "text": [
      "C:\\Users\\User\\Anaconda3\\lib\\site-packages\\sklearn\\linear_model\\logistic.py:433: FutureWarning: Default solver will be changed to 'lbfgs' in 0.22. Specify a solver to silence this warning.\n",
      "  FutureWarning)\n",
      "C:\\Users\\User\\Anaconda3\\lib\\site-packages\\sklearn\\linear_model\\logistic.py:460: FutureWarning: Default multi_class will be changed to 'auto' in 0.22. Specify the multi_class option to silence this warning.\n",
      "  \"this warning.\", FutureWarning)\n"
     ]
    }
   ],
   "source": [
    "logic3=LogisticRegression()\n",
    "logic3.fit(x2_train,y_train)\n",
    "y_logic3=logic3.predict(x2_test)\n",
    "print(accuracy_score(y_test,y_logic3))"
   ]
  },
  {
   "cell_type": "markdown",
   "metadata": {},
   "source": [
    "# 2.KNN"
   ]
  },
  {
   "cell_type": "code",
   "execution_count": 140,
   "metadata": {},
   "outputs": [
    {
     "name": "stdout",
     "output_type": "stream",
     "text": [
      "accuracy is 0.6167664670658682\n"
     ]
    }
   ],
   "source": [
    "classifier3=KNeighborsClassifier(n_neighbors=5, metric='minkowski')\n",
    "classifier3.fit(x2_train,y_train)\n",
    "y_pred3=classifier3.predict(x2_test)\n",
    "acc=accuracy_score(y_test,y_pred3)\n",
    "print(\"accuracy is\",acc)"
   ]
  },
  {
   "cell_type": "markdown",
   "metadata": {},
   "source": [
    "# 3.SVM"
   ]
  },
  {
   "cell_type": "markdown",
   "metadata": {},
   "source": [
    "# a.Linear SVM"
   ]
  },
  {
   "cell_type": "code",
   "execution_count": 141,
   "metadata": {},
   "outputs": [
    {
     "name": "stdout",
     "output_type": "stream",
     "text": [
      "accuracy is 0.4215568862275449\n"
     ]
    }
   ],
   "source": [
    "support3=LinearSVC()\n",
    "support3.fit(x2_train,y_train)\n",
    "y_support3=support3.predict(x2_test)\n",
    "acc=accuracy_score(y_test,y_support3)\n",
    "print(\"accuracy is\",acc)"
   ]
  },
  {
   "cell_type": "markdown",
   "metadata": {},
   "source": [
    "# b.RBF"
   ]
  },
  {
   "cell_type": "code",
   "execution_count": 142,
   "metadata": {},
   "outputs": [
    {
     "name": "stderr",
     "output_type": "stream",
     "text": [
      "C:\\Users\\User\\Anaconda3\\lib\\site-packages\\sklearn\\svm\\base.py:196: FutureWarning: The default value of gamma will change from 'auto' to 'scale' in version 0.22 to account better for unscaled features. Set gamma explicitly to 'auto' or 'scale' to avoid this warning.\n",
      "  \"avoid this warning.\", FutureWarning)\n"
     ]
    },
    {
     "name": "stdout",
     "output_type": "stream",
     "text": [
      "accuracy is 0.4215568862275449\n"
     ]
    }
   ],
   "source": [
    "supportrbf3=SVC(kernel='rbf')\n",
    "supportrbf3.fit(x2_train,y_train)\n",
    "y_supportrbf3=supportrbf3.predict(x2_test)\n",
    "acc=accuracy_score(y_test,y_support3)\n",
    "print(\"accuracy is\",acc)"
   ]
  },
  {
   "cell_type": "markdown",
   "metadata": {},
   "source": [
    "# 4.Decision Tree"
   ]
  },
  {
   "cell_type": "code",
   "execution_count": 143,
   "metadata": {},
   "outputs": [
    {
     "name": "stdout",
     "output_type": "stream",
     "text": [
      "accuracy is 0.7305389221556886\n"
     ]
    }
   ],
   "source": [
    "decision3=DecisionTreeClassifier()\n",
    "decision3.fit(x2_train,y_train)\n",
    "y_decision3=decision3.predict(x2_test)\n",
    "acc=accuracy_score(y_test,y_decision3)\n",
    "print(\"accuracy is\",acc)"
   ]
  },
  {
   "cell_type": "code",
   "execution_count": 144,
   "metadata": {},
   "outputs": [
    {
     "name": "stdout",
     "output_type": "stream",
     "text": [
      "accuracy is 0.7305389221556886\n"
     ]
    }
   ],
   "source": [
    "decisionfine3=DecisionTreeClassifier(max_depth=100,random_state=42)\n",
    "decisionfine3.fit(x2_train,y_train)\n",
    "y_decisionfine3=decisionfine3.predict(x2_test)\n",
    "acc=accuracy_score(y_test,y_decisionfine3)\n",
    "print(\"accuracy is\",acc)"
   ]
  },
  {
   "cell_type": "markdown",
   "metadata": {},
   "source": [
    "# 5.Random Forest"
   ]
  },
  {
   "cell_type": "code",
   "execution_count": 145,
   "metadata": {},
   "outputs": [
    {
     "name": "stdout",
     "output_type": "stream",
     "text": [
      "accuracy is 0.7065868263473054\n"
     ]
    },
    {
     "name": "stderr",
     "output_type": "stream",
     "text": [
      "C:\\Users\\User\\Anaconda3\\lib\\site-packages\\sklearn\\ensemble\\forest.py:246: FutureWarning: The default value of n_estimators will change from 10 in version 0.20 to 100 in 0.22.\n",
      "  \"10 in version 0.20 to 100 in 0.22.\", FutureWarning)\n"
     ]
    }
   ],
   "source": [
    "rand3=RandomForestClassifier()\n",
    "rand3.fit(x2_train,y_train)\n",
    "y_rand3=rand3.predict(x2_test)\n",
    "acc=accuracy_score(y_test,y_rand3)\n",
    "print(\"accuracy is\",acc)"
   ]
  },
  {
   "cell_type": "code",
   "execution_count": 146,
   "metadata": {},
   "outputs": [
    {
     "name": "stdout",
     "output_type": "stream",
     "text": [
      "accuracy is 0.732934131736527\n"
     ]
    }
   ],
   "source": [
    "randfine3=RandomForestClassifier(max_depth=100,n_estimators=100)\n",
    "randfine3.fit(x2_train,y_train)\n",
    "y_randfine3=randfine3.predict(x2_test)\n",
    "print(\"accuracy is\",accuracy_score(y_test,y_randfine3))"
   ]
  },
  {
   "cell_type": "markdown",
   "metadata": {},
   "source": [
    "# 6.Gradient Boosting"
   ]
  },
  {
   "cell_type": "code",
   "execution_count": 147,
   "metadata": {},
   "outputs": [
    {
     "name": "stdout",
     "output_type": "stream",
     "text": [
      "accuracy is 0.5844311377245509\n"
     ]
    }
   ],
   "source": [
    "grad3=GradientBoostingClassifier()\n",
    "grad3.fit(x2_train,y_train)\n",
    "y_grad3=grad3.predict(x2_test)\n",
    "acc=accuracy_score(y_test,y_grad3)\n",
    "print(\"accuracy is\",acc)"
   ]
  },
  {
   "cell_type": "markdown",
   "metadata": {},
   "source": [
    "# 7.Extreme Gradient Boosting"
   ]
  },
  {
   "cell_type": "code",
   "execution_count": 148,
   "metadata": {},
   "outputs": [
    {
     "name": "stdout",
     "output_type": "stream",
     "text": [
      "accuracy is 0.578443113772455\n"
     ]
    }
   ],
   "source": [
    "extr3=XGBClassifier()\n",
    "extr3.fit(x2_train,y_train)\n",
    "y_extr3=extr3.predict(x2_test)\n",
    "acc=accuracy_score(y_test,y_extr3)\n",
    "print(\"accuracy is\",acc)"
   ]
  },
  {
   "cell_type": "markdown",
   "metadata": {},
   "source": [
    "# 8.Bernoulli Naive Bayes"
   ]
  },
  {
   "cell_type": "code",
   "execution_count": 149,
   "metadata": {},
   "outputs": [
    {
     "name": "stdout",
     "output_type": "stream",
     "text": [
      "accuracy is 0.3568862275449102\n"
     ]
    }
   ],
   "source": [
    "BNB3=BernoulliNB()\n",
    "BNB3.fit(x2_train,y_train)\n",
    "y_bnb3=BNB3.predict(x2_test)\n",
    "acc=accuracy_score(y_test,y_bnb3)\n",
    "print(\"accuracy is\",acc)"
   ]
  },
  {
   "cell_type": "markdown",
   "metadata": {},
   "source": [
    "# Conclusion:The best model to classify the side effects of the drug is Random forest Classification model without any scaling."
   ]
  },
  {
   "cell_type": "markdown",
   "metadata": {},
   "source": [
    "# Evaluating model"
   ]
  },
  {
   "cell_type": "code",
   "execution_count": 150,
   "metadata": {},
   "outputs": [
    {
     "data": {
      "text/plain": [
       "mild side effects              216\n",
       "no side effects                212\n",
       "moderate side effects          199\n",
       "extreme severe side effects    117\n",
       "severe side effects             91\n",
       "Name: Effectiveness, dtype: int64"
      ]
     },
     "execution_count": 150,
     "metadata": {},
     "output_type": "execute_result"
    }
   ],
   "source": [
    "y_test.value_counts()"
   ]
  },
  {
   "cell_type": "code",
   "execution_count": 151,
   "metadata": {},
   "outputs": [],
   "source": [
    "df=pd.DataFrame({\"y_predicted\": y_randfine,\"original\":y_test})"
   ]
  },
  {
   "cell_type": "code",
   "execution_count": 152,
   "metadata": {},
   "outputs": [
    {
     "data": {
      "text/html": [
       "<div>\n",
       "<style scoped>\n",
       "    .dataframe tbody tr th:only-of-type {\n",
       "        vertical-align: middle;\n",
       "    }\n",
       "\n",
       "    .dataframe tbody tr th {\n",
       "        vertical-align: top;\n",
       "    }\n",
       "\n",
       "    .dataframe thead th {\n",
       "        text-align: right;\n",
       "    }\n",
       "</style>\n",
       "<table border=\"1\" class=\"dataframe\">\n",
       "  <thead>\n",
       "    <tr style=\"text-align: right;\">\n",
       "      <th>original</th>\n",
       "      <th>extreme severe side effects</th>\n",
       "      <th>mild side effects</th>\n",
       "      <th>moderate side effects</th>\n",
       "      <th>no side effects</th>\n",
       "      <th>severe side effects</th>\n",
       "    </tr>\n",
       "    <tr>\n",
       "      <th>y_predicted</th>\n",
       "      <th></th>\n",
       "      <th></th>\n",
       "      <th></th>\n",
       "      <th></th>\n",
       "      <th></th>\n",
       "    </tr>\n",
       "  </thead>\n",
       "  <tbody>\n",
       "    <tr>\n",
       "      <th>extreme severe side effects</th>\n",
       "      <td>88</td>\n",
       "      <td>5</td>\n",
       "      <td>13</td>\n",
       "      <td>5</td>\n",
       "      <td>8</td>\n",
       "    </tr>\n",
       "    <tr>\n",
       "      <th>mild side effects</th>\n",
       "      <td>7</td>\n",
       "      <td>150</td>\n",
       "      <td>23</td>\n",
       "      <td>16</td>\n",
       "      <td>10</td>\n",
       "    </tr>\n",
       "    <tr>\n",
       "      <th>moderate side effects</th>\n",
       "      <td>10</td>\n",
       "      <td>26</td>\n",
       "      <td>147</td>\n",
       "      <td>14</td>\n",
       "      <td>11</td>\n",
       "    </tr>\n",
       "    <tr>\n",
       "      <th>no side effects</th>\n",
       "      <td>9</td>\n",
       "      <td>30</td>\n",
       "      <td>10</td>\n",
       "      <td>174</td>\n",
       "      <td>5</td>\n",
       "    </tr>\n",
       "    <tr>\n",
       "      <th>severe side effects</th>\n",
       "      <td>3</td>\n",
       "      <td>5</td>\n",
       "      <td>6</td>\n",
       "      <td>3</td>\n",
       "      <td>57</td>\n",
       "    </tr>\n",
       "  </tbody>\n",
       "</table>\n",
       "</div>"
      ],
      "text/plain": [
       "original                     extreme severe side effects  mild side effects  \\\n",
       "y_predicted                                                                   \n",
       "extreme severe side effects                           88                  5   \n",
       "mild side effects                                      7                150   \n",
       "moderate side effects                                 10                 26   \n",
       "no side effects                                        9                 30   \n",
       "severe side effects                                    3                  5   \n",
       "\n",
       "original                     moderate side effects  no side effects  \\\n",
       "y_predicted                                                           \n",
       "extreme severe side effects                     13                5   \n",
       "mild side effects                               23               16   \n",
       "moderate side effects                          147               14   \n",
       "no side effects                                 10              174   \n",
       "severe side effects                              6                3   \n",
       "\n",
       "original                     severe side effects  \n",
       "y_predicted                                       \n",
       "extreme severe side effects                    8  \n",
       "mild side effects                             10  \n",
       "moderate side effects                         11  \n",
       "no side effects                                5  \n",
       "severe side effects                           57  "
      ]
     },
     "execution_count": 152,
     "metadata": {},
     "output_type": "execute_result"
    }
   ],
   "source": [
    "pd.crosstab(df[\"y_predicted\"],df[\"original\"])"
   ]
  },
  {
   "cell_type": "code",
   "execution_count": 153,
   "metadata": {},
   "outputs": [
    {
     "name": "stdout",
     "output_type": "stream",
     "text": [
      "[[0.60303571 0.02       0.03       0.         0.34696429]\n",
      " [0.77905952 0.         0.01       0.         0.21094048]\n",
      " [0.77905952 0.         0.01       0.         0.21094048]\n",
      " ...\n",
      " [0.77905952 0.         0.01       0.         0.21094048]\n",
      " [0.46481349 0.01       0.03       0.01       0.48518651]\n",
      " [0.9        0.         0.035      0.         0.065     ]]\n"
     ]
    }
   ],
   "source": [
    "predictions=randfine.predict_proba(x_test)\n",
    "print(predictions)"
   ]
  },
  {
   "cell_type": "markdown",
   "metadata": {},
   "source": [
    "# Feature importances"
   ]
  },
  {
   "cell_type": "code",
   "execution_count": 154,
   "metadata": {},
   "outputs": [
    {
     "data": {
      "text/plain": [
       "Satisfaction    31.064613\n",
       "UsefulCount     26.619162\n",
       "EaseofUse       19.253479\n",
       "Age             15.166941\n",
       "Condition        4.588808\n",
       "Sex              3.306997\n",
       "dtype: float64"
      ]
     },
     "execution_count": 154,
     "metadata": {},
     "output_type": "execute_result"
    }
   ],
   "source": [
    "pd.Series(randfine.feature_importances_,index=['Age', 'Condition', 'EaseofUse', 'Satisfaction', 'Sex',\n",
    "       'UsefulCount']).sort_values(ascending=False)*100"
   ]
  },
  {
   "cell_type": "markdown",
   "metadata": {},
   "source": [
    "# Satisfaction of patients"
   ]
  },
  {
   "cell_type": "code",
   "execution_count": 155,
   "metadata": {},
   "outputs": [
    {
     "data": {
      "text/plain": [
       "1    34.539789\n",
       "5    20.805369\n",
       "3    17.114094\n",
       "4    15.484180\n",
       "2    12.056568\n",
       "Name: Satisfaction, dtype: float64"
      ]
     },
     "execution_count": 155,
     "metadata": {},
     "output_type": "execute_result"
    }
   ],
   "source": [
    "data[\"Satisfaction\"].value_counts()/len(data[\"Satisfaction\"])*100"
   ]
  },
  {
   "cell_type": "code",
   "execution_count": 156,
   "metadata": {},
   "outputs": [
    {
     "data": {
      "text/plain": [
       "7     27.756472\n",
       "6     25.934803\n",
       "8     18.192713\n",
       "5     12.440077\n",
       "10     7.790029\n",
       "3      3.930968\n",
       "4      3.163950\n",
       "2      0.671141\n",
       "1      0.071908\n",
       "9      0.023969\n",
       "0      0.023969\n",
       "Name: Age, dtype: float64"
      ]
     },
     "execution_count": 156,
     "metadata": {},
     "output_type": "execute_result"
    }
   ],
   "source": [
    "data[\"Age\"].value_counts()/len(data[\"Age\"])*100"
   ]
  },
  {
   "cell_type": "code",
   "execution_count": 157,
   "metadata": {},
   "outputs": [
    {
     "data": {
      "text/plain": [
       "Index(['Age', 'Condition', 'EaseofUse', 'Effectiveness', 'Satisfaction', 'Sex',\n",
       "       'UsefulCount'],\n",
       "      dtype='object')"
      ]
     },
     "execution_count": 157,
     "metadata": {},
     "output_type": "execute_result"
    }
   ],
   "source": [
    "data.columns"
   ]
  },
  {
   "cell_type": "code",
   "execution_count": 158,
   "metadata": {},
   "outputs": [
    {
     "data": {
      "text/plain": [
       "5    49.232982\n",
       "4    23.897411\n",
       "3    13.063279\n",
       "1     9.539789\n",
       "2     4.266539\n",
       "Name: EaseofUse, dtype: float64"
      ]
     },
     "execution_count": 158,
     "metadata": {},
     "output_type": "execute_result"
    }
   ],
   "source": [
    "data[\"EaseofUse\"].value_counts()/len(data[\"EaseofUse\"])*100"
   ]
  },
  {
   "cell_type": "markdown",
   "metadata": {},
   "source": [
    "Conclusion:-The Drug Lisinopril solution is widely used for lowering blood pressure.The drug is mostly used by age group\n",
    "    45-64.Among them,50-55% have no or mild side effects.From the data analysis,it is observed that only 20% patients are\n",
    "    satisfied with this drug.Mostly females are taking this drug.The side effect of the drug is best modeled by Random   Forest Classifier"
   ]
  },
  {
   "cell_type": "code",
   "execution_count": null,
   "metadata": {},
   "outputs": [],
   "source": []
  }
 ],
 "metadata": {
  "kernelspec": {
   "display_name": "Python 3",
   "language": "python",
   "name": "python3"
  },
  "language_info": {
   "codemirror_mode": {
    "name": "ipython",
    "version": 3
   },
   "file_extension": ".py",
   "mimetype": "text/x-python",
   "name": "python",
   "nbconvert_exporter": "python",
   "pygments_lexer": "ipython3",
   "version": "3.7.3"
  }
 },
 "nbformat": 4,
 "nbformat_minor": 2
}
