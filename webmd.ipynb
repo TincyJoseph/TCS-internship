{
 "cells": [
  {
   "cell_type": "code",
   "execution_count": 1,
   "metadata": {},
   "outputs": [],
   "source": [
    "import numpy as np\n",
    "import pandas as pd\n",
    "import matplotlib.pyplot as plt\n",
    "import seaborn as sns"
   ]
  },
  {
   "cell_type": "code",
   "execution_count": 2,
   "metadata": {},
   "outputs": [],
   "source": [
    "data=pd.read_csv(r\"D:\\Tincy\\datascience\\tcs_ion\\webmd.csv\\webmd.csv\")"
   ]
  },
  {
   "cell_type": "code",
   "execution_count": 3,
   "metadata": {},
   "outputs": [
    {
     "data": {
      "text/html": [
       "<div>\n",
       "<style scoped>\n",
       "    .dataframe tbody tr th:only-of-type {\n",
       "        vertical-align: middle;\n",
       "    }\n",
       "\n",
       "    .dataframe tbody tr th {\n",
       "        vertical-align: top;\n",
       "    }\n",
       "\n",
       "    .dataframe thead th {\n",
       "        text-align: right;\n",
       "    }\n",
       "</style>\n",
       "<table border=\"1\" class=\"dataframe\">\n",
       "  <thead>\n",
       "    <tr style=\"text-align: right;\">\n",
       "      <th></th>\n",
       "      <th>Age</th>\n",
       "      <th>Condition</th>\n",
       "      <th>Date</th>\n",
       "      <th>Drug</th>\n",
       "      <th>DrugId</th>\n",
       "      <th>EaseofUse</th>\n",
       "      <th>Effectiveness</th>\n",
       "      <th>Reviews</th>\n",
       "      <th>Satisfaction</th>\n",
       "      <th>Sex</th>\n",
       "      <th>Sides</th>\n",
       "      <th>UsefulCount</th>\n",
       "    </tr>\n",
       "  </thead>\n",
       "  <tbody>\n",
       "    <tr>\n",
       "      <th>0</th>\n",
       "      <td>75 or over</td>\n",
       "      <td>Stuffy Nose</td>\n",
       "      <td>9/21/2014</td>\n",
       "      <td>25dph-7.5peh</td>\n",
       "      <td>146724</td>\n",
       "      <td>5</td>\n",
       "      <td>5</td>\n",
       "      <td>I'm a retired physician and of all the meds I ...</td>\n",
       "      <td>5</td>\n",
       "      <td>Male</td>\n",
       "      <td>Drowsiness,  dizziness ,  dry mouth /nose/thro...</td>\n",
       "      <td>0</td>\n",
       "    </tr>\n",
       "    <tr>\n",
       "      <th>1</th>\n",
       "      <td>25-34</td>\n",
       "      <td>Cold Symptoms</td>\n",
       "      <td>1/13/2011</td>\n",
       "      <td>25dph-7.5peh</td>\n",
       "      <td>146724</td>\n",
       "      <td>5</td>\n",
       "      <td>5</td>\n",
       "      <td>cleared me right up even with my throat hurtin...</td>\n",
       "      <td>5</td>\n",
       "      <td>Female</td>\n",
       "      <td>Drowsiness,  dizziness ,  dry mouth /nose/thro...</td>\n",
       "      <td>1</td>\n",
       "    </tr>\n",
       "    <tr>\n",
       "      <th>2</th>\n",
       "      <td>65-74</td>\n",
       "      <td>Other</td>\n",
       "      <td>7/16/2012</td>\n",
       "      <td>warfarin (bulk) 100 % powder</td>\n",
       "      <td>144731</td>\n",
       "      <td>2</td>\n",
       "      <td>3</td>\n",
       "      <td>why did my PTINR go from a normal of 2.5 to ov...</td>\n",
       "      <td>3</td>\n",
       "      <td>Female</td>\n",
       "      <td></td>\n",
       "      <td>0</td>\n",
       "    </tr>\n",
       "    <tr>\n",
       "      <th>3</th>\n",
       "      <td>75 or over</td>\n",
       "      <td>Other</td>\n",
       "      <td>9/23/2010</td>\n",
       "      <td>warfarin (bulk) 100 % powder</td>\n",
       "      <td>144731</td>\n",
       "      <td>2</td>\n",
       "      <td>2</td>\n",
       "      <td>FALLING AND DON'T REALISE IT</td>\n",
       "      <td>1</td>\n",
       "      <td>Female</td>\n",
       "      <td></td>\n",
       "      <td>0</td>\n",
       "    </tr>\n",
       "    <tr>\n",
       "      <th>4</th>\n",
       "      <td>35-44</td>\n",
       "      <td>Other</td>\n",
       "      <td>1/6/2009</td>\n",
       "      <td>warfarin (bulk) 100 % powder</td>\n",
       "      <td>144731</td>\n",
       "      <td>1</td>\n",
       "      <td>1</td>\n",
       "      <td>My grandfather was prescribed this medication ...</td>\n",
       "      <td>1</td>\n",
       "      <td>Male</td>\n",
       "      <td></td>\n",
       "      <td>1</td>\n",
       "    </tr>\n",
       "  </tbody>\n",
       "</table>\n",
       "</div>"
      ],
      "text/plain": [
       "          Age      Condition       Date                          Drug  DrugId  \\\n",
       "0  75 or over    Stuffy Nose  9/21/2014                  25dph-7.5peh  146724   \n",
       "1       25-34  Cold Symptoms  1/13/2011                  25dph-7.5peh  146724   \n",
       "2       65-74          Other  7/16/2012  warfarin (bulk) 100 % powder  144731   \n",
       "3  75 or over          Other  9/23/2010  warfarin (bulk) 100 % powder  144731   \n",
       "4       35-44          Other   1/6/2009  warfarin (bulk) 100 % powder  144731   \n",
       "\n",
       "   EaseofUse  Effectiveness  \\\n",
       "0          5              5   \n",
       "1          5              5   \n",
       "2          2              3   \n",
       "3          2              2   \n",
       "4          1              1   \n",
       "\n",
       "                                             Reviews  Satisfaction     Sex  \\\n",
       "0  I'm a retired physician and of all the meds I ...             5    Male   \n",
       "1  cleared me right up even with my throat hurtin...             5  Female   \n",
       "2  why did my PTINR go from a normal of 2.5 to ov...             3  Female   \n",
       "3                       FALLING AND DON'T REALISE IT             1  Female   \n",
       "4  My grandfather was prescribed this medication ...             1    Male   \n",
       "\n",
       "                                               Sides  UsefulCount  \n",
       "0  Drowsiness,  dizziness ,  dry mouth /nose/thro...            0  \n",
       "1  Drowsiness,  dizziness ,  dry mouth /nose/thro...            1  \n",
       "2                                                               0  \n",
       "3                                                               0  \n",
       "4                                                               1  "
      ]
     },
     "execution_count": 3,
     "metadata": {},
     "output_type": "execute_result"
    }
   ],
   "source": [
    "data.head()"
   ]
  },
  {
   "cell_type": "code",
   "execution_count": 4,
   "metadata": {},
   "outputs": [
    {
     "data": {
      "text/plain": [
       "(362806, 12)"
      ]
     },
     "execution_count": 4,
     "metadata": {},
     "output_type": "execute_result"
    }
   ],
   "source": [
    "data.shape"
   ]
  },
  {
   "cell_type": "code",
   "execution_count": 5,
   "metadata": {},
   "outputs": [
    {
     "name": "stdout",
     "output_type": "stream",
     "text": [
      "<class 'pandas.core.frame.DataFrame'>\n",
      "RangeIndex: 362806 entries, 0 to 362805\n",
      "Data columns (total 12 columns):\n",
      "Age              362806 non-null object\n",
      "Condition        362806 non-null object\n",
      "Date             362806 non-null object\n",
      "Drug             362806 non-null object\n",
      "DrugId           362806 non-null int64\n",
      "EaseofUse        362806 non-null int64\n",
      "Effectiveness    362806 non-null int64\n",
      "Reviews          362769 non-null object\n",
      "Satisfaction     362806 non-null int64\n",
      "Sex              362806 non-null object\n",
      "Sides            362806 non-null object\n",
      "UsefulCount      362806 non-null int64\n",
      "dtypes: int64(5), object(7)\n",
      "memory usage: 33.2+ MB\n"
     ]
    }
   ],
   "source": [
    "data.info()"
   ]
  },
  {
   "cell_type": "code",
   "execution_count": 6,
   "metadata": {},
   "outputs": [
    {
     "data": {
      "text/html": [
       "<div>\n",
       "<style scoped>\n",
       "    .dataframe tbody tr th:only-of-type {\n",
       "        vertical-align: middle;\n",
       "    }\n",
       "\n",
       "    .dataframe tbody tr th {\n",
       "        vertical-align: top;\n",
       "    }\n",
       "\n",
       "    .dataframe thead th {\n",
       "        text-align: right;\n",
       "    }\n",
       "</style>\n",
       "<table border=\"1\" class=\"dataframe\">\n",
       "  <thead>\n",
       "    <tr style=\"text-align: right;\">\n",
       "      <th></th>\n",
       "      <th>DrugId</th>\n",
       "      <th>EaseofUse</th>\n",
       "      <th>Effectiveness</th>\n",
       "      <th>Satisfaction</th>\n",
       "      <th>UsefulCount</th>\n",
       "    </tr>\n",
       "  </thead>\n",
       "  <tbody>\n",
       "    <tr>\n",
       "      <th>count</th>\n",
       "      <td>362806.000000</td>\n",
       "      <td>362806.000000</td>\n",
       "      <td>362806.000000</td>\n",
       "      <td>362806.000000</td>\n",
       "      <td>362806.000000</td>\n",
       "    </tr>\n",
       "    <tr>\n",
       "      <th>mean</th>\n",
       "      <td>36879.370774</td>\n",
       "      <td>4.019829</td>\n",
       "      <td>3.532061</td>\n",
       "      <td>3.135408</td>\n",
       "      <td>6.744916</td>\n",
       "    </tr>\n",
       "    <tr>\n",
       "      <th>std</th>\n",
       "      <td>52624.412971</td>\n",
       "      <td>1.317711</td>\n",
       "      <td>1.455961</td>\n",
       "      <td>1.611106</td>\n",
       "      <td>9.324240</td>\n",
       "    </tr>\n",
       "    <tr>\n",
       "      <th>min</th>\n",
       "      <td>1.000000</td>\n",
       "      <td>1.000000</td>\n",
       "      <td>1.000000</td>\n",
       "      <td>1.000000</td>\n",
       "      <td>0.000000</td>\n",
       "    </tr>\n",
       "    <tr>\n",
       "      <th>25%</th>\n",
       "      <td>4896.000000</td>\n",
       "      <td>3.000000</td>\n",
       "      <td>3.000000</td>\n",
       "      <td>1.000000</td>\n",
       "      <td>1.000000</td>\n",
       "    </tr>\n",
       "    <tr>\n",
       "      <th>50%</th>\n",
       "      <td>9548.000000</td>\n",
       "      <td>5.000000</td>\n",
       "      <td>4.000000</td>\n",
       "      <td>3.000000</td>\n",
       "      <td>4.000000</td>\n",
       "    </tr>\n",
       "    <tr>\n",
       "      <th>75%</th>\n",
       "      <td>63522.000000</td>\n",
       "      <td>5.000000</td>\n",
       "      <td>5.000000</td>\n",
       "      <td>5.000000</td>\n",
       "      <td>9.000000</td>\n",
       "    </tr>\n",
       "    <tr>\n",
       "      <th>max</th>\n",
       "      <td>178546.000000</td>\n",
       "      <td>10.000000</td>\n",
       "      <td>10.000000</td>\n",
       "      <td>10.000000</td>\n",
       "      <td>255.000000</td>\n",
       "    </tr>\n",
       "  </tbody>\n",
       "</table>\n",
       "</div>"
      ],
      "text/plain": [
       "              DrugId      EaseofUse  Effectiveness   Satisfaction  \\\n",
       "count  362806.000000  362806.000000  362806.000000  362806.000000   \n",
       "mean    36879.370774       4.019829       3.532061       3.135408   \n",
       "std     52624.412971       1.317711       1.455961       1.611106   \n",
       "min         1.000000       1.000000       1.000000       1.000000   \n",
       "25%      4896.000000       3.000000       3.000000       1.000000   \n",
       "50%      9548.000000       5.000000       4.000000       3.000000   \n",
       "75%     63522.000000       5.000000       5.000000       5.000000   \n",
       "max    178546.000000      10.000000      10.000000      10.000000   \n",
       "\n",
       "         UsefulCount  \n",
       "count  362806.000000  \n",
       "mean        6.744916  \n",
       "std         9.324240  \n",
       "min         0.000000  \n",
       "25%         1.000000  \n",
       "50%         4.000000  \n",
       "75%         9.000000  \n",
       "max       255.000000  "
      ]
     },
     "execution_count": 6,
     "metadata": {},
     "output_type": "execute_result"
    }
   ],
   "source": [
    "data.describe()"
   ]
  },
  {
   "cell_type": "code",
   "execution_count": 7,
   "metadata": {},
   "outputs": [
    {
     "data": {
      "text/plain": [
       "Index(['Age', 'Condition', 'Date', 'Drug', 'DrugId', 'EaseofUse',\n",
       "       'Effectiveness', 'Reviews', 'Satisfaction', 'Sex', 'Sides',\n",
       "       'UsefulCount'],\n",
       "      dtype='object')"
      ]
     },
     "execution_count": 7,
     "metadata": {},
     "output_type": "execute_result"
    }
   ],
   "source": [
    "data.columns"
   ]
  },
  {
   "cell_type": "code",
   "execution_count": 8,
   "metadata": {},
   "outputs": [
    {
     "data": {
      "text/plain": [
       "6572"
      ]
     },
     "execution_count": 8,
     "metadata": {},
     "output_type": "execute_result"
    }
   ],
   "source": [
    "data.DrugId.nunique()"
   ]
  },
  {
   "cell_type": "code",
   "execution_count": 9,
   "metadata": {},
   "outputs": [
    {
     "data": {
      "text/plain": [
       "6873      8538\n",
       "1025      7868\n",
       "6007      7728\n",
       "4398      5864\n",
       "14208     5451\n",
       "11285     5097\n",
       "91491     4648\n",
       "14494     4296\n",
       "9845      4156\n",
       "63990     4134\n",
       "251       3944\n",
       "4896      3486\n",
       "2671      3411\n",
       "93965     3069\n",
       "8171      2860\n",
       "35        2662\n",
       "8486      2548\n",
       "327       2535\n",
       "4718      2446\n",
       "4151      2367\n",
       "1527      2340\n",
       "5173      2226\n",
       "8603      2224\n",
       "14403     2212\n",
       "1433      2172\n",
       "11188     2099\n",
       "20420     1762\n",
       "6997      1717\n",
       "63163     1704\n",
       "76851     1676\n",
       "          ... \n",
       "4009         1\n",
       "425          1\n",
       "154372       1\n",
       "14391        1\n",
       "170364       1\n",
       "11115        1\n",
       "16935        1\n",
       "8779         1\n",
       "58550        1\n",
       "64304        1\n",
       "88705        1\n",
       "63669        1\n",
       "151264       1\n",
       "5803         1\n",
       "91714        1\n",
       "13609        1\n",
       "155429       1\n",
       "151589       1\n",
       "158692       1\n",
       "167550       1\n",
       "64438        1\n",
       "8877         1\n",
       "2728         1\n",
       "5933         1\n",
       "157539       1\n",
       "78479        1\n",
       "14766        1\n",
       "165950       1\n",
       "8244         1\n",
       "18441        1\n",
       "Name: DrugId, Length: 6572, dtype: int64"
      ]
     },
     "execution_count": 9,
     "metadata": {},
     "output_type": "execute_result"
    }
   ],
   "source": [
    "data['DrugId'].value_counts()"
   ]
  },
  {
   "cell_type": "markdown",
   "metadata": {},
   "source": [
    "# Creating a dataset from the original dataset with the DrugId=6873,which occurs most number of times in the dataset"
   ]
  },
  {
   "cell_type": "code",
   "execution_count": 10,
   "metadata": {},
   "outputs": [],
   "source": [
    "data=data.drop(data.loc[(data['DrugId']!=6873)].index)"
   ]
  },
  {
   "cell_type": "code",
   "execution_count": 11,
   "metadata": {},
   "outputs": [
    {
     "data": {
      "text/plain": [
       "(8538, 12)"
      ]
     },
     "execution_count": 11,
     "metadata": {},
     "output_type": "execute_result"
    }
   ],
   "source": [
    "data.shape"
   ]
  },
  {
   "cell_type": "code",
   "execution_count": 12,
   "metadata": {},
   "outputs": [
    {
     "data": {
      "text/html": [
       "<div>\n",
       "<style scoped>\n",
       "    .dataframe tbody tr th:only-of-type {\n",
       "        vertical-align: middle;\n",
       "    }\n",
       "\n",
       "    .dataframe tbody tr th {\n",
       "        vertical-align: top;\n",
       "    }\n",
       "\n",
       "    .dataframe thead th {\n",
       "        text-align: right;\n",
       "    }\n",
       "</style>\n",
       "<table border=\"1\" class=\"dataframe\">\n",
       "  <thead>\n",
       "    <tr style=\"text-align: right;\">\n",
       "      <th></th>\n",
       "      <th>Age</th>\n",
       "      <th>Condition</th>\n",
       "      <th>Date</th>\n",
       "      <th>Drug</th>\n",
       "      <th>DrugId</th>\n",
       "      <th>EaseofUse</th>\n",
       "      <th>Effectiveness</th>\n",
       "      <th>Reviews</th>\n",
       "      <th>Satisfaction</th>\n",
       "      <th>Sex</th>\n",
       "      <th>Sides</th>\n",
       "      <th>UsefulCount</th>\n",
       "    </tr>\n",
       "  </thead>\n",
       "  <tbody>\n",
       "    <tr>\n",
       "      <th>9197</th>\n",
       "      <td></td>\n",
       "      <td>High Blood Pressure</td>\n",
       "      <td>2/29/2020</td>\n",
       "      <td>lisinopril solution</td>\n",
       "      <td>6873</td>\n",
       "      <td>5</td>\n",
       "      <td>5</td>\n",
       "      <td>No Script or health Insurance needed to place ...</td>\n",
       "      <td>5</td>\n",
       "      <td></td>\n",
       "      <td>Dizziness ,  lightheadedness , tiredness, or  ...</td>\n",
       "      <td>14</td>\n",
       "    </tr>\n",
       "    <tr>\n",
       "      <th>9203</th>\n",
       "      <td>75 or over</td>\n",
       "      <td>High Blood Pressure</td>\n",
       "      <td>2/8/2020</td>\n",
       "      <td>lisinopril solution</td>\n",
       "      <td>6873</td>\n",
       "      <td>5</td>\n",
       "      <td>4</td>\n",
       "      <td>I have developed a very itch rash on my body f...</td>\n",
       "      <td>4</td>\n",
       "      <td>Female</td>\n",
       "      <td>Dizziness ,  lightheadedness , tiredness, or  ...</td>\n",
       "      <td>3</td>\n",
       "    </tr>\n",
       "    <tr>\n",
       "      <th>9209</th>\n",
       "      <td>55-64</td>\n",
       "      <td>High Blood Pressure</td>\n",
       "      <td>1/14/2020</td>\n",
       "      <td>lisinopril solution</td>\n",
       "      <td>6873</td>\n",
       "      <td>4</td>\n",
       "      <td>5</td>\n",
       "      <td>tried alternative medicine Beet root, hibiscus...</td>\n",
       "      <td>4</td>\n",
       "      <td>Male</td>\n",
       "      <td>Dizziness ,  lightheadedness , tiredness, or  ...</td>\n",
       "      <td>3</td>\n",
       "    </tr>\n",
       "    <tr>\n",
       "      <th>9215</th>\n",
       "      <td>65-74</td>\n",
       "      <td>High Blood Pressure</td>\n",
       "      <td>10/17/2019</td>\n",
       "      <td>lisinopril solution</td>\n",
       "      <td>6873</td>\n",
       "      <td>5</td>\n",
       "      <td>5</td>\n",
       "      <td>Have been taking 10 mg doses per day for over ...</td>\n",
       "      <td>5</td>\n",
       "      <td>Male</td>\n",
       "      <td>Dizziness ,  lightheadedness , tiredness, or  ...</td>\n",
       "      <td>6</td>\n",
       "    </tr>\n",
       "    <tr>\n",
       "      <th>9221</th>\n",
       "      <td>55-64</td>\n",
       "      <td>High Blood Pressure</td>\n",
       "      <td>10/13/2019</td>\n",
       "      <td>lisinopril solution</td>\n",
       "      <td>6873</td>\n",
       "      <td>2</td>\n",
       "      <td>4</td>\n",
       "      <td>I don't like that I'm taking this and not know...</td>\n",
       "      <td>2</td>\n",
       "      <td>Male</td>\n",
       "      <td>Dizziness ,  lightheadedness , tiredness, or  ...</td>\n",
       "      <td>12</td>\n",
       "    </tr>\n",
       "  </tbody>\n",
       "</table>\n",
       "</div>"
      ],
      "text/plain": [
       "             Age            Condition        Date                 Drug  \\\n",
       "9197              High Blood Pressure   2/29/2020  lisinopril solution   \n",
       "9203  75 or over  High Blood Pressure    2/8/2020  lisinopril solution   \n",
       "9209       55-64  High Blood Pressure   1/14/2020  lisinopril solution   \n",
       "9215       65-74  High Blood Pressure  10/17/2019  lisinopril solution   \n",
       "9221       55-64  High Blood Pressure  10/13/2019  lisinopril solution   \n",
       "\n",
       "      DrugId  EaseofUse  Effectiveness  \\\n",
       "9197    6873          5              5   \n",
       "9203    6873          5              4   \n",
       "9209    6873          4              5   \n",
       "9215    6873          5              5   \n",
       "9221    6873          2              4   \n",
       "\n",
       "                                                Reviews  Satisfaction     Sex  \\\n",
       "9197  No Script or health Insurance needed to place ...             5           \n",
       "9203  I have developed a very itch rash on my body f...             4  Female   \n",
       "9209  tried alternative medicine Beet root, hibiscus...             4    Male   \n",
       "9215  Have been taking 10 mg doses per day for over ...             5    Male   \n",
       "9221  I don't like that I'm taking this and not know...             2    Male   \n",
       "\n",
       "                                                  Sides  UsefulCount  \n",
       "9197  Dizziness ,  lightheadedness , tiredness, or  ...           14  \n",
       "9203  Dizziness ,  lightheadedness , tiredness, or  ...            3  \n",
       "9209  Dizziness ,  lightheadedness , tiredness, or  ...            3  \n",
       "9215  Dizziness ,  lightheadedness , tiredness, or  ...            6  \n",
       "9221  Dizziness ,  lightheadedness , tiredness, or  ...           12  "
      ]
     },
     "execution_count": 12,
     "metadata": {},
     "output_type": "execute_result"
    }
   ],
   "source": [
    "data.head()"
   ]
  },
  {
   "cell_type": "markdown",
   "metadata": {},
   "source": [
    "# Now we have the dataset with details only about a particular drug.ie drug with id=6873.ie.Lisinopril solution"
   ]
  },
  {
   "cell_type": "code",
   "execution_count": 13,
   "metadata": {},
   "outputs": [
    {
     "data": {
      "text/plain": [
       "1"
      ]
     },
     "execution_count": 13,
     "metadata": {},
     "output_type": "execute_result"
    }
   ],
   "source": [
    "data.Sides.nunique()"
   ]
  },
  {
   "cell_type": "code",
   "execution_count": 14,
   "metadata": {},
   "outputs": [
    {
     "data": {
      "text/plain": [
       "Dizziness ,  lightheadedness , tiredness, or  headache  may occur as your body adjusts to the  medication . Dry  cough  may also occur.    8538\n",
       "Name: Sides, dtype: int64"
      ]
     },
     "execution_count": 14,
     "metadata": {},
     "output_type": "execute_result"
    }
   ],
   "source": [
    "data['Sides'].value_counts()"
   ]
  },
  {
   "cell_type": "code",
   "execution_count": 15,
   "metadata": {},
   "outputs": [
    {
     "data": {
      "text/plain": [
       "1    3036\n",
       "5    1740\n",
       "3    1442\n",
       "4    1296\n",
       "2    1024\n",
       "Name: Satisfaction, dtype: int64"
      ]
     },
     "execution_count": 15,
     "metadata": {},
     "output_type": "execute_result"
    }
   ],
   "source": [
    "data['Satisfaction'].value_counts()"
   ]
  },
  {
   "cell_type": "code",
   "execution_count": 16,
   "metadata": {},
   "outputs": [
    {
     "data": {
      "text/plain": [
       "                                                                                                                                                                                                                                                                                                                                                                                                                                                                                                                                                                                                                                                                                                     1562\n",
       "ok                                                                                                                                                                                                                                                                                                                                                                                                                                                                                                                                                                                                                                                                                                     10\n",
       "dizziness                                                                                                                                                                                                                                                                                                                                                                                                                                                                                                                                                                                                                                                                                               8\n",
       "cough                                                                                                                                                                                                                                                                                                                                                                                                                                                                                                                                                                                                                                                                                                   6\n",
       "I have been using this drug for over 10 years and my blood pressure usually runs 120/80 all of the time. It works great for me.                                                                                                                                                                                                                                                                                                                                                                                                                                                                                                                                                                         6\n",
       "my sympton started 2 yrs, ago with sore throat and tip of tongue feeling sore. two months ago it caused sinue pressure dry mucus membrane in nares.chest pressure,b/p 180/90.unable to bring b/p done. dr. added on chonidine for b/p >160/105.taking this drug all the time.then all my life medical problems kicked in gallbladder uti x3,intestial soreness with eating. cold from waist down.48 hrs. of whole body cold.was on cipro x2 but for 7 days only each.did help but came back.had my gallbladder removed for chronic cholestist. finally changed drs. i was having a allergic reaction from the me.meds. hctz,multivit.K+.cold sweats at night.placed on a different b/p medication       4\n",
       "high blood pressure                                                                                                                                                                                                                                                                                                                                                                                                                                                                                                                                                                                                                                                                                     4\n",
       "No problems                                                                                                                                                                                                                                                                                                                                                                                                                                                                                                                                                                                                                                                                                             4\n",
       "chronic cough                                                                                                                                                                                                                                                                                                                                                                                                                                                                                                                                                                                                                                                                                           4\n",
       "This medication lowered my blood pressure within the normal range. Around 122/67. I'm very satisfied with this medication.                                                                                                                                                                                                                                                                                                                                                                                                                                                                                                                                                                              4\n",
       "After about 6 mo. of taking lisinopryl I had terrifying spinning, could hardly get out of bed, dizziness,heaviness. Then dr. increased dose and still had problems.Also had anxiety, slight daily cough, difficulty in swallowing food. Went off it and within a week, after all med left body, I felt and still do feel much better. No other bp med and I'm in normal range. ALSO, flatulence gone by at least 50%. Was very disturbing and couldn't figure out what was causing that, but it appears that lisinopril was the culprit. I'll never take that med again!                                                                                                                                4\n",
       "hair loss                                                                                                                                                                                                                                                                                                                                                                                                                                                                                                                                                                                                                                                                                               4\n",
       "Been on this med for 2 months. Have had a persistent irritating cough only while asleep, to the point of gagging and even vomiting. It has really disrupted my sleep.  I didn't know it was this drug until I contacted my doctor. I am changing to a new drug and have looked it up and thankfully no side effects of coughing.                                                                                                                                                                                                                                                                                                                                                                        2\n",
       "Been on this drug for 3 months.  Since taking this drug I have had altered taste and sense of smell.  Has anyone else noticed this side effect?                                                                                                                                                                                                                                                                                                                                                                                                                                                                                                                                                         2\n",
       "BP STILL HIGH 150/100                                                                                                                                                                                                                                                                                                                                                                                                                                                                                                                                                                                                                                                                                   2\n",
       "restless leg\\n                                                                                                                                                                                                                                                                                                                                                                                                                                                                                                                                                                                                                                                                                          2\n",
       "I have always been borderline high with my blood pressure readings, so when I turned 55 - 2 years ago, my Doctor had me start taking a daily 20mg tablet.  No side effects at all and my blood pressure is always in the normal range now.  Very satisified with my results!                                                                                                                                                                                                                                                                                                                                                                                                                            2\n",
       "This medication caused a cough and muscle pain.  After several months it affected my sleep a lot.    I stopped taking the med and within 48 hours felt so much better.  My Dr. has prescribed something else at this point.                                                                                                                                                                                                                                                                                                                                                                                                                                                                             2\n",
       "I've been taking this for 8 years with no problem. This was the second BP med I tried, as I had a terrible reaction to calcium channel blocker. I also take spironolactone for acne, and get potassium levels checked every 3 months, and numbers have been fine for the past year (both drugs are potassium sparing).                                                                                                                                                                                                                                                                                                                                                                                  2\n",
       "I was really hoping this medication would be the answer to my high blood pressure. It did bring my blood pressure down but gave me a bad sinus infection and sore scratchy throat.I have had stomach cramps and loose stools. Not the best medicine.                                                                                                                                                                                                                                                                                                                                                                                                                                                    2\n",
       "I am a 63 year old female who started on Licinipril last week.  My blood pressure in the Dr's office was 154/82 & my BP is now 105/62.  I am extremely fatigued,  indigestion (belching) with stomach pain, heart palpitations, shortness of breath with the feeling that I can't get enough air into my lungs and it sometimes feels like there is a constricting band around my rib cage.  I called the Dr regarding the low BP reading and he said that if the systolic drops below 100 to call him and the drug does not cause fatigue.  I will call him today and ask for an alternative medication.                                                                                               2\n",
       "I take a combination of this med, Lisinopril and topral, It seems to work OK for a short time in the AM then in the PM my blood pressure goes way down, sometimes around 88 over 54, and I become extremely larthagic, is there a different med I can take that would keep me around the normal range without having these bouts of low low pressure? Also, I,m taking Zitia for Cholestorol                                                                                                                                                                                                                                                                                                            2\n",
       "Have had the cough for awhile, and have now developed severe sinus congestion, have been tired and achy joints, too.  Stopped taking it!                                                                                                                                                                                                                                                                                                                                                                                                                                                                                                                                                                2\n",
       "this is a good medication for treating high blood pressure.i am very please to take it                                                                                                                                                                                                                                                                                                                                                                                                                                                                                                                                                                                                                  2\n",
       "My Husband was taking a name brand high blod pressure medicine, and we werrent getting very good results. When his Dr. switched him to Lisinopril, mostly because of the MAJOR decrease in price, we immediatly saw results. His BP is now down in the normal range, and its staying there.                                                                                                                                                                                                                                                                                                                                                                                                             2\n",
       "Take one and a half tabs of this drug daily. [30 MG total] Blood pressure remains consistently elevated. [Not too high, 180/90 range.] Is their other meds that would be more effective?                                                                                                                                                                                                                                                                                                                                                                                                                                                                                                                2\n",
       "Have been taking 10 mg for six weeks.  Very light-headed and dizzy.  Afraid to leave my house alone for fear of falling/fainting.  Have also developed dry cough. BP only slightly lower.                                                                                                                                                                                                                                                                                                                                                                                                                                                                                                               2\n",
       "I am on sixth day of this along with amlodipine and I have experienced horrible side effects from both.  swelling, fatigue, just feel awful - and I didn't before.  my nurse said I was a stroke risk!  My BP always goes up when I am nervous anyway, I didn't like clonidine, so they gave me these 2 (amlodipine/lisinopril).  I will not take it another day.  I am sick and tired of feeling sick and tired!                                                                                                                                                                                                                                                                                       2\n",
       "High BP diagnosed 1 year ago. Atenolol didn't work, next will try Benicar.\\nDay 1 lightheaded, day 2 fine, day 3 stomach and pms-like cramps, can't eat, day 4 get fever blister, can't eat, day 5 lips swell, still can't eat, quit and call doctor. \\nI am the picture of health: weight right, eat right, exercise, pray, but genetics too hard to overcome. Thanks Mom.                                                                                                                                                                                                                                                                                                                             2\n",
       "THIS MEDICINE CAUSED ME TO HAVE EXTREME HEART POUNDING. AT TIMES I THOUGHT FOR SURE I WAS HAVEING A HEART ATTACK.                                                                                                                                                                                                                                                                                                                                                                                                                                                                                                                                                                                       2\n",
       "                                                                                                                                                                                                                                                                                                                                                                                                                                                                                                                                                                                                                                                                                                     ... \n",
       "I don't like that I'm taking this and not knowing why my BP is suddenly 20-25 pts higher. I was having headaches before and this has worsened them. Also have feeling of a feather in my throat. Don't think I'll be continuing this.                                                                                                                                                                                                                                                                                                                                                                                                                                                                   2\n",
       "I have noticed increased tingly numbness in my fingers and heavyness in my arms.  Pain at night in fingers wakes me up.  Almost feels like fibromayalgia in my hands.  Tightness in my hands continues off and on during the day.  Any one having these issues?  Blood pressure has come down from the 160's to 124 so working on that.                                                                                                                                                                                                                                                                                                                                                                 2\n",
       "After taking this medication for many years I had two be rushed two the hospital suffering from a potentialy alergic reaction                                                                                                                                                                                                                                                                                                                                                                                                                                                                                                                                                                           2\n",
       "works well except it leaves a nagging cough as a side effect...a tickle that makes one cough I should say.                                                                                                                                                                                                                                                                                                                                                                                                                                                                                                                                                                                              2\n",
       "I am also taking Hydrochlorothiazide.  I don't know which one is making me cough.  Maybe both.                                                                                                                                                                                                                                                                                                                                                                                                                                                                                                                                                                                                          2\n",
       "i have just started this medication                                                                                                                                                                                                                                                                                                                                                                                                                                                                                                                                                                                                                                                                     2\n",
       "I just started on this medication for 3 days now. MY BP has come down some but not low enough yet to be as effective as I would like yet.  I take it with another BP medication.  Does anyone take it with another medication or taken alone.                                                                                                                                                                                                                                                                                                                                                                                                                                                           2\n",
       "has controlled my hypertension but I developed a chronic cough for the first several months of taking the drug. Being a little slow on the uptake I didn't equate the cough with the drug but after my wife began taking the same drug and developing the same cough I put 2 and 2 together.                                                                                                                                                                                                                                                                                                                                                                                                            2\n",
       "fatiuge                                                                                                                                                                                                                                                                                                                                                                                                                                                                                                                                                                                                                                                                                                 2\n",
       "I'm 51 Started taking Lisinopril 2wks.ago started  feeling strange legs cramps,hands,shoulders, neck,arms,and alot in hip at night. Not much sleep at night.Lower BP then I need.                                                                                                                                                                                                                                                                                                                                                                                                                                                                                                                       2\n",
       "severe allergic reaction                                                                                                                                                                                                                                                                                                                                                                                                                                                                                                                                                                                                                                                                                2\n",
       "kept having bad headaches                                                                                                                                                                                                                                                                                                                                                                                                                                                                                                                                                                                                                                                                               2\n",
       "Ihave had no problems with the medication since taking it for about 10 years .                                                                                                                                                                                                                                                                                                                                                                                                                                                                                                                                                                                                                          2\n",
       "My blood pressure stays close to 128/82 with this medicine.                                                                                                                                                                                                                                                                                                                                                                                                                                                                                                                                                                                                                                             2\n",
       "Easy to use, very little side effects. Great drug                                                                                                                                                                                                                                                                                                                                                                                                                                                                                                                                                                                                                                                       2\n",
       "I have been sick for three months.  Swollen throat, dizziness, headache, knee pain, back pain, abdominal pain, heart palpitations, shortness of breath, muscular pain, insomnia, nasal congestion and blurred vision.  I have been sent for test after test and finally figured out it's this lisinopril and will call my doc and make her take me off of it.                                                                                                                                                                                                                                                                                                                                           2\n",
       "to yank65 yes this drug is in the class of ACE inhibitors, I am one day off the med and no panic attacks today and am feeling quite normal                                                                                                                                                                                                                                                                                                                                                                                                                                                                                                                                                              2\n",
       "I am NOT happy taking this drug.  I do NOT believe I have high blood pressure and my doctor just gives out pills like candy.  It is not right!  I am looking for a new doctor.                                                                                                                                                                                                                                                                                                                                                                                                                                                                                                                          2\n",
       "Worst prescription drug EVER!!! 6 months of HELL! Not just for me but many of my friends that were on it! 40 and feeling like your 90 something. Swollen tongue..could barely talk...exhausted like I ran 50 marathons every day. Sore throat that never went away no matter what I did. I thought my life was over. 2 days after going off it felt like a million dollars! NEVER ever again! Stay away from this one.                                                                                                                                                                                                                                                                                  2\n",
       "blood pressure goes up and down.                                                                                                                                                                                                                                                                                                                                                                                                                                                                                                                                                                                                                                                                        2\n",
       "Hae.hate.hate this medication. Even though my doctor told me I would get a dry cough, it turned out to be much worst. The phlegm was horrible and I would cough so much I would get a head-ache.Coughing in front of my students is not good and makes them and myself worry. If you are on this medication and coughing is a problem, ask to be switched to something different                                                                                                                                                                                                                                                                                                                        2\n",
       "This medicine also gave me a terrible cough that went away when I was switched.  Also, I had terrible pain in my hands. I did not realize this pain was also due to this medication until I was off it for a week. The cough is gone and my hand pain is now minimal.                                                                                                                                                                                                                                                                                                                                                                                                                                   2\n",
       "i had open heart surgery w/5 by-passes in may of 2007.....i am taking 40 mg's of it once a day in conjunction with metoporal to regulate high pressure...have'n really noticed any abnormal symptoms by using it                                                                                                                                                                                                                                                                                                                                                                                                                                                                                        2\n",
       "Have not been on the medication for very long\\n                                                                                                                                                                                                                                                                                                                                                                                                                                                                                                                                                                                                                                                         2\n",
       "Has not helped to bring it down                                                                                                                                                                                                                                                                                                                                                                                                                                                                                                                                                                                                                                                                         2\n",
       "I never imagined that this little pill could be so effective, so far, in helping to keep my blood pressure in the normal range                                                                                                                                                                                                                                                                                                                                                                                                                                                                                                                                                                          2\n",
       "Starting having headaches so bad it was hard to go to sleep.(I take med at bedtime) I couldn't figure out why, and by process of elimination, I figured out its this medication. I won't be taking this anymore.                                                                                                                                                                                                                                                                                                                                                                                                                                                                                        2\n",
       "i have been on lisinopril for a month. Lisinopril, 10mg, works, but there is a dry cough i can't seem to shake. oh and diarrhea. i had body aces the 1st couple of weeks, but that cleared up. when i lay down now, my little finger and ring finger go to sleep. it happens all the time. going to my doctor for evauation of the lisinopril.                                                                                                                                                                                                                                                                                                                                                          2\n",
       "How can you stop the cough side effect?                                                                                                                                                                                                                                                                                                                                                                                                                                                                                                                                                                                                                                                                 2\n",
       "some dizziness                                                                                                                                                                                                                                                                                                                                                                                                                                                                                                                                                                                                                                                                                          2\n",
       "Name: Reviews, Length: 3469, dtype: int64"
      ]
     },
     "execution_count": 16,
     "metadata": {},
     "output_type": "execute_result"
    }
   ],
   "source": [
    "data['Reviews'].value_counts()"
   ]
  },
  {
   "cell_type": "markdown",
   "metadata": {},
   "source": [
    "# Data Cleaning"
   ]
  },
  {
   "cell_type": "code",
   "execution_count": 17,
   "metadata": {},
   "outputs": [
    {
     "name": "stdout",
     "output_type": "stream",
     "text": [
      "<class 'pandas.core.frame.DataFrame'>\n",
      "Int64Index: 8538 entries, 9197 to 18992\n",
      "Data columns (total 12 columns):\n",
      "Age              8538 non-null object\n",
      "Condition        8538 non-null object\n",
      "Date             8538 non-null object\n",
      "Drug             8538 non-null object\n",
      "DrugId           8538 non-null int64\n",
      "EaseofUse        8538 non-null int64\n",
      "Effectiveness    8538 non-null int64\n",
      "Reviews          8534 non-null object\n",
      "Satisfaction     8538 non-null int64\n",
      "Sex              8538 non-null object\n",
      "Sides            8538 non-null object\n",
      "UsefulCount      8538 non-null int64\n",
      "dtypes: int64(5), object(7)\n",
      "memory usage: 867.1+ KB\n"
     ]
    }
   ],
   "source": [
    "data.info()"
   ]
  },
  {
   "cell_type": "markdown",
   "metadata": {},
   "source": [
    "#Now we have data describing side effect of Lisinopril solution.Reviews column contains 3469 different entries.Also side effect are same.So we can drop date,drug,DrugId,Sides,Reviews columns"
   ]
  },
  {
   "cell_type": "markdown",
   "metadata": {},
   "source": [
    "# The severity of side effect can be obtained from  Effectiveness"
   ]
  },
  {
   "cell_type": "code",
   "execution_count": 18,
   "metadata": {},
   "outputs": [],
   "source": [
    "data=data.drop(['Date','Drug','DrugId','Sides','Reviews'],axis=1)"
   ]
  },
  {
   "cell_type": "code",
   "execution_count": 19,
   "metadata": {},
   "outputs": [
    {
     "name": "stdout",
     "output_type": "stream",
     "text": [
      "<class 'pandas.core.frame.DataFrame'>\n",
      "Int64Index: 8538 entries, 9197 to 18992\n",
      "Data columns (total 7 columns):\n",
      "Age              8538 non-null object\n",
      "Condition        8538 non-null object\n",
      "EaseofUse        8538 non-null int64\n",
      "Effectiveness    8538 non-null int64\n",
      "Satisfaction     8538 non-null int64\n",
      "Sex              8538 non-null object\n",
      "UsefulCount      8538 non-null int64\n",
      "dtypes: int64(4), object(3)\n",
      "memory usage: 533.6+ KB\n"
     ]
    }
   ],
   "source": [
    "data.info()"
   ]
  },
  {
   "cell_type": "code",
   "execution_count": 20,
   "metadata": {},
   "outputs": [
    {
     "data": {
      "text/plain": [
       "Age              0\n",
       "Condition        0\n",
       "EaseofUse        0\n",
       "Effectiveness    0\n",
       "Satisfaction     0\n",
       "Sex              0\n",
       "UsefulCount      0\n",
       "dtype: int64"
      ]
     },
     "execution_count": 20,
     "metadata": {},
     "output_type": "execute_result"
    }
   ],
   "source": [
    "data.isna().sum()"
   ]
  },
  {
   "cell_type": "markdown",
   "metadata": {},
   "source": [
    "# Checking for outliers"
   ]
  },
  {
   "cell_type": "code",
   "execution_count": 21,
   "metadata": {},
   "outputs": [
    {
     "data": {
      "image/png": "[encoded data removed]",
      "text/plain": [
       "<Figure size 1152x720 with 4 Axes>"
      ]
     },
     "metadata": {
      "needs_background": "light"
     },
     "output_type": "display_data"
    }
   ],
   "source": [
    "plt.figure(figsize=(16,10))\n",
    "\n",
    "plt.subplot(2,2,1)\n",
    "plt.boxplot(data[\"EaseofUse\"])\n",
    "\n",
    "plt.subplot(2,2,2)\n",
    "plt.boxplot(data[\"Effectiveness\"])\n",
    "\n",
    "plt.subplot(2,2,3)\n",
    "plt.boxplot(data[\"Satisfaction\"])\n",
    "\n",
    "plt.subplot(2,2,4)\n",
    "plt.boxplot(data[\"UsefulCount\"])\n",
    "\n",
    "plt.show()\n"
   ]
  },
  {
   "cell_type": "markdown",
   "metadata": {},
   "source": [
    "There are outliers in \"Useful count\""
   ]
  },
  {
   "cell_type": "code",
   "execution_count": 22,
   "metadata": {},
   "outputs": [],
   "source": [
    "Q1=np.percentile(data[\"UsefulCount\"],25,interpolation=\"midpoint\")\n",
    "Q3=np.percentile(data[\"UsefulCount\"],75,interpolation=\"midpoint\")\n",
    "IQR=Q3-Q1\n",
    "low=Q1-(1.5*IQR)\n",
    "upper=Q3+(1.5*IQR)"
   ]
  },
  {
   "cell_type": "code",
   "execution_count": 23,
   "metadata": {},
   "outputs": [],
   "source": [
    "data=data.drop(data.loc[data[\"UsefulCount\"]>upper].index)"
   ]
  },
  {
   "cell_type": "code",
   "execution_count": 24,
   "metadata": {},
   "outputs": [
    {
     "data": {
      "text/plain": [
       "{'whiskers': [<matplotlib.lines.Line2D at 0x1c606c17748>,\n",
       "  <matplotlib.lines.Line2D at 0x1c606c17a90>],\n",
       " 'caps': [<matplotlib.lines.Line2D at 0x1c606c17dd8>,\n",
       "  <matplotlib.lines.Line2D at 0x1c606c17eb8>],\n",
       " 'boxes': [<matplotlib.lines.Line2D at 0x1c606c17320>],\n",
       " 'medians': [<matplotlib.lines.Line2D at 0x1c606c204a8>],\n",
       " 'fliers': [<matplotlib.lines.Line2D at 0x1c606c207f0>],\n",
       " 'means': []}"
      ]
     },
     "execution_count": 24,
     "metadata": {},
     "output_type": "execute_result"
    },
    {
     "data": {
      "image/png": "[encoded data removed]",
      "text/plain": [
       "<Figure size 432x288 with 1 Axes>"
      ]
     },
     "metadata": {
      "needs_background": "light"
     },
     "output_type": "display_data"
    }
   ],
   "source": [
    "plt.boxplot(data[\"UsefulCount\"])"
   ]
  },
  {
   "cell_type": "code",
   "execution_count": 25,
   "metadata": {},
   "outputs": [
    {
     "data": {
      "text/plain": [
       "(8344, 7)"
      ]
     },
     "execution_count": 25,
     "metadata": {},
     "output_type": "execute_result"
    }
   ],
   "source": [
    "data.shape"
   ]
  },
  {
   "cell_type": "markdown",
   "metadata": {},
   "source": [
    "# Check the correlation"
   ]
  },
  {
   "cell_type": "code",
   "execution_count": 26,
   "metadata": {},
   "outputs": [
    {
     "data": {
      "text/plain": [
       "<matplotlib.axes._subplots.AxesSubplot at 0x1c606c32208>"
      ]
     },
     "execution_count": 26,
     "metadata": {},
     "output_type": "execute_result"
    },
    {
     "data": {
      "image/png": "[encoded data removed]",
      "text/plain": [
       "<Figure size 1152x576 with 2 Axes>"
      ]
     },
     "metadata": {
      "needs_background": "light"
     },
     "output_type": "display_data"
    }
   ],
   "source": [
    "corrmatrix = data.corr()\n",
    "plt.subplots(figsize=(16,8))\n",
    "sns.heatmap(corrmatrix,vmin=-0.4 , vmax=0.9, annot=True, cmap='YlGnBu' , linewidth=0.2)"
   ]
  },
  {
   "cell_type": "markdown",
   "metadata": {},
   "source": [
    "Very low correlation.So we cannot drop features"
   ]
  },
  {
   "cell_type": "code",
   "execution_count": 27,
   "metadata": {},
   "outputs": [
    {
     "data": {
      "text/plain": [
       "5    2212\n",
       "4    2170\n",
       "3    1852\n",
       "1    1278\n",
       "2     832\n",
       "Name: Effectiveness, dtype: int64"
      ]
     },
     "execution_count": 27,
     "metadata": {},
     "output_type": "execute_result"
    }
   ],
   "source": [
    "data['Effectiveness'].value_counts()"
   ]
  },
  {
   "cell_type": "code",
   "execution_count": 28,
   "metadata": {},
   "outputs": [
    {
     "data": {
      "image/png": "[encoded data removed]",
      "text/plain": [
       "<Figure size 432x288 with 1 Axes>"
      ]
     },
     "metadata": {},
     "output_type": "display_data"
    }
   ],
   "source": [
    "sns.set(style=\"darkgrid\")\n",
    "ax = sns.countplot(x='Effectiveness',  data=data)\n",
    "plt.show()"
   ]
  },
  {
   "cell_type": "code",
   "execution_count": 29,
   "metadata": {},
   "outputs": [
    {
     "data": {
      "text/plain": [
       "55-64         2316\n",
       "45-54         2164\n",
       "65-74         1518\n",
       "35-44         1038\n",
       "75 or over     650\n",
       "25-34          328\n",
       "               264\n",
       "19-24           56\n",
       "13-18            6\n",
       "7-12             2\n",
       "0-2              2\n",
       "Name: Age, dtype: int64"
      ]
     },
     "execution_count": 29,
     "metadata": {},
     "output_type": "execute_result"
    }
   ],
   "source": [
    "data['Age'].value_counts()"
   ]
  },
  {
   "cell_type": "code",
   "execution_count": 30,
   "metadata": {},
   "outputs": [],
   "source": [
    "data['Age'].replace(to_replace = [' '], value = '3-6', inplace = True)"
   ]
  },
  {
   "cell_type": "code",
   "execution_count": 31,
   "metadata": {},
   "outputs": [
    {
     "data": {
      "text/html": [
       "<div>\n",
       "<style scoped>\n",
       "    .dataframe tbody tr th:only-of-type {\n",
       "        vertical-align: middle;\n",
       "    }\n",
       "\n",
       "    .dataframe tbody tr th {\n",
       "        vertical-align: top;\n",
       "    }\n",
       "\n",
       "    .dataframe thead th {\n",
       "        text-align: right;\n",
       "    }\n",
       "</style>\n",
       "<table border=\"1\" class=\"dataframe\">\n",
       "  <thead>\n",
       "    <tr style=\"text-align: right;\">\n",
       "      <th></th>\n",
       "      <th>Age</th>\n",
       "      <th>Condition</th>\n",
       "      <th>EaseofUse</th>\n",
       "      <th>Effectiveness</th>\n",
       "      <th>Satisfaction</th>\n",
       "      <th>Sex</th>\n",
       "      <th>UsefulCount</th>\n",
       "    </tr>\n",
       "  </thead>\n",
       "  <tbody>\n",
       "    <tr>\n",
       "      <th>9197</th>\n",
       "      <td>3-6</td>\n",
       "      <td>High Blood Pressure</td>\n",
       "      <td>5</td>\n",
       "      <td>5</td>\n",
       "      <td>5</td>\n",
       "      <td></td>\n",
       "      <td>14</td>\n",
       "    </tr>\n",
       "    <tr>\n",
       "      <th>9203</th>\n",
       "      <td>75 or over</td>\n",
       "      <td>High Blood Pressure</td>\n",
       "      <td>5</td>\n",
       "      <td>4</td>\n",
       "      <td>4</td>\n",
       "      <td>Female</td>\n",
       "      <td>3</td>\n",
       "    </tr>\n",
       "    <tr>\n",
       "      <th>9209</th>\n",
       "      <td>55-64</td>\n",
       "      <td>High Blood Pressure</td>\n",
       "      <td>4</td>\n",
       "      <td>5</td>\n",
       "      <td>4</td>\n",
       "      <td>Male</td>\n",
       "      <td>3</td>\n",
       "    </tr>\n",
       "    <tr>\n",
       "      <th>9215</th>\n",
       "      <td>65-74</td>\n",
       "      <td>High Blood Pressure</td>\n",
       "      <td>5</td>\n",
       "      <td>5</td>\n",
       "      <td>5</td>\n",
       "      <td>Male</td>\n",
       "      <td>6</td>\n",
       "    </tr>\n",
       "    <tr>\n",
       "      <th>9221</th>\n",
       "      <td>55-64</td>\n",
       "      <td>High Blood Pressure</td>\n",
       "      <td>2</td>\n",
       "      <td>4</td>\n",
       "      <td>2</td>\n",
       "      <td>Male</td>\n",
       "      <td>12</td>\n",
       "    </tr>\n",
       "  </tbody>\n",
       "</table>\n",
       "</div>"
      ],
      "text/plain": [
       "             Age            Condition  EaseofUse  Effectiveness  Satisfaction  \\\n",
       "9197         3-6  High Blood Pressure          5              5             5   \n",
       "9203  75 or over  High Blood Pressure          5              4             4   \n",
       "9209       55-64  High Blood Pressure          4              5             4   \n",
       "9215       65-74  High Blood Pressure          5              5             5   \n",
       "9221       55-64  High Blood Pressure          2              4             2   \n",
       "\n",
       "         Sex  UsefulCount  \n",
       "9197                   14  \n",
       "9203  Female            3  \n",
       "9209    Male            3  \n",
       "9215    Male            6  \n",
       "9221    Male           12  "
      ]
     },
     "execution_count": 31,
     "metadata": {},
     "output_type": "execute_result"
    }
   ],
   "source": [
    "data.head()"
   ]
  },
  {
   "cell_type": "code",
   "execution_count": 32,
   "metadata": {},
   "outputs": [
    {
     "data": {
      "image/png": "[encoded data removed]",
      "text/plain": [
       "<Figure size 432x288 with 1 Axes>"
      ]
     },
     "metadata": {},
     "output_type": "display_data"
    }
   ],
   "source": [
    "sns.set(style=\"darkgrid\")\n",
    "ax = sns.countplot(x='Age',  data=data)\n",
    "plt.xticks(rotation=45)\n",
    "plt.show()"
   ]
  },
  {
   "cell_type": "code",
   "execution_count": 33,
   "metadata": {},
   "outputs": [
    {
     "data": {
      "image/png": "[encoded data removed]",
      "text/plain": [
       "<Figure size 432x288 with 1 Axes>"
      ]
     },
     "metadata": {},
     "output_type": "display_data"
    }
   ],
   "source": [
    "sns.set(style=\"darkgrid\")\n",
    "ax = sns.countplot(x='Condition',  data=data)\n",
    "plt.xticks(rotation=90)\n",
    "plt.show()"
   ]
  },
  {
   "cell_type": "code",
   "execution_count": 34,
   "metadata": {},
   "outputs": [
    {
     "data": {
      "text/plain": [
       "Female    4648\n",
       "Male      3232\n",
       "           464\n",
       "Name: Sex, dtype: int64"
      ]
     },
     "execution_count": 34,
     "metadata": {},
     "output_type": "execute_result"
    }
   ],
   "source": [
    "data[\"Sex\"].value_counts()"
   ]
  },
  {
   "cell_type": "code",
   "execution_count": 35,
   "metadata": {},
   "outputs": [],
   "source": [
    "data['Sex'].replace(to_replace = [' '], value = 'Female', inplace = True)"
   ]
  },
  {
   "cell_type": "code",
   "execution_count": 36,
   "metadata": {},
   "outputs": [
    {
     "data": {
      "text/html": [
       "<div>\n",
       "<style scoped>\n",
       "    .dataframe tbody tr th:only-of-type {\n",
       "        vertical-align: middle;\n",
       "    }\n",
       "\n",
       "    .dataframe tbody tr th {\n",
       "        vertical-align: top;\n",
       "    }\n",
       "\n",
       "    .dataframe thead th {\n",
       "        text-align: right;\n",
       "    }\n",
       "</style>\n",
       "<table border=\"1\" class=\"dataframe\">\n",
       "  <thead>\n",
       "    <tr style=\"text-align: right;\">\n",
       "      <th></th>\n",
       "      <th>Age</th>\n",
       "      <th>Condition</th>\n",
       "      <th>EaseofUse</th>\n",
       "      <th>Effectiveness</th>\n",
       "      <th>Satisfaction</th>\n",
       "      <th>Sex</th>\n",
       "      <th>UsefulCount</th>\n",
       "    </tr>\n",
       "  </thead>\n",
       "  <tbody>\n",
       "    <tr>\n",
       "      <th>9197</th>\n",
       "      <td>3-6</td>\n",
       "      <td>High Blood Pressure</td>\n",
       "      <td>5</td>\n",
       "      <td>5</td>\n",
       "      <td>5</td>\n",
       "      <td>Female</td>\n",
       "      <td>14</td>\n",
       "    </tr>\n",
       "    <tr>\n",
       "      <th>9203</th>\n",
       "      <td>75 or over</td>\n",
       "      <td>High Blood Pressure</td>\n",
       "      <td>5</td>\n",
       "      <td>4</td>\n",
       "      <td>4</td>\n",
       "      <td>Female</td>\n",
       "      <td>3</td>\n",
       "    </tr>\n",
       "    <tr>\n",
       "      <th>9209</th>\n",
       "      <td>55-64</td>\n",
       "      <td>High Blood Pressure</td>\n",
       "      <td>4</td>\n",
       "      <td>5</td>\n",
       "      <td>4</td>\n",
       "      <td>Male</td>\n",
       "      <td>3</td>\n",
       "    </tr>\n",
       "    <tr>\n",
       "      <th>9215</th>\n",
       "      <td>65-74</td>\n",
       "      <td>High Blood Pressure</td>\n",
       "      <td>5</td>\n",
       "      <td>5</td>\n",
       "      <td>5</td>\n",
       "      <td>Male</td>\n",
       "      <td>6</td>\n",
       "    </tr>\n",
       "    <tr>\n",
       "      <th>9221</th>\n",
       "      <td>55-64</td>\n",
       "      <td>High Blood Pressure</td>\n",
       "      <td>2</td>\n",
       "      <td>4</td>\n",
       "      <td>2</td>\n",
       "      <td>Male</td>\n",
       "      <td>12</td>\n",
       "    </tr>\n",
       "  </tbody>\n",
       "</table>\n",
       "</div>"
      ],
      "text/plain": [
       "             Age            Condition  EaseofUse  Effectiveness  Satisfaction  \\\n",
       "9197         3-6  High Blood Pressure          5              5             5   \n",
       "9203  75 or over  High Blood Pressure          5              4             4   \n",
       "9209       55-64  High Blood Pressure          4              5             4   \n",
       "9215       65-74  High Blood Pressure          5              5             5   \n",
       "9221       55-64  High Blood Pressure          2              4             2   \n",
       "\n",
       "         Sex  UsefulCount  \n",
       "9197  Female           14  \n",
       "9203  Female            3  \n",
       "9209    Male            3  \n",
       "9215    Male            6  \n",
       "9221    Male           12  "
      ]
     },
     "execution_count": 36,
     "metadata": {},
     "output_type": "execute_result"
    }
   ],
   "source": [
    "data.head()"
   ]
  },
  {
   "cell_type": "code",
   "execution_count": 37,
   "metadata": {},
   "outputs": [
    {
     "data": {
      "image/png": "[encoded data removed]",
      "text/plain": [
       "<Figure size 432x288 with 1 Axes>"
      ]
     },
     "metadata": {},
     "output_type": "display_data"
    }
   ],
   "source": [
    "sns.set(style=\"darkgrid\")\n",
    "ax = sns.countplot(x='Sex',  data=data)\n",
    "plt.show()"
   ]
  },
  {
   "cell_type": "markdown",
   "metadata": {},
   "source": [
    "# Changing index:Making it ranging from  0 to 8343"
   ]
  },
  {
   "cell_type": "code",
   "execution_count": 38,
   "metadata": {},
   "outputs": [],
   "source": [
    "list2=list(range(8344))"
   ]
  },
  {
   "cell_type": "code",
   "execution_count": 39,
   "metadata": {},
   "outputs": [],
   "source": [
    "data=data.set_index([list2])"
   ]
  },
  {
   "cell_type": "markdown",
   "metadata": {},
   "source": [
    "# Label Encoding"
   ]
  },
  {
   "cell_type": "code",
   "execution_count": null,
   "metadata": {},
   "outputs": [],
   "source": [
    "from sklearn.preprocessing import LabelEncoder\n",
    "label=LabelEncoder()\n",
    "for col in [\"Age\",\"Condition\",\"Sex\"]:\n",
    "    data[col]=label.fit_transform(data[col])"
   ]
  },
  {
   "cell_type": "code",
   "execution_count": null,
   "metadata": {},
   "outputs": [],
   "source": [
    "data.head()"
   ]
  },
  {
   "cell_type": "code",
   "execution_count": null,
   "metadata": {},
   "outputs": [],
   "source": [
    "y=data['Effectiveness']\n",
    "x=data.drop(['Effectiveness'],axis=1)"
   ]
  },
  {
   "cell_type": "code",
   "execution_count": null,
   "metadata": {},
   "outputs": [],
   "source": [
    "from sklearn.model_selection import train_test_split\n",
    "x_train,x_test,y_train,y_test=train_test_split(x,y,random_state=42,test_size=0.3)"
   ]
  },
  {
   "cell_type": "code",
   "execution_count": null,
   "metadata": {},
   "outputs": [],
   "source": []
  }
 ],
 "metadata": {
  "kernelspec": {
   "display_name": "Python 3",
   "language": "python",
   "name": "python3"
  },
  "language_info": {
   "codemirror_mode": {
    "name": "ipython",
    "version": 3
   },
   "file_extension": ".py",
   "mimetype": "text/x-python",
   "name": "python",
   "nbconvert_exporter": "python",
   "pygments_lexer": "ipython3",
   "version": "3.7.3"
  }
 },
 "nbformat": 4,
 "nbformat_minor": 2
}
